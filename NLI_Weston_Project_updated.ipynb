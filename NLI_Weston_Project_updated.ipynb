{
  "nbformat": 4,
  "nbformat_minor": 0,
  "metadata": {
    "accelerator": "GPU",
    "colab": {
      "name": "NLI - Weston Project ",
      "provenance": [],
      "collapsed_sections": []
    },
    "kernelspec": {
      "display_name": "Python 3",
      "name": "python3"
    },
    "widgets": {
      "application/vnd.jupyter.widget-state+json": {
        "332960efa1244b6587a97ffc4fc7afc3": {
          "model_module": "@jupyter-widgets/controls",
          "model_name": "HBoxModel",
          "state": {
            "_view_name": "HBoxView",
            "_dom_classes": [],
            "_model_name": "HBoxModel",
            "_view_module": "@jupyter-widgets/controls",
            "_model_module_version": "1.5.0",
            "_view_count": null,
            "_view_module_version": "1.5.0",
            "box_style": "",
            "layout": "IPY_MODEL_f68d8846a1284af6b89108bfc1d5ad29",
            "_model_module": "@jupyter-widgets/controls",
            "children": [
              "IPY_MODEL_c7977b6872004ddfbef579a38b964b56",
              "IPY_MODEL_adbfdae5b56e44f6821cc3133df0672a"
            ]
          }
        },
        "f68d8846a1284af6b89108bfc1d5ad29": {
          "model_module": "@jupyter-widgets/base",
          "model_name": "LayoutModel",
          "state": {
            "_view_name": "LayoutView",
            "grid_template_rows": null,
            "right": null,
            "justify_content": null,
            "_view_module": "@jupyter-widgets/base",
            "overflow": null,
            "_model_module_version": "1.2.0",
            "_view_count": null,
            "flex_flow": null,
            "width": null,
            "min_width": null,
            "border": null,
            "align_items": null,
            "bottom": null,
            "_model_module": "@jupyter-widgets/base",
            "top": null,
            "grid_column": null,
            "overflow_y": null,
            "overflow_x": null,
            "grid_auto_flow": null,
            "grid_area": null,
            "grid_template_columns": null,
            "flex": null,
            "_model_name": "LayoutModel",
            "justify_items": null,
            "grid_row": null,
            "max_height": null,
            "align_content": null,
            "visibility": null,
            "align_self": null,
            "height": null,
            "min_height": null,
            "padding": null,
            "grid_auto_rows": null,
            "grid_gap": null,
            "max_width": null,
            "order": null,
            "_view_module_version": "1.2.0",
            "grid_template_areas": null,
            "object_position": null,
            "object_fit": null,
            "grid_auto_columns": null,
            "margin": null,
            "display": null,
            "left": null
          }
        },
        "c7977b6872004ddfbef579a38b964b56": {
          "model_module": "@jupyter-widgets/controls",
          "model_name": "FloatProgressModel",
          "state": {
            "_view_name": "ProgressView",
            "style": "IPY_MODEL_9acce08951cc4799a6154913ed8123e1",
            "_dom_classes": [],
            "description": "Downloading: 100%",
            "_model_name": "FloatProgressModel",
            "bar_style": "success",
            "max": 734,
            "_view_module": "@jupyter-widgets/controls",
            "_model_module_version": "1.5.0",
            "value": 734,
            "_view_count": null,
            "_view_module_version": "1.5.0",
            "orientation": "horizontal",
            "min": 0,
            "description_tooltip": null,
            "_model_module": "@jupyter-widgets/controls",
            "layout": "IPY_MODEL_1a7837f1ea064e62821683fbd84d816b"
          }
        },
        "adbfdae5b56e44f6821cc3133df0672a": {
          "model_module": "@jupyter-widgets/controls",
          "model_name": "HTMLModel",
          "state": {
            "_view_name": "HTMLView",
            "style": "IPY_MODEL_b9569e84e3144541b1de584fdbbfd21d",
            "_dom_classes": [],
            "description": "",
            "_model_name": "HTMLModel",
            "placeholder": "​",
            "_view_module": "@jupyter-widgets/controls",
            "_model_module_version": "1.5.0",
            "value": " 734/734 [00:18&lt;00:00, 39.7B/s]",
            "_view_count": null,
            "_view_module_version": "1.5.0",
            "description_tooltip": null,
            "_model_module": "@jupyter-widgets/controls",
            "layout": "IPY_MODEL_1d605601963143979657e9b8497a80d4"
          }
        },
        "9acce08951cc4799a6154913ed8123e1": {
          "model_module": "@jupyter-widgets/controls",
          "model_name": "ProgressStyleModel",
          "state": {
            "_view_name": "StyleView",
            "_model_name": "ProgressStyleModel",
            "description_width": "initial",
            "_view_module": "@jupyter-widgets/base",
            "_model_module_version": "1.5.0",
            "_view_count": null,
            "_view_module_version": "1.2.0",
            "bar_color": null,
            "_model_module": "@jupyter-widgets/controls"
          }
        },
        "1a7837f1ea064e62821683fbd84d816b": {
          "model_module": "@jupyter-widgets/base",
          "model_name": "LayoutModel",
          "state": {
            "_view_name": "LayoutView",
            "grid_template_rows": null,
            "right": null,
            "justify_content": null,
            "_view_module": "@jupyter-widgets/base",
            "overflow": null,
            "_model_module_version": "1.2.0",
            "_view_count": null,
            "flex_flow": null,
            "width": null,
            "min_width": null,
            "border": null,
            "align_items": null,
            "bottom": null,
            "_model_module": "@jupyter-widgets/base",
            "top": null,
            "grid_column": null,
            "overflow_y": null,
            "overflow_x": null,
            "grid_auto_flow": null,
            "grid_area": null,
            "grid_template_columns": null,
            "flex": null,
            "_model_name": "LayoutModel",
            "justify_items": null,
            "grid_row": null,
            "max_height": null,
            "align_content": null,
            "visibility": null,
            "align_self": null,
            "height": null,
            "min_height": null,
            "padding": null,
            "grid_auto_rows": null,
            "grid_gap": null,
            "max_width": null,
            "order": null,
            "_view_module_version": "1.2.0",
            "grid_template_areas": null,
            "object_position": null,
            "object_fit": null,
            "grid_auto_columns": null,
            "margin": null,
            "display": null,
            "left": null
          }
        },
        "b9569e84e3144541b1de584fdbbfd21d": {
          "model_module": "@jupyter-widgets/controls",
          "model_name": "DescriptionStyleModel",
          "state": {
            "_view_name": "StyleView",
            "_model_name": "DescriptionStyleModel",
            "description_width": "",
            "_view_module": "@jupyter-widgets/base",
            "_model_module_version": "1.5.0",
            "_view_count": null,
            "_view_module_version": "1.2.0",
            "_model_module": "@jupyter-widgets/controls"
          }
        },
        "1d605601963143979657e9b8497a80d4": {
          "model_module": "@jupyter-widgets/base",
          "model_name": "LayoutModel",
          "state": {
            "_view_name": "LayoutView",
            "grid_template_rows": null,
            "right": null,
            "justify_content": null,
            "_view_module": "@jupyter-widgets/base",
            "overflow": null,
            "_model_module_version": "1.2.0",
            "_view_count": null,
            "flex_flow": null,
            "width": null,
            "min_width": null,
            "border": null,
            "align_items": null,
            "bottom": null,
            "_model_module": "@jupyter-widgets/base",
            "top": null,
            "grid_column": null,
            "overflow_y": null,
            "overflow_x": null,
            "grid_auto_flow": null,
            "grid_area": null,
            "grid_template_columns": null,
            "flex": null,
            "_model_name": "LayoutModel",
            "justify_items": null,
            "grid_row": null,
            "max_height": null,
            "align_content": null,
            "visibility": null,
            "align_self": null,
            "height": null,
            "min_height": null,
            "padding": null,
            "grid_auto_rows": null,
            "grid_gap": null,
            "max_width": null,
            "order": null,
            "_view_module_version": "1.2.0",
            "grid_template_areas": null,
            "object_position": null,
            "object_fit": null,
            "grid_auto_columns": null,
            "margin": null,
            "display": null,
            "left": null
          }
        },
        "a0cfae29c7d1431d996d8dcd175a02f7": {
          "model_module": "@jupyter-widgets/controls",
          "model_name": "HBoxModel",
          "state": {
            "_view_name": "HBoxView",
            "_dom_classes": [],
            "_model_name": "HBoxModel",
            "_view_module": "@jupyter-widgets/controls",
            "_model_module_version": "1.5.0",
            "_view_count": null,
            "_view_module_version": "1.5.0",
            "box_style": "",
            "layout": "IPY_MODEL_ae296c45090c44fe9dc0eff51f0785b8",
            "_model_module": "@jupyter-widgets/controls",
            "children": [
              "IPY_MODEL_375fee4f861a42ef8313cff566ace711",
              "IPY_MODEL_6cda94b3bd754288aa7d223982632e30"
            ]
          }
        },
        "ae296c45090c44fe9dc0eff51f0785b8": {
          "model_module": "@jupyter-widgets/base",
          "model_name": "LayoutModel",
          "state": {
            "_view_name": "LayoutView",
            "grid_template_rows": null,
            "right": null,
            "justify_content": null,
            "_view_module": "@jupyter-widgets/base",
            "overflow": null,
            "_model_module_version": "1.2.0",
            "_view_count": null,
            "flex_flow": null,
            "width": null,
            "min_width": null,
            "border": null,
            "align_items": null,
            "bottom": null,
            "_model_module": "@jupyter-widgets/base",
            "top": null,
            "grid_column": null,
            "overflow_y": null,
            "overflow_x": null,
            "grid_auto_flow": null,
            "grid_area": null,
            "grid_template_columns": null,
            "flex": null,
            "_model_name": "LayoutModel",
            "justify_items": null,
            "grid_row": null,
            "max_height": null,
            "align_content": null,
            "visibility": null,
            "align_self": null,
            "height": null,
            "min_height": null,
            "padding": null,
            "grid_auto_rows": null,
            "grid_gap": null,
            "max_width": null,
            "order": null,
            "_view_module_version": "1.2.0",
            "grid_template_areas": null,
            "object_position": null,
            "object_fit": null,
            "grid_auto_columns": null,
            "margin": null,
            "display": null,
            "left": null
          }
        },
        "375fee4f861a42ef8313cff566ace711": {
          "model_module": "@jupyter-widgets/controls",
          "model_name": "FloatProgressModel",
          "state": {
            "_view_name": "ProgressView",
            "style": "IPY_MODEL_8cb70f17083e44df85384b11456e853c",
            "_dom_classes": [],
            "description": "Downloading: 100%",
            "_model_name": "FloatProgressModel",
            "bar_style": "success",
            "max": 5069051,
            "_view_module": "@jupyter-widgets/controls",
            "_model_module_version": "1.5.0",
            "value": 5069051,
            "_view_count": null,
            "_view_module_version": "1.5.0",
            "orientation": "horizontal",
            "min": 0,
            "description_tooltip": null,
            "_model_module": "@jupyter-widgets/controls",
            "layout": "IPY_MODEL_20bad420a6284f9383c9a37d39140ba2"
          }
        },
        "6cda94b3bd754288aa7d223982632e30": {
          "model_module": "@jupyter-widgets/controls",
          "model_name": "HTMLModel",
          "state": {
            "_view_name": "HTMLView",
            "style": "IPY_MODEL_e81e7d809fa44dcaa8006578fa5aed0d",
            "_dom_classes": [],
            "description": "",
            "_model_name": "HTMLModel",
            "placeholder": "​",
            "_view_module": "@jupyter-widgets/controls",
            "_model_module_version": "1.5.0",
            "value": " 5.07M/5.07M [00:00&lt;00:00, 11.7MB/s]",
            "_view_count": null,
            "_view_module_version": "1.5.0",
            "description_tooltip": null,
            "_model_module": "@jupyter-widgets/controls",
            "layout": "IPY_MODEL_b0e398769f484adaa4597fe8135714c9"
          }
        },
        "8cb70f17083e44df85384b11456e853c": {
          "model_module": "@jupyter-widgets/controls",
          "model_name": "ProgressStyleModel",
          "state": {
            "_view_name": "StyleView",
            "_model_name": "ProgressStyleModel",
            "description_width": "initial",
            "_view_module": "@jupyter-widgets/base",
            "_model_module_version": "1.5.0",
            "_view_count": null,
            "_view_module_version": "1.2.0",
            "bar_color": null,
            "_model_module": "@jupyter-widgets/controls"
          }
        },
        "20bad420a6284f9383c9a37d39140ba2": {
          "model_module": "@jupyter-widgets/base",
          "model_name": "LayoutModel",
          "state": {
            "_view_name": "LayoutView",
            "grid_template_rows": null,
            "right": null,
            "justify_content": null,
            "_view_module": "@jupyter-widgets/base",
            "overflow": null,
            "_model_module_version": "1.2.0",
            "_view_count": null,
            "flex_flow": null,
            "width": null,
            "min_width": null,
            "border": null,
            "align_items": null,
            "bottom": null,
            "_model_module": "@jupyter-widgets/base",
            "top": null,
            "grid_column": null,
            "overflow_y": null,
            "overflow_x": null,
            "grid_auto_flow": null,
            "grid_area": null,
            "grid_template_columns": null,
            "flex": null,
            "_model_name": "LayoutModel",
            "justify_items": null,
            "grid_row": null,
            "max_height": null,
            "align_content": null,
            "visibility": null,
            "align_self": null,
            "height": null,
            "min_height": null,
            "padding": null,
            "grid_auto_rows": null,
            "grid_gap": null,
            "max_width": null,
            "order": null,
            "_view_module_version": "1.2.0",
            "grid_template_areas": null,
            "object_position": null,
            "object_fit": null,
            "grid_auto_columns": null,
            "margin": null,
            "display": null,
            "left": null
          }
        },
        "e81e7d809fa44dcaa8006578fa5aed0d": {
          "model_module": "@jupyter-widgets/controls",
          "model_name": "DescriptionStyleModel",
          "state": {
            "_view_name": "StyleView",
            "_model_name": "DescriptionStyleModel",
            "description_width": "",
            "_view_module": "@jupyter-widgets/base",
            "_model_module_version": "1.5.0",
            "_view_count": null,
            "_view_module_version": "1.2.0",
            "_model_module": "@jupyter-widgets/controls"
          }
        },
        "b0e398769f484adaa4597fe8135714c9": {
          "model_module": "@jupyter-widgets/base",
          "model_name": "LayoutModel",
          "state": {
            "_view_name": "LayoutView",
            "grid_template_rows": null,
            "right": null,
            "justify_content": null,
            "_view_module": "@jupyter-widgets/base",
            "overflow": null,
            "_model_module_version": "1.2.0",
            "_view_count": null,
            "flex_flow": null,
            "width": null,
            "min_width": null,
            "border": null,
            "align_items": null,
            "bottom": null,
            "_model_module": "@jupyter-widgets/base",
            "top": null,
            "grid_column": null,
            "overflow_y": null,
            "overflow_x": null,
            "grid_auto_flow": null,
            "grid_area": null,
            "grid_template_columns": null,
            "flex": null,
            "_model_name": "LayoutModel",
            "justify_items": null,
            "grid_row": null,
            "max_height": null,
            "align_content": null,
            "visibility": null,
            "align_self": null,
            "height": null,
            "min_height": null,
            "padding": null,
            "grid_auto_rows": null,
            "grid_gap": null,
            "max_width": null,
            "order": null,
            "_view_module_version": "1.2.0",
            "grid_template_areas": null,
            "object_position": null,
            "object_fit": null,
            "grid_auto_columns": null,
            "margin": null,
            "display": null,
            "left": null
          }
        },
        "f8ed74bedf434a04ab06ee8ef8358225": {
          "model_module": "@jupyter-widgets/controls",
          "model_name": "HBoxModel",
          "state": {
            "_view_name": "HBoxView",
            "_dom_classes": [],
            "_model_name": "HBoxModel",
            "_view_module": "@jupyter-widgets/controls",
            "_model_module_version": "1.5.0",
            "_view_count": null,
            "_view_module_version": "1.5.0",
            "box_style": "",
            "layout": "IPY_MODEL_e9c2ee8477864144aee8879cabf5e5b9",
            "_model_module": "@jupyter-widgets/controls",
            "children": [
              "IPY_MODEL_bd475ea8a6924c43a111e8749cd04ae4",
              "IPY_MODEL_d3598287a958468ca9ef6a537ffb9c3e"
            ]
          }
        },
        "e9c2ee8477864144aee8879cabf5e5b9": {
          "model_module": "@jupyter-widgets/base",
          "model_name": "LayoutModel",
          "state": {
            "_view_name": "LayoutView",
            "grid_template_rows": null,
            "right": null,
            "justify_content": null,
            "_view_module": "@jupyter-widgets/base",
            "overflow": null,
            "_model_module_version": "1.2.0",
            "_view_count": null,
            "flex_flow": null,
            "width": null,
            "min_width": null,
            "border": null,
            "align_items": null,
            "bottom": null,
            "_model_module": "@jupyter-widgets/base",
            "top": null,
            "grid_column": null,
            "overflow_y": null,
            "overflow_x": null,
            "grid_auto_flow": null,
            "grid_area": null,
            "grid_template_columns": null,
            "flex": null,
            "_model_name": "LayoutModel",
            "justify_items": null,
            "grid_row": null,
            "max_height": null,
            "align_content": null,
            "visibility": null,
            "align_self": null,
            "height": null,
            "min_height": null,
            "padding": null,
            "grid_auto_rows": null,
            "grid_gap": null,
            "max_width": null,
            "order": null,
            "_view_module_version": "1.2.0",
            "grid_template_areas": null,
            "object_position": null,
            "object_fit": null,
            "grid_auto_columns": null,
            "margin": null,
            "display": null,
            "left": null
          }
        },
        "bd475ea8a6924c43a111e8749cd04ae4": {
          "model_module": "@jupyter-widgets/controls",
          "model_name": "FloatProgressModel",
          "state": {
            "_view_name": "ProgressView",
            "style": "IPY_MODEL_9120a98e28054e799bb285264b9a6c0c",
            "_dom_classes": [],
            "description": "Downloading: 100%",
            "_model_name": "FloatProgressModel",
            "bar_style": "success",
            "max": 150,
            "_view_module": "@jupyter-widgets/controls",
            "_model_module_version": "1.5.0",
            "value": 150,
            "_view_count": null,
            "_view_module_version": "1.5.0",
            "orientation": "horizontal",
            "min": 0,
            "description_tooltip": null,
            "_model_module": "@jupyter-widgets/controls",
            "layout": "IPY_MODEL_45a2c9ce92384c89b7169d16190dc65c"
          }
        },
        "d3598287a958468ca9ef6a537ffb9c3e": {
          "model_module": "@jupyter-widgets/controls",
          "model_name": "HTMLModel",
          "state": {
            "_view_name": "HTMLView",
            "style": "IPY_MODEL_c21c29d05e03445c965f1d5445f7c862",
            "_dom_classes": [],
            "description": "",
            "_model_name": "HTMLModel",
            "placeholder": "​",
            "_view_module": "@jupyter-widgets/controls",
            "_model_module_version": "1.5.0",
            "value": " 150/150 [00:00&lt;00:00, 1.33kB/s]",
            "_view_count": null,
            "_view_module_version": "1.5.0",
            "description_tooltip": null,
            "_model_module": "@jupyter-widgets/controls",
            "layout": "IPY_MODEL_b95a36ae51a44488929c6f12fd049ced"
          }
        },
        "9120a98e28054e799bb285264b9a6c0c": {
          "model_module": "@jupyter-widgets/controls",
          "model_name": "ProgressStyleModel",
          "state": {
            "_view_name": "StyleView",
            "_model_name": "ProgressStyleModel",
            "description_width": "initial",
            "_view_module": "@jupyter-widgets/base",
            "_model_module_version": "1.5.0",
            "_view_count": null,
            "_view_module_version": "1.2.0",
            "bar_color": null,
            "_model_module": "@jupyter-widgets/controls"
          }
        },
        "45a2c9ce92384c89b7169d16190dc65c": {
          "model_module": "@jupyter-widgets/base",
          "model_name": "LayoutModel",
          "state": {
            "_view_name": "LayoutView",
            "grid_template_rows": null,
            "right": null,
            "justify_content": null,
            "_view_module": "@jupyter-widgets/base",
            "overflow": null,
            "_model_module_version": "1.2.0",
            "_view_count": null,
            "flex_flow": null,
            "width": null,
            "min_width": null,
            "border": null,
            "align_items": null,
            "bottom": null,
            "_model_module": "@jupyter-widgets/base",
            "top": null,
            "grid_column": null,
            "overflow_y": null,
            "overflow_x": null,
            "grid_auto_flow": null,
            "grid_area": null,
            "grid_template_columns": null,
            "flex": null,
            "_model_name": "LayoutModel",
            "justify_items": null,
            "grid_row": null,
            "max_height": null,
            "align_content": null,
            "visibility": null,
            "align_self": null,
            "height": null,
            "min_height": null,
            "padding": null,
            "grid_auto_rows": null,
            "grid_gap": null,
            "max_width": null,
            "order": null,
            "_view_module_version": "1.2.0",
            "grid_template_areas": null,
            "object_position": null,
            "object_fit": null,
            "grid_auto_columns": null,
            "margin": null,
            "display": null,
            "left": null
          }
        },
        "c21c29d05e03445c965f1d5445f7c862": {
          "model_module": "@jupyter-widgets/controls",
          "model_name": "DescriptionStyleModel",
          "state": {
            "_view_name": "StyleView",
            "_model_name": "DescriptionStyleModel",
            "description_width": "",
            "_view_module": "@jupyter-widgets/base",
            "_model_module_version": "1.5.0",
            "_view_count": null,
            "_view_module_version": "1.2.0",
            "_model_module": "@jupyter-widgets/controls"
          }
        },
        "b95a36ae51a44488929c6f12fd049ced": {
          "model_module": "@jupyter-widgets/base",
          "model_name": "LayoutModel",
          "state": {
            "_view_name": "LayoutView",
            "grid_template_rows": null,
            "right": null,
            "justify_content": null,
            "_view_module": "@jupyter-widgets/base",
            "overflow": null,
            "_model_module_version": "1.2.0",
            "_view_count": null,
            "flex_flow": null,
            "width": null,
            "min_width": null,
            "border": null,
            "align_items": null,
            "bottom": null,
            "_model_module": "@jupyter-widgets/base",
            "top": null,
            "grid_column": null,
            "overflow_y": null,
            "overflow_x": null,
            "grid_auto_flow": null,
            "grid_area": null,
            "grid_template_columns": null,
            "flex": null,
            "_model_name": "LayoutModel",
            "justify_items": null,
            "grid_row": null,
            "max_height": null,
            "align_content": null,
            "visibility": null,
            "align_self": null,
            "height": null,
            "min_height": null,
            "padding": null,
            "grid_auto_rows": null,
            "grid_gap": null,
            "max_width": null,
            "order": null,
            "_view_module_version": "1.2.0",
            "grid_template_areas": null,
            "object_position": null,
            "object_fit": null,
            "grid_auto_columns": null,
            "margin": null,
            "display": null,
            "left": null
          }
        },
        "94915ec8eee84951bc51332bc2049757": {
          "model_module": "@jupyter-widgets/controls",
          "model_name": "HBoxModel",
          "state": {
            "_view_name": "HBoxView",
            "_dom_classes": [],
            "_model_name": "HBoxModel",
            "_view_module": "@jupyter-widgets/controls",
            "_model_module_version": "1.5.0",
            "_view_count": null,
            "_view_module_version": "1.5.0",
            "box_style": "",
            "layout": "IPY_MODEL_0b16758a39b2488ea06108e01b40580c",
            "_model_module": "@jupyter-widgets/controls",
            "children": [
              "IPY_MODEL_ebdf544955b5401ba5d180dc4bfaf828",
              "IPY_MODEL_feb05c5e06ee4222bbaa5900fc2fa421"
            ]
          }
        },
        "0b16758a39b2488ea06108e01b40580c": {
          "model_module": "@jupyter-widgets/base",
          "model_name": "LayoutModel",
          "state": {
            "_view_name": "LayoutView",
            "grid_template_rows": null,
            "right": null,
            "justify_content": null,
            "_view_module": "@jupyter-widgets/base",
            "overflow": null,
            "_model_module_version": "1.2.0",
            "_view_count": null,
            "flex_flow": null,
            "width": null,
            "min_width": null,
            "border": null,
            "align_items": null,
            "bottom": null,
            "_model_module": "@jupyter-widgets/base",
            "top": null,
            "grid_column": null,
            "overflow_y": null,
            "overflow_x": null,
            "grid_auto_flow": null,
            "grid_area": null,
            "grid_template_columns": null,
            "flex": null,
            "_model_name": "LayoutModel",
            "justify_items": null,
            "grid_row": null,
            "max_height": null,
            "align_content": null,
            "visibility": null,
            "align_self": null,
            "height": null,
            "min_height": null,
            "padding": null,
            "grid_auto_rows": null,
            "grid_gap": null,
            "max_width": null,
            "order": null,
            "_view_module_version": "1.2.0",
            "grid_template_areas": null,
            "object_position": null,
            "object_fit": null,
            "grid_auto_columns": null,
            "margin": null,
            "display": null,
            "left": null
          }
        },
        "ebdf544955b5401ba5d180dc4bfaf828": {
          "model_module": "@jupyter-widgets/controls",
          "model_name": "FloatProgressModel",
          "state": {
            "_view_name": "ProgressView",
            "style": "IPY_MODEL_a85eb6f154f74b229aa2f1bf466e47ae",
            "_dom_classes": [],
            "description": "Downloading: 100%",
            "_model_name": "FloatProgressModel",
            "bar_style": "success",
            "max": 25,
            "_view_module": "@jupyter-widgets/controls",
            "_model_module_version": "1.5.0",
            "value": 25,
            "_view_count": null,
            "_view_module_version": "1.5.0",
            "orientation": "horizontal",
            "min": 0,
            "description_tooltip": null,
            "_model_module": "@jupyter-widgets/controls",
            "layout": "IPY_MODEL_7ba1a0453f5c426794c5dff0876babe6"
          }
        },
        "feb05c5e06ee4222bbaa5900fc2fa421": {
          "model_module": "@jupyter-widgets/controls",
          "model_name": "HTMLModel",
          "state": {
            "_view_name": "HTMLView",
            "style": "IPY_MODEL_a4f23e9208a64f08bc17d83e093bcadf",
            "_dom_classes": [],
            "description": "",
            "_model_name": "HTMLModel",
            "placeholder": "​",
            "_view_module": "@jupyter-widgets/controls",
            "_model_module_version": "1.5.0",
            "value": " 25.0/25.0 [00:17&lt;00:00, 1.40B/s]",
            "_view_count": null,
            "_view_module_version": "1.5.0",
            "description_tooltip": null,
            "_model_module": "@jupyter-widgets/controls",
            "layout": "IPY_MODEL_91563e5b091f47d595c51c61295d69de"
          }
        },
        "a85eb6f154f74b229aa2f1bf466e47ae": {
          "model_module": "@jupyter-widgets/controls",
          "model_name": "ProgressStyleModel",
          "state": {
            "_view_name": "StyleView",
            "_model_name": "ProgressStyleModel",
            "description_width": "initial",
            "_view_module": "@jupyter-widgets/base",
            "_model_module_version": "1.5.0",
            "_view_count": null,
            "_view_module_version": "1.2.0",
            "bar_color": null,
            "_model_module": "@jupyter-widgets/controls"
          }
        },
        "7ba1a0453f5c426794c5dff0876babe6": {
          "model_module": "@jupyter-widgets/base",
          "model_name": "LayoutModel",
          "state": {
            "_view_name": "LayoutView",
            "grid_template_rows": null,
            "right": null,
            "justify_content": null,
            "_view_module": "@jupyter-widgets/base",
            "overflow": null,
            "_model_module_version": "1.2.0",
            "_view_count": null,
            "flex_flow": null,
            "width": null,
            "min_width": null,
            "border": null,
            "align_items": null,
            "bottom": null,
            "_model_module": "@jupyter-widgets/base",
            "top": null,
            "grid_column": null,
            "overflow_y": null,
            "overflow_x": null,
            "grid_auto_flow": null,
            "grid_area": null,
            "grid_template_columns": null,
            "flex": null,
            "_model_name": "LayoutModel",
            "justify_items": null,
            "grid_row": null,
            "max_height": null,
            "align_content": null,
            "visibility": null,
            "align_self": null,
            "height": null,
            "min_height": null,
            "padding": null,
            "grid_auto_rows": null,
            "grid_gap": null,
            "max_width": null,
            "order": null,
            "_view_module_version": "1.2.0",
            "grid_template_areas": null,
            "object_position": null,
            "object_fit": null,
            "grid_auto_columns": null,
            "margin": null,
            "display": null,
            "left": null
          }
        },
        "a4f23e9208a64f08bc17d83e093bcadf": {
          "model_module": "@jupyter-widgets/controls",
          "model_name": "DescriptionStyleModel",
          "state": {
            "_view_name": "StyleView",
            "_model_name": "DescriptionStyleModel",
            "description_width": "",
            "_view_module": "@jupyter-widgets/base",
            "_model_module_version": "1.5.0",
            "_view_count": null,
            "_view_module_version": "1.2.0",
            "_model_module": "@jupyter-widgets/controls"
          }
        },
        "91563e5b091f47d595c51c61295d69de": {
          "model_module": "@jupyter-widgets/base",
          "model_name": "LayoutModel",
          "state": {
            "_view_name": "LayoutView",
            "grid_template_rows": null,
            "right": null,
            "justify_content": null,
            "_view_module": "@jupyter-widgets/base",
            "overflow": null,
            "_model_module_version": "1.2.0",
            "_view_count": null,
            "flex_flow": null,
            "width": null,
            "min_width": null,
            "border": null,
            "align_items": null,
            "bottom": null,
            "_model_module": "@jupyter-widgets/base",
            "top": null,
            "grid_column": null,
            "overflow_y": null,
            "overflow_x": null,
            "grid_auto_flow": null,
            "grid_area": null,
            "grid_template_columns": null,
            "flex": null,
            "_model_name": "LayoutModel",
            "justify_items": null,
            "grid_row": null,
            "max_height": null,
            "align_content": null,
            "visibility": null,
            "align_self": null,
            "height": null,
            "min_height": null,
            "padding": null,
            "grid_auto_rows": null,
            "grid_gap": null,
            "max_width": null,
            "order": null,
            "_view_module_version": "1.2.0",
            "grid_template_areas": null,
            "object_position": null,
            "object_fit": null,
            "grid_auto_columns": null,
            "margin": null,
            "display": null,
            "left": null
          }
        },
        "4676dadf9d744a75846958740399d2c0": {
          "model_module": "@jupyter-widgets/controls",
          "model_name": "HBoxModel",
          "state": {
            "_view_name": "HBoxView",
            "_dom_classes": [],
            "_model_name": "HBoxModel",
            "_view_module": "@jupyter-widgets/controls",
            "_model_module_version": "1.5.0",
            "_view_count": null,
            "_view_module_version": "1.5.0",
            "box_style": "",
            "layout": "IPY_MODEL_7b5327ce35d74d6785175c80d9300819",
            "_model_module": "@jupyter-widgets/controls",
            "children": [
              "IPY_MODEL_e040a38e627c433bbbc2a6570b7eea47",
              "IPY_MODEL_145cabfb3ecc4d449b2fdd6a3cf3af42"
            ]
          }
        },
        "7b5327ce35d74d6785175c80d9300819": {
          "model_module": "@jupyter-widgets/base",
          "model_name": "LayoutModel",
          "state": {
            "_view_name": "LayoutView",
            "grid_template_rows": null,
            "right": null,
            "justify_content": null,
            "_view_module": "@jupyter-widgets/base",
            "overflow": null,
            "_model_module_version": "1.2.0",
            "_view_count": null,
            "flex_flow": null,
            "width": null,
            "min_width": null,
            "border": null,
            "align_items": null,
            "bottom": null,
            "_model_module": "@jupyter-widgets/base",
            "top": null,
            "grid_column": null,
            "overflow_y": null,
            "overflow_x": null,
            "grid_auto_flow": null,
            "grid_area": null,
            "grid_template_columns": null,
            "flex": null,
            "_model_name": "LayoutModel",
            "justify_items": null,
            "grid_row": null,
            "max_height": null,
            "align_content": null,
            "visibility": null,
            "align_self": null,
            "height": null,
            "min_height": null,
            "padding": null,
            "grid_auto_rows": null,
            "grid_gap": null,
            "max_width": null,
            "order": null,
            "_view_module_version": "1.2.0",
            "grid_template_areas": null,
            "object_position": null,
            "object_fit": null,
            "grid_auto_columns": null,
            "margin": null,
            "display": null,
            "left": null
          }
        },
        "e040a38e627c433bbbc2a6570b7eea47": {
          "model_module": "@jupyter-widgets/controls",
          "model_name": "FloatProgressModel",
          "state": {
            "_view_name": "ProgressView",
            "style": "IPY_MODEL_38360377b53b4ccfbe8c25afa51c0935",
            "_dom_classes": [],
            "description": "Downloading: 100%",
            "_model_name": "FloatProgressModel",
            "bar_style": "success",
            "max": 2244296816,
            "_view_module": "@jupyter-widgets/controls",
            "_model_module_version": "1.5.0",
            "value": 2244296816,
            "_view_count": null,
            "_view_module_version": "1.5.0",
            "orientation": "horizontal",
            "min": 0,
            "description_tooltip": null,
            "_model_module": "@jupyter-widgets/controls",
            "layout": "IPY_MODEL_f917b5ab79444a30b28600448adf87b9"
          }
        },
        "145cabfb3ecc4d449b2fdd6a3cf3af42": {
          "model_module": "@jupyter-widgets/controls",
          "model_name": "HTMLModel",
          "state": {
            "_view_name": "HTMLView",
            "style": "IPY_MODEL_4bec7e38c3cb423fafd0d340d5cee55f",
            "_dom_classes": [],
            "description": "",
            "_model_name": "HTMLModel",
            "placeholder": "​",
            "_view_module": "@jupyter-widgets/controls",
            "_model_module_version": "1.5.0",
            "value": " 2.24G/2.24G [00:43&lt;00:00, 52.0MB/s]",
            "_view_count": null,
            "_view_module_version": "1.5.0",
            "description_tooltip": null,
            "_model_module": "@jupyter-widgets/controls",
            "layout": "IPY_MODEL_c88a0bcfcce646cca374ae9534d186b4"
          }
        },
        "38360377b53b4ccfbe8c25afa51c0935": {
          "model_module": "@jupyter-widgets/controls",
          "model_name": "ProgressStyleModel",
          "state": {
            "_view_name": "StyleView",
            "_model_name": "ProgressStyleModel",
            "description_width": "initial",
            "_view_module": "@jupyter-widgets/base",
            "_model_module_version": "1.5.0",
            "_view_count": null,
            "_view_module_version": "1.2.0",
            "bar_color": null,
            "_model_module": "@jupyter-widgets/controls"
          }
        },
        "f917b5ab79444a30b28600448adf87b9": {
          "model_module": "@jupyter-widgets/base",
          "model_name": "LayoutModel",
          "state": {
            "_view_name": "LayoutView",
            "grid_template_rows": null,
            "right": null,
            "justify_content": null,
            "_view_module": "@jupyter-widgets/base",
            "overflow": null,
            "_model_module_version": "1.2.0",
            "_view_count": null,
            "flex_flow": null,
            "width": null,
            "min_width": null,
            "border": null,
            "align_items": null,
            "bottom": null,
            "_model_module": "@jupyter-widgets/base",
            "top": null,
            "grid_column": null,
            "overflow_y": null,
            "overflow_x": null,
            "grid_auto_flow": null,
            "grid_area": null,
            "grid_template_columns": null,
            "flex": null,
            "_model_name": "LayoutModel",
            "justify_items": null,
            "grid_row": null,
            "max_height": null,
            "align_content": null,
            "visibility": null,
            "align_self": null,
            "height": null,
            "min_height": null,
            "padding": null,
            "grid_auto_rows": null,
            "grid_gap": null,
            "max_width": null,
            "order": null,
            "_view_module_version": "1.2.0",
            "grid_template_areas": null,
            "object_position": null,
            "object_fit": null,
            "grid_auto_columns": null,
            "margin": null,
            "display": null,
            "left": null
          }
        },
        "4bec7e38c3cb423fafd0d340d5cee55f": {
          "model_module": "@jupyter-widgets/controls",
          "model_name": "DescriptionStyleModel",
          "state": {
            "_view_name": "StyleView",
            "_model_name": "DescriptionStyleModel",
            "description_width": "",
            "_view_module": "@jupyter-widgets/base",
            "_model_module_version": "1.5.0",
            "_view_count": null,
            "_view_module_version": "1.2.0",
            "_model_module": "@jupyter-widgets/controls"
          }
        },
        "c88a0bcfcce646cca374ae9534d186b4": {
          "model_module": "@jupyter-widgets/base",
          "model_name": "LayoutModel",
          "state": {
            "_view_name": "LayoutView",
            "grid_template_rows": null,
            "right": null,
            "justify_content": null,
            "_view_module": "@jupyter-widgets/base",
            "overflow": null,
            "_model_module_version": "1.2.0",
            "_view_count": null,
            "flex_flow": null,
            "width": null,
            "min_width": null,
            "border": null,
            "align_items": null,
            "bottom": null,
            "_model_module": "@jupyter-widgets/base",
            "top": null,
            "grid_column": null,
            "overflow_y": null,
            "overflow_x": null,
            "grid_auto_flow": null,
            "grid_area": null,
            "grid_template_columns": null,
            "flex": null,
            "_model_name": "LayoutModel",
            "justify_items": null,
            "grid_row": null,
            "max_height": null,
            "align_content": null,
            "visibility": null,
            "align_self": null,
            "height": null,
            "min_height": null,
            "padding": null,
            "grid_auto_rows": null,
            "grid_gap": null,
            "max_width": null,
            "order": null,
            "_view_module_version": "1.2.0",
            "grid_template_areas": null,
            "object_position": null,
            "object_fit": null,
            "grid_auto_columns": null,
            "margin": null,
            "display": null,
            "left": null
          }
        }
      }
    }
  },
  "cells": [
    {
      "cell_type": "markdown",
      "metadata": {
        "id": "9pmgRCT2Dhkc"
      },
      "source": [
        "# 1. Pre-process data\n",
        "\n"
      ]
    },
    {
      "cell_type": "code",
      "metadata": {
        "colab": {
          "base_uri": "https://localhost:8080/"
        },
        "id": "Zv--uLcKu_4n",
        "outputId": "f9580edc-682e-4960-cf73-a3706f1333b2"
      },
      "source": [
        "!pip install transformers==3.0.2\n",
        "!pip install nlp"
      ],
      "execution_count": 1,
      "outputs": [
        {
          "output_type": "stream",
          "text": [
            "Collecting transformers==3.0.2\n",
            "\u001b[?25l  Downloading https://files.pythonhosted.org/packages/27/3c/91ed8f5c4e7ef3227b4119200fc0ed4b4fd965b1f0172021c25701087825/transformers-3.0.2-py3-none-any.whl (769kB)\n",
            "\r\u001b[K     |▍                               | 10kB 22.1MB/s eta 0:00:01\r\u001b[K     |▉                               | 20kB 30.2MB/s eta 0:00:01\r\u001b[K     |█▎                              | 30kB 24.4MB/s eta 0:00:01\r\u001b[K     |█▊                              | 40kB 28.0MB/s eta 0:00:01\r\u001b[K     |██▏                             | 51kB 25.8MB/s eta 0:00:01\r\u001b[K     |██▋                             | 61kB 28.2MB/s eta 0:00:01\r\u001b[K     |███                             | 71kB 18.5MB/s eta 0:00:01\r\u001b[K     |███▍                            | 81kB 19.4MB/s eta 0:00:01\r\u001b[K     |███▉                            | 92kB 18.3MB/s eta 0:00:01\r\u001b[K     |████▎                           | 102kB 18.1MB/s eta 0:00:01\r\u001b[K     |████▊                           | 112kB 18.1MB/s eta 0:00:01\r\u001b[K     |█████▏                          | 122kB 18.1MB/s eta 0:00:01\r\u001b[K     |█████▌                          | 133kB 18.1MB/s eta 0:00:01\r\u001b[K     |██████                          | 143kB 18.1MB/s eta 0:00:01\r\u001b[K     |██████▍                         | 153kB 18.1MB/s eta 0:00:01\r\u001b[K     |██████▉                         | 163kB 18.1MB/s eta 0:00:01\r\u001b[K     |███████▎                        | 174kB 18.1MB/s eta 0:00:01\r\u001b[K     |███████▊                        | 184kB 18.1MB/s eta 0:00:01\r\u001b[K     |████████                        | 194kB 18.1MB/s eta 0:00:01\r\u001b[K     |████████▌                       | 204kB 18.1MB/s eta 0:00:01\r\u001b[K     |█████████                       | 215kB 18.1MB/s eta 0:00:01\r\u001b[K     |█████████▍                      | 225kB 18.1MB/s eta 0:00:01\r\u001b[K     |█████████▉                      | 235kB 18.1MB/s eta 0:00:01\r\u001b[K     |██████████▎                     | 245kB 18.1MB/s eta 0:00:01\r\u001b[K     |██████████▋                     | 256kB 18.1MB/s eta 0:00:01\r\u001b[K     |███████████                     | 266kB 18.1MB/s eta 0:00:01\r\u001b[K     |███████████▌                    | 276kB 18.1MB/s eta 0:00:01\r\u001b[K     |████████████                    | 286kB 18.1MB/s eta 0:00:01\r\u001b[K     |████████████▍                   | 296kB 18.1MB/s eta 0:00:01\r\u001b[K     |████████████▉                   | 307kB 18.1MB/s eta 0:00:01\r\u001b[K     |█████████████▏                  | 317kB 18.1MB/s eta 0:00:01\r\u001b[K     |█████████████▋                  | 327kB 18.1MB/s eta 0:00:01\r\u001b[K     |██████████████                  | 337kB 18.1MB/s eta 0:00:01\r\u001b[K     |██████████████▌                 | 348kB 18.1MB/s eta 0:00:01\r\u001b[K     |███████████████                 | 358kB 18.1MB/s eta 0:00:01\r\u001b[K     |███████████████▍                | 368kB 18.1MB/s eta 0:00:01\r\u001b[K     |███████████████▊                | 378kB 18.1MB/s eta 0:00:01\r\u001b[K     |████████████████▏               | 389kB 18.1MB/s eta 0:00:01\r\u001b[K     |████████████████▋               | 399kB 18.1MB/s eta 0:00:01\r\u001b[K     |█████████████████               | 409kB 18.1MB/s eta 0:00:01\r\u001b[K     |█████████████████▌              | 419kB 18.1MB/s eta 0:00:01\r\u001b[K     |██████████████████              | 430kB 18.1MB/s eta 0:00:01\r\u001b[K     |██████████████████▎             | 440kB 18.1MB/s eta 0:00:01\r\u001b[K     |██████████████████▊             | 450kB 18.1MB/s eta 0:00:01\r\u001b[K     |███████████████████▏            | 460kB 18.1MB/s eta 0:00:01\r\u001b[K     |███████████████████▋            | 471kB 18.1MB/s eta 0:00:01\r\u001b[K     |████████████████████            | 481kB 18.1MB/s eta 0:00:01\r\u001b[K     |████████████████████▌           | 491kB 18.1MB/s eta 0:00:01\r\u001b[K     |████████████████████▉           | 501kB 18.1MB/s eta 0:00:01\r\u001b[K     |█████████████████████▎          | 512kB 18.1MB/s eta 0:00:01\r\u001b[K     |█████████████████████▊          | 522kB 18.1MB/s eta 0:00:01\r\u001b[K     |██████████████████████▏         | 532kB 18.1MB/s eta 0:00:01\r\u001b[K     |██████████████████████▋         | 542kB 18.1MB/s eta 0:00:01\r\u001b[K     |███████████████████████         | 552kB 18.1MB/s eta 0:00:01\r\u001b[K     |███████████████████████▍        | 563kB 18.1MB/s eta 0:00:01\r\u001b[K     |███████████████████████▉        | 573kB 18.1MB/s eta 0:00:01\r\u001b[K     |████████████████████████▎       | 583kB 18.1MB/s eta 0:00:01\r\u001b[K     |████████████████████████▊       | 593kB 18.1MB/s eta 0:00:01\r\u001b[K     |█████████████████████████▏      | 604kB 18.1MB/s eta 0:00:01\r\u001b[K     |█████████████████████████▋      | 614kB 18.1MB/s eta 0:00:01\r\u001b[K     |██████████████████████████      | 624kB 18.1MB/s eta 0:00:01\r\u001b[K     |██████████████████████████▍     | 634kB 18.1MB/s eta 0:00:01\r\u001b[K     |██████████████████████████▉     | 645kB 18.1MB/s eta 0:00:01\r\u001b[K     |███████████████████████████▎    | 655kB 18.1MB/s eta 0:00:01\r\u001b[K     |███████████████████████████▊    | 665kB 18.1MB/s eta 0:00:01\r\u001b[K     |████████████████████████████▏   | 675kB 18.1MB/s eta 0:00:01\r\u001b[K     |████████████████████████████▌   | 686kB 18.1MB/s eta 0:00:01\r\u001b[K     |█████████████████████████████   | 696kB 18.1MB/s eta 0:00:01\r\u001b[K     |█████████████████████████████▍  | 706kB 18.1MB/s eta 0:00:01\r\u001b[K     |█████████████████████████████▉  | 716kB 18.1MB/s eta 0:00:01\r\u001b[K     |██████████████████████████████▎ | 727kB 18.1MB/s eta 0:00:01\r\u001b[K     |██████████████████████████████▊ | 737kB 18.1MB/s eta 0:00:01\r\u001b[K     |███████████████████████████████ | 747kB 18.1MB/s eta 0:00:01\r\u001b[K     |███████████████████████████████▌| 757kB 18.1MB/s eta 0:00:01\r\u001b[K     |████████████████████████████████| 768kB 18.1MB/s eta 0:00:01\r\u001b[K     |████████████████████████████████| 778kB 18.1MB/s \n",
            "\u001b[?25hRequirement already satisfied: regex!=2019.12.17 in /usr/local/lib/python3.7/dist-packages (from transformers==3.0.2) (2019.12.20)\n",
            "Collecting sacremoses\n",
            "\u001b[?25l  Downloading https://files.pythonhosted.org/packages/75/ee/67241dc87f266093c533a2d4d3d69438e57d7a90abb216fa076e7d475d4a/sacremoses-0.0.45-py3-none-any.whl (895kB)\n",
            "\u001b[K     |████████████████████████████████| 901kB 55.6MB/s \n",
            "\u001b[?25hRequirement already satisfied: packaging in /usr/local/lib/python3.7/dist-packages (from transformers==3.0.2) (20.9)\n",
            "Requirement already satisfied: numpy in /usr/local/lib/python3.7/dist-packages (from transformers==3.0.2) (1.19.5)\n",
            "Requirement already satisfied: filelock in /usr/local/lib/python3.7/dist-packages (from transformers==3.0.2) (3.0.12)\n",
            "Collecting tokenizers==0.8.1.rc1\n",
            "\u001b[?25l  Downloading https://files.pythonhosted.org/packages/02/59/68c7e3833f535615fb97d33ffcb7b30bbf62bc7477a9c59cd19ad8535d72/tokenizers-0.8.1rc1-cp37-cp37m-manylinux1_x86_64.whl (3.0MB)\n",
            "\u001b[K     |████████████████████████████████| 3.0MB 55.3MB/s \n",
            "\u001b[?25hRequirement already satisfied: tqdm>=4.27 in /usr/local/lib/python3.7/dist-packages (from transformers==3.0.2) (4.41.1)\n",
            "Collecting sentencepiece!=0.1.92\n",
            "\u001b[?25l  Downloading https://files.pythonhosted.org/packages/f5/99/e0808cb947ba10f575839c43e8fafc9cc44e4a7a2c8f79c60db48220a577/sentencepiece-0.1.95-cp37-cp37m-manylinux2014_x86_64.whl (1.2MB)\n",
            "\u001b[K     |████████████████████████████████| 1.2MB 51.8MB/s \n",
            "\u001b[?25hRequirement already satisfied: requests in /usr/local/lib/python3.7/dist-packages (from transformers==3.0.2) (2.23.0)\n",
            "Requirement already satisfied: six in /usr/local/lib/python3.7/dist-packages (from sacremoses->transformers==3.0.2) (1.15.0)\n",
            "Requirement already satisfied: click in /usr/local/lib/python3.7/dist-packages (from sacremoses->transformers==3.0.2) (7.1.2)\n",
            "Requirement already satisfied: joblib in /usr/local/lib/python3.7/dist-packages (from sacremoses->transformers==3.0.2) (1.0.1)\n",
            "Requirement already satisfied: pyparsing>=2.0.2 in /usr/local/lib/python3.7/dist-packages (from packaging->transformers==3.0.2) (2.4.7)\n",
            "Requirement already satisfied: idna<3,>=2.5 in /usr/local/lib/python3.7/dist-packages (from requests->transformers==3.0.2) (2.10)\n",
            "Requirement already satisfied: chardet<4,>=3.0.2 in /usr/local/lib/python3.7/dist-packages (from requests->transformers==3.0.2) (3.0.4)\n",
            "Requirement already satisfied: certifi>=2017.4.17 in /usr/local/lib/python3.7/dist-packages (from requests->transformers==3.0.2) (2020.12.5)\n",
            "Requirement already satisfied: urllib3!=1.25.0,!=1.25.1,<1.26,>=1.21.1 in /usr/local/lib/python3.7/dist-packages (from requests->transformers==3.0.2) (1.24.3)\n",
            "Installing collected packages: sacremoses, tokenizers, sentencepiece, transformers\n",
            "Successfully installed sacremoses-0.0.45 sentencepiece-0.1.95 tokenizers-0.8.1rc1 transformers-3.0.2\n",
            "Collecting nlp\n",
            "\u001b[?25l  Downloading https://files.pythonhosted.org/packages/09/e3/bcdc59f3434b224040c1047769c47b82705feca2b89ebbc28311e3764782/nlp-0.4.0-py3-none-any.whl (1.7MB)\n",
            "\u001b[K     |████████████████████████████████| 1.7MB 31.2MB/s \n",
            "\u001b[?25hRequirement already satisfied: pandas in /usr/local/lib/python3.7/dist-packages (from nlp) (1.1.5)\n",
            "Requirement already satisfied: filelock in /usr/local/lib/python3.7/dist-packages (from nlp) (3.0.12)\n",
            "Requirement already satisfied: pyarrow>=0.16.0 in /usr/local/lib/python3.7/dist-packages (from nlp) (3.0.0)\n",
            "Requirement already satisfied: requests>=2.19.0 in /usr/local/lib/python3.7/dist-packages (from nlp) (2.23.0)\n",
            "Collecting xxhash\n",
            "\u001b[?25l  Downloading https://files.pythonhosted.org/packages/7d/4f/0a862cad26aa2ed7a7cd87178cbbfa824fc1383e472d63596a0d018374e7/xxhash-2.0.2-cp37-cp37m-manylinux2010_x86_64.whl (243kB)\n",
            "\u001b[K     |████████████████████████████████| 245kB 51.9MB/s \n",
            "\u001b[?25hRequirement already satisfied: numpy in /usr/local/lib/python3.7/dist-packages (from nlp) (1.19.5)\n",
            "Requirement already satisfied: dill in /usr/local/lib/python3.7/dist-packages (from nlp) (0.3.3)\n",
            "Requirement already satisfied: tqdm>=4.27 in /usr/local/lib/python3.7/dist-packages (from nlp) (4.41.1)\n",
            "Requirement already satisfied: python-dateutil>=2.7.3 in /usr/local/lib/python3.7/dist-packages (from pandas->nlp) (2.8.1)\n",
            "Requirement already satisfied: pytz>=2017.2 in /usr/local/lib/python3.7/dist-packages (from pandas->nlp) (2018.9)\n",
            "Requirement already satisfied: certifi>=2017.4.17 in /usr/local/lib/python3.7/dist-packages (from requests>=2.19.0->nlp) (2020.12.5)\n",
            "Requirement already satisfied: urllib3!=1.25.0,!=1.25.1,<1.26,>=1.21.1 in /usr/local/lib/python3.7/dist-packages (from requests>=2.19.0->nlp) (1.24.3)\n",
            "Requirement already satisfied: chardet<4,>=3.0.2 in /usr/local/lib/python3.7/dist-packages (from requests>=2.19.0->nlp) (3.0.4)\n",
            "Requirement already satisfied: idna<3,>=2.5 in /usr/local/lib/python3.7/dist-packages (from requests>=2.19.0->nlp) (2.10)\n",
            "Requirement already satisfied: six>=1.5 in /usr/local/lib/python3.7/dist-packages (from python-dateutil>=2.7.3->pandas->nlp) (1.15.0)\n",
            "Installing collected packages: xxhash, nlp\n",
            "Successfully installed nlp-0.4.0 xxhash-2.0.2\n"
          ],
          "name": "stdout"
        }
      ]
    },
    {
      "cell_type": "code",
      "metadata": {
        "id": "AfIpRONsFG-9"
      },
      "source": [
        "\n",
        "import gc\n",
        "import os\n",
        "import pandas as pd \n",
        "import numpy as np\n",
        "import matplotlib.pyplot as plt\n",
        "import seaborn as sns\n",
        "\n",
        "from nlp import load_dataset\n",
        "from transformers import TFAutoModel, AutoTokenizer\n",
        "\n",
        "import tensorflow as tf\n",
        "from tensorflow.keras.utils import get_custom_objects\n",
        "from tensorflow.keras import Input, Model, Sequential\n",
        "from tensorflow.keras.layers import Dense, Dropout, Activation, LSTM, Embedding, GlobalAveragePooling1D, Flatten, Conv1D, MaxPooling1D\n",
        "from tensorflow.keras.preprocessing.sequence import pad_sequences\n",
        "from tensorflow.keras.optimizers import Adam\n",
        "from tensorflow.keras.preprocessing.text import Tokenizer\n",
        "from tensorflow.keras.preprocessing.sequence import pad_sequences\n",
        "from tensorflow.keras import regularizers\n",
        "\n",
        "from sklearn.model_selection import train_test_split\n",
        "from sklearn.utils import shuffle\n",
        "\n",
        "np.random.seed(123)"
      ],
      "execution_count": 2,
      "outputs": []
    },
    {
      "cell_type": "code",
      "metadata": {
        "id": "uLcm3Dho9BY-"
      },
      "source": [
        "# load data\n",
        "train = pd.read_csv('/content/train.csv')\n",
        "test = pd.read_csv('/content/test.csv')\n",
        "submission = pd.read_csv('/content//sample_submission.csv')"
      ],
      "execution_count": 5,
      "outputs": []
    },
    {
      "cell_type": "markdown",
      "metadata": {
        "id": "ZN4XyChS_nvH"
      },
      "source": [
        "a. For train data"
      ]
    },
    {
      "cell_type": "code",
      "metadata": {
        "colab": {
          "base_uri": "https://localhost:8080/",
          "height": 176
        },
        "id": "FNynKRkZ_nA_",
        "outputId": "2549afbc-1152-4c55-b6bf-7ec872b6b7f4"
      },
      "source": [
        "print(\"Training data shape: \", train.shape)\n",
        "print(\"Traning data samples: \")\n",
        "train.head(3)"
      ],
      "execution_count": 4,
      "outputs": [
        {
          "output_type": "stream",
          "text": [
            "Training data shape:  (12120, 6)\n",
            "Traning data samples: \n"
          ],
          "name": "stdout"
        },
        {
          "output_type": "execute_result",
          "data": {
            "text/html": [
              "<div>\n",
              "<style scoped>\n",
              "    .dataframe tbody tr th:only-of-type {\n",
              "        vertical-align: middle;\n",
              "    }\n",
              "\n",
              "    .dataframe tbody tr th {\n",
              "        vertical-align: top;\n",
              "    }\n",
              "\n",
              "    .dataframe thead th {\n",
              "        text-align: right;\n",
              "    }\n",
              "</style>\n",
              "<table border=\"1\" class=\"dataframe\">\n",
              "  <thead>\n",
              "    <tr style=\"text-align: right;\">\n",
              "      <th></th>\n",
              "      <th>id</th>\n",
              "      <th>premise</th>\n",
              "      <th>hypothesis</th>\n",
              "      <th>lang_abv</th>\n",
              "      <th>language</th>\n",
              "      <th>label</th>\n",
              "    </tr>\n",
              "  </thead>\n",
              "  <tbody>\n",
              "    <tr>\n",
              "      <th>0</th>\n",
              "      <td>5130fd2cb5</td>\n",
              "      <td>and these comments were considered in formulat...</td>\n",
              "      <td>The rules developed in the interim were put to...</td>\n",
              "      <td>en</td>\n",
              "      <td>English</td>\n",
              "      <td>0</td>\n",
              "    </tr>\n",
              "    <tr>\n",
              "      <th>1</th>\n",
              "      <td>5b72532a0b</td>\n",
              "      <td>These are issues that we wrestle with in pract...</td>\n",
              "      <td>Practice groups are not permitted to work on t...</td>\n",
              "      <td>en</td>\n",
              "      <td>English</td>\n",
              "      <td>2</td>\n",
              "    </tr>\n",
              "    <tr>\n",
              "      <th>2</th>\n",
              "      <td>3931fbe82a</td>\n",
              "      <td>Des petites choses comme celles-là font une di...</td>\n",
              "      <td>J'essayais d'accomplir quelque chose.</td>\n",
              "      <td>fr</td>\n",
              "      <td>French</td>\n",
              "      <td>0</td>\n",
              "    </tr>\n",
              "  </tbody>\n",
              "</table>\n",
              "</div>"
            ],
            "text/plain": [
              "           id  ... label\n",
              "0  5130fd2cb5  ...     0\n",
              "1  5b72532a0b  ...     2\n",
              "2  3931fbe82a  ...     0\n",
              "\n",
              "[3 rows x 6 columns]"
            ]
          },
          "metadata": {
            "tags": []
          },
          "execution_count": 4
        }
      ]
    },
    {
      "cell_type": "code",
      "metadata": {
        "colab": {
          "base_uri": "https://localhost:8080/"
        },
        "id": "dblQv1aY9_6L",
        "outputId": "95b56dea-8d81-4ce6-8dab-ee334802bd57"
      },
      "source": [
        "train['language'].value_counts()"
      ],
      "execution_count": 5,
      "outputs": [
        {
          "output_type": "execute_result",
          "data": {
            "text/plain": [
              "English       6870\n",
              "Chinese        411\n",
              "Arabic         401\n",
              "French         390\n",
              "Swahili        385\n",
              "Urdu           381\n",
              "Vietnamese     379\n",
              "Russian        376\n",
              "Hindi          374\n",
              "Greek          372\n",
              "Thai           371\n",
              "Spanish        366\n",
              "German         351\n",
              "Turkish        351\n",
              "Bulgarian      342\n",
              "Name: language, dtype: int64"
            ]
          },
          "metadata": {
            "tags": []
          },
          "execution_count": 5
        }
      ]
    },
    {
      "cell_type": "code",
      "metadata": {
        "colab": {
          "base_uri": "https://localhost:8080/"
        },
        "id": "C2_5o5yP-KI0",
        "outputId": "b92400a4-882d-4b40-9bfa-63c7ac116c65"
      },
      "source": [
        "train.language.unique()"
      ],
      "execution_count": 6,
      "outputs": [
        {
          "output_type": "execute_result",
          "data": {
            "text/plain": [
              "array(['English', 'French', 'Thai', 'Turkish', 'Urdu', 'Russian',\n",
              "       'Bulgarian', 'German', 'Arabic', 'Chinese', 'Hindi', 'Swahili',\n",
              "       'Vietnamese', 'Spanish', 'Greek'], dtype=object)"
            ]
          },
          "metadata": {
            "tags": []
          },
          "execution_count": 6
        }
      ]
    },
    {
      "cell_type": "code",
      "metadata": {
        "colab": {
          "base_uri": "https://localhost:8080/"
        },
        "id": "aAuGHwOK-y13",
        "outputId": "82810418-12c8-4e5f-eed7-9dbe66eb89e7"
      },
      "source": [
        "print(\"Total number of languages in train data: \",len(train.language.unique()))"
      ],
      "execution_count": 7,
      "outputs": [
        {
          "output_type": "stream",
          "text": [
            "Total number of languages in train data:  15\n"
          ],
          "name": "stdout"
        }
      ]
    },
    {
      "cell_type": "code",
      "metadata": {
        "colab": {
          "base_uri": "https://localhost:8080/"
        },
        "id": "pqkXTz9N-R9B",
        "outputId": "d6655730-fddb-4c74-834d-ac095dcbd145"
      },
      "source": [
        "train.info()"
      ],
      "execution_count": 8,
      "outputs": [
        {
          "output_type": "stream",
          "text": [
            "<class 'pandas.core.frame.DataFrame'>\n",
            "RangeIndex: 12120 entries, 0 to 12119\n",
            "Data columns (total 6 columns):\n",
            " #   Column      Non-Null Count  Dtype \n",
            "---  ------      --------------  ----- \n",
            " 0   id          12120 non-null  object\n",
            " 1   premise     12120 non-null  object\n",
            " 2   hypothesis  12120 non-null  object\n",
            " 3   lang_abv    12120 non-null  object\n",
            " 4   language    12120 non-null  object\n",
            " 5   label       12120 non-null  int64 \n",
            "dtypes: int64(1), object(5)\n",
            "memory usage: 568.2+ KB\n"
          ],
          "name": "stdout"
        }
      ]
    },
    {
      "cell_type": "markdown",
      "metadata": {
        "id": "yJZCuS-v_5AI"
      },
      "source": [
        "b. For test data"
      ]
    },
    {
      "cell_type": "code",
      "metadata": {
        "colab": {
          "base_uri": "https://localhost:8080/",
          "height": 176
        },
        "id": "IucvVGWw_8kO",
        "outputId": "09b6942f-57f6-4f69-8ee5-f29b56588bf2"
      },
      "source": [
        "print(\"Testing data shape: \", test.shape)\n",
        "print(\"Testing data samples: \")\n",
        "test.head(3)"
      ],
      "execution_count": 9,
      "outputs": [
        {
          "output_type": "stream",
          "text": [
            "Testing data shape:  (5195, 5)\n",
            "Testing data samples: \n"
          ],
          "name": "stdout"
        },
        {
          "output_type": "execute_result",
          "data": {
            "text/html": [
              "<div>\n",
              "<style scoped>\n",
              "    .dataframe tbody tr th:only-of-type {\n",
              "        vertical-align: middle;\n",
              "    }\n",
              "\n",
              "    .dataframe tbody tr th {\n",
              "        vertical-align: top;\n",
              "    }\n",
              "\n",
              "    .dataframe thead th {\n",
              "        text-align: right;\n",
              "    }\n",
              "</style>\n",
              "<table border=\"1\" class=\"dataframe\">\n",
              "  <thead>\n",
              "    <tr style=\"text-align: right;\">\n",
              "      <th></th>\n",
              "      <th>id</th>\n",
              "      <th>premise</th>\n",
              "      <th>hypothesis</th>\n",
              "      <th>lang_abv</th>\n",
              "      <th>language</th>\n",
              "    </tr>\n",
              "  </thead>\n",
              "  <tbody>\n",
              "    <tr>\n",
              "      <th>0</th>\n",
              "      <td>c6d58c3f69</td>\n",
              "      <td>بکس، کیسی، راہیل، یسعیاہ، کیلی، کیلی، اور کولم...</td>\n",
              "      <td>کیسی کے لئے کوئی یادگار نہیں ہوگا, کولمین ہائی...</td>\n",
              "      <td>ur</td>\n",
              "      <td>Urdu</td>\n",
              "    </tr>\n",
              "    <tr>\n",
              "      <th>1</th>\n",
              "      <td>cefcc82292</td>\n",
              "      <td>هذا هو ما تم نصحنا به.</td>\n",
              "      <td>عندما يتم إخبارهم بما يجب عليهم فعله ، فشلت ال...</td>\n",
              "      <td>ar</td>\n",
              "      <td>Arabic</td>\n",
              "    </tr>\n",
              "    <tr>\n",
              "      <th>2</th>\n",
              "      <td>e98005252c</td>\n",
              "      <td>et cela est en grande partie dû au fait que le...</td>\n",
              "      <td>Les mères se droguent.</td>\n",
              "      <td>fr</td>\n",
              "      <td>French</td>\n",
              "    </tr>\n",
              "  </tbody>\n",
              "</table>\n",
              "</div>"
            ],
            "text/plain": [
              "           id  ... language\n",
              "0  c6d58c3f69  ...     Urdu\n",
              "1  cefcc82292  ...   Arabic\n",
              "2  e98005252c  ...   French\n",
              "\n",
              "[3 rows x 5 columns]"
            ]
          },
          "metadata": {
            "tags": []
          },
          "execution_count": 9
        }
      ]
    },
    {
      "cell_type": "code",
      "metadata": {
        "colab": {
          "base_uri": "https://localhost:8080/"
        },
        "id": "U-hwKkT2-YCn",
        "outputId": "7320f18a-f803-4089-bf7a-881ce5744949"
      },
      "source": [
        "test['language'].value_counts()"
      ],
      "execution_count": 10,
      "outputs": [
        {
          "output_type": "execute_result",
          "data": {
            "text/plain": [
              "English       2945\n",
              "Spanish        175\n",
              "Russian        172\n",
              "Swahili        172\n",
              "Greek          168\n",
              "Urdu           168\n",
              "Turkish        167\n",
              "Thai           164\n",
              "Arabic         159\n",
              "French         157\n",
              "German         152\n",
              "Chinese        151\n",
              "Hindi          150\n",
              "Bulgarian      150\n",
              "Vietnamese     145\n",
              "Name: language, dtype: int64"
            ]
          },
          "metadata": {
            "tags": []
          },
          "execution_count": 10
        }
      ]
    },
    {
      "cell_type": "code",
      "metadata": {
        "colab": {
          "base_uri": "https://localhost:8080/"
        },
        "id": "--AnnOUg-hk7",
        "outputId": "de70bb5c-f6a6-4ae1-9ecd-8310b65c8b33"
      },
      "source": [
        "test.language.unique()"
      ],
      "execution_count": 11,
      "outputs": [
        {
          "output_type": "execute_result",
          "data": {
            "text/plain": [
              "array(['Urdu', 'Arabic', 'French', 'Chinese', 'Russian', 'English',\n",
              "       'Swahili', 'German', 'Greek', 'Turkish', 'Hindi', 'Vietnamese',\n",
              "       'Spanish', 'Bulgarian', 'Thai'], dtype=object)"
            ]
          },
          "metadata": {
            "tags": []
          },
          "execution_count": 11
        }
      ]
    },
    {
      "cell_type": "code",
      "metadata": {
        "colab": {
          "base_uri": "https://localhost:8080/"
        },
        "id": "x4yWEWAT-jxT",
        "outputId": "a775c905-12da-4a50-c6c7-5b6181988180"
      },
      "source": [
        "print(\"Total number of languages in test data: \",len(test.language.unique()))"
      ],
      "execution_count": 12,
      "outputs": [
        {
          "output_type": "stream",
          "text": [
            "Total number of languages in test data:  15\n"
          ],
          "name": "stdout"
        }
      ]
    },
    {
      "cell_type": "code",
      "metadata": {
        "colab": {
          "base_uri": "https://localhost:8080/"
        },
        "id": "oCN9c8Dc-4EW",
        "outputId": "cb32a0f1-42fb-421e-cef7-a42da32e53aa"
      },
      "source": [
        "test.info()"
      ],
      "execution_count": 13,
      "outputs": [
        {
          "output_type": "stream",
          "text": [
            "<class 'pandas.core.frame.DataFrame'>\n",
            "RangeIndex: 5195 entries, 0 to 5194\n",
            "Data columns (total 5 columns):\n",
            " #   Column      Non-Null Count  Dtype \n",
            "---  ------      --------------  ----- \n",
            " 0   id          5195 non-null   object\n",
            " 1   premise     5195 non-null   object\n",
            " 2   hypothesis  5195 non-null   object\n",
            " 3   lang_abv    5195 non-null   object\n",
            " 4   language    5195 non-null   object\n",
            "dtypes: object(5)\n",
            "memory usage: 203.1+ KB\n"
          ],
          "name": "stdout"
        }
      ]
    },
    {
      "cell_type": "markdown",
      "metadata": {
        "id": "YY2Ko8IA8y_3"
      },
      "source": [
        "2. Perform data exploration"
      ]
    },
    {
      "cell_type": "markdown",
      "metadata": {
        "id": "ygKJEiOMAI1c"
      },
      "source": [
        "a. For train data"
      ]
    },
    {
      "cell_type": "code",
      "metadata": {
        "id": "0a9p1MNa80ho"
      },
      "source": [
        "train['label_str'] = train['label'].map({0 : \"entailment\", 1 : \"neutral\", 2 : \"contradiction\"})"
      ],
      "execution_count": null,
      "outputs": []
    },
    {
      "cell_type": "code",
      "metadata": {
        "colab": {
          "base_uri": "https://localhost:8080/",
          "height": 351
        },
        "id": "hdAfPc_g_Un_",
        "outputId": "a734a97d-034a-4b89-d30d-2b60ad8c6d25"
      },
      "source": [
        "plt.figure(figsize=(8,5))\n",
        "sns.countplot(y ='label_str', data = train, alpha=.5, palette=\"muted\")"
      ],
      "execution_count": null,
      "outputs": [
        {
          "output_type": "execute_result",
          "data": {
            "text/plain": [
              "<matplotlib.axes._subplots.AxesSubplot at 0x7f153ebe9a50>"
            ]
          },
          "metadata": {
            "tags": []
          },
          "execution_count": 15
        },
        {
          "output_type": "display_data",
          "data": {
            "image/png": "[encoded data removed]",
            "text/plain": [
              "<Figure size 576x360 with 1 Axes>"
            ]
          },
          "metadata": {
            "tags": []
          }
        }
      ]
    },
    {
      "cell_type": "code",
      "metadata": {
        "colab": {
          "base_uri": "https://localhost:8080/",
          "height": 623
        },
        "id": "m1q9vVuk_eC4",
        "outputId": "c085ad90-7431-465f-a265-952795949ff1"
      },
      "source": [
        "plt.figure(figsize=(15,10))\n",
        "sns.countplot(y ='language', hue = \"label_str\", data = train, alpha=.5, palette=\"muted\")"
      ],
      "execution_count": null,
      "outputs": [
        {
          "output_type": "execute_result",
          "data": {
            "text/plain": [
              "<matplotlib.axes._subplots.AxesSubplot at 0x7f153e3baa90>"
            ]
          },
          "metadata": {
            "tags": []
          },
          "execution_count": 16
        },
        {
          "output_type": "display_data",
          "data": {
            "image/png": "[encoded data removed]",
            "text/plain": [
              "<Figure size 1080x720 with 1 Axes>"
            ]
          },
          "metadata": {
            "tags": []
          }
        }
      ]
    },
    {
      "cell_type": "markdown",
      "metadata": {
        "id": "2UlPrzdYBUpp"
      },
      "source": [
        "# 3. Use sequence2sequence to build the model"
      ]
    },
    {
      "cell_type": "code",
      "metadata": {
        "colab": {
          "base_uri": "https://localhost:8080/",
          "height": 376
        },
        "id": "J4BT7QHh-Qve",
        "outputId": "190a9144-0ff8-4261-cb0b-6c7990c17fa8"
      },
      "source": [
        "for i in range(len(train['id'])):\n",
        "  if train['language'][i] != \"English\":\n",
        "    train = train.drop(i, axis = 0)\n",
        "new_id = [i for i in range(len(train['id']))]\n",
        "train.index = new_id\n",
        "print(\"Length of data: \", len(train['id']))\n",
        "train.head(10)"
      ],
      "execution_count": 6,
      "outputs": [
        {
          "output_type": "stream",
          "text": [
            "Length of data:  6870\n"
          ],
          "name": "stdout"
        },
        {
          "output_type": "execute_result",
          "data": {
            "text/html": [
              "<div>\n",
              "<style scoped>\n",
              "    .dataframe tbody tr th:only-of-type {\n",
              "        vertical-align: middle;\n",
              "    }\n",
              "\n",
              "    .dataframe tbody tr th {\n",
              "        vertical-align: top;\n",
              "    }\n",
              "\n",
              "    .dataframe thead th {\n",
              "        text-align: right;\n",
              "    }\n",
              "</style>\n",
              "<table border=\"1\" class=\"dataframe\">\n",
              "  <thead>\n",
              "    <tr style=\"text-align: right;\">\n",
              "      <th></th>\n",
              "      <th>id</th>\n",
              "      <th>premise</th>\n",
              "      <th>hypothesis</th>\n",
              "      <th>lang_abv</th>\n",
              "      <th>language</th>\n",
              "      <th>label</th>\n",
              "    </tr>\n",
              "  </thead>\n",
              "  <tbody>\n",
              "    <tr>\n",
              "      <th>0</th>\n",
              "      <td>5130fd2cb5</td>\n",
              "      <td>and these comments were considered in formulat...</td>\n",
              "      <td>The rules developed in the interim were put to...</td>\n",
              "      <td>en</td>\n",
              "      <td>English</td>\n",
              "      <td>0</td>\n",
              "    </tr>\n",
              "    <tr>\n",
              "      <th>1</th>\n",
              "      <td>5b72532a0b</td>\n",
              "      <td>These are issues that we wrestle with in pract...</td>\n",
              "      <td>Practice groups are not permitted to work on t...</td>\n",
              "      <td>en</td>\n",
              "      <td>English</td>\n",
              "      <td>2</td>\n",
              "    </tr>\n",
              "    <tr>\n",
              "      <th>2</th>\n",
              "      <td>5622f0c60b</td>\n",
              "      <td>you know they can't really defend themselves l...</td>\n",
              "      <td>They can't defend themselves because of their ...</td>\n",
              "      <td>en</td>\n",
              "      <td>English</td>\n",
              "      <td>0</td>\n",
              "    </tr>\n",
              "    <tr>\n",
              "      <th>3</th>\n",
              "      <td>fdcd1bd867</td>\n",
              "      <td>From Cockpit Country to St. Ann's Bay</td>\n",
              "      <td>From St. Ann's Bay to Cockpit Country.</td>\n",
              "      <td>en</td>\n",
              "      <td>English</td>\n",
              "      <td>2</td>\n",
              "    </tr>\n",
              "    <tr>\n",
              "      <th>4</th>\n",
              "      <td>7cfb3d272c</td>\n",
              "      <td>Look, it's your skin, but you're going to be i...</td>\n",
              "      <td>The boss will fire you if he sees you slacking...</td>\n",
              "      <td>en</td>\n",
              "      <td>English</td>\n",
              "      <td>1</td>\n",
              "    </tr>\n",
              "    <tr>\n",
              "      <th>5</th>\n",
              "      <td>dd4f0d9f25</td>\n",
              "      <td>\"If you people only knew how fatally easy it i...</td>\n",
              "      <td>Many people have poisoned someone by mistake.</td>\n",
              "      <td>en</td>\n",
              "      <td>English</td>\n",
              "      <td>1</td>\n",
              "    </tr>\n",
              "    <tr>\n",
              "      <th>6</th>\n",
              "      <td>0a3f52c547</td>\n",
              "      <td>My own little corner of the world, policy wonk...</td>\n",
              "      <td>An example is policy wonking.</td>\n",
              "      <td>en</td>\n",
              "      <td>English</td>\n",
              "      <td>0</td>\n",
              "    </tr>\n",
              "    <tr>\n",
              "      <th>7</th>\n",
              "      <td>4b0eca3ccb</td>\n",
              "      <td>life in prison then he's available for parole ...</td>\n",
              "      <td>The system is corrupt because he won't be able...</td>\n",
              "      <td>en</td>\n",
              "      <td>English</td>\n",
              "      <td>1</td>\n",
              "    </tr>\n",
              "    <tr>\n",
              "      <th>8</th>\n",
              "      <td>cad235551c</td>\n",
              "      <td>The streets are crammed with vendors selling s...</td>\n",
              "      <td>Vendors have lined the streets with torches an...</td>\n",
              "      <td>en</td>\n",
              "      <td>English</td>\n",
              "      <td>2</td>\n",
              "    </tr>\n",
              "    <tr>\n",
              "      <th>9</th>\n",
              "      <td>d8b3a4fb06</td>\n",
              "      <td>North of Mytilini, stop at the village of Mori...</td>\n",
              "      <td>There is nothing special to see in the village...</td>\n",
              "      <td>en</td>\n",
              "      <td>English</td>\n",
              "      <td>2</td>\n",
              "    </tr>\n",
              "  </tbody>\n",
              "</table>\n",
              "</div>"
            ],
            "text/plain": [
              "           id  ... label\n",
              "0  5130fd2cb5  ...     0\n",
              "1  5b72532a0b  ...     2\n",
              "2  5622f0c60b  ...     0\n",
              "3  fdcd1bd867  ...     2\n",
              "4  7cfb3d272c  ...     1\n",
              "5  dd4f0d9f25  ...     1\n",
              "6  0a3f52c547  ...     0\n",
              "7  4b0eca3ccb  ...     1\n",
              "8  cad235551c  ...     2\n",
              "9  d8b3a4fb06  ...     2\n",
              "\n",
              "[10 rows x 6 columns]"
            ]
          },
          "metadata": {
            "tags": []
          },
          "execution_count": 6
        }
      ]
    },
    {
      "cell_type": "code",
      "metadata": {
        "colab": {
          "base_uri": "https://localhost:8080/",
          "height": 323
        },
        "id": "Ch9cvv-56jQb",
        "outputId": "20ae737c-e9e3-4c8b-f782-2bcce8eeda59"
      },
      "source": [
        "import spacy\n",
        "import re\n",
        "import nltk\n",
        "#instantiating English module\n",
        "nlp = spacy.load('en_core_web_sm')\n",
        "nlp.max_length = 10000\n",
        "from nltk.stem import WordNetLemmatizer\n",
        "nltk.download('wordnet')\n",
        "documents = []\n",
        "stemmer = WordNetLemmatizer()\n",
        "# combine two sentences into one\n",
        "combine_sentences = []\n",
        "for i in range(len(train['id'])):\n",
        "    sentences = str(train['premise'][i]) + \" \" + str(train['hypothesis'][i])\n",
        "    # Remove all the special characters\n",
        "    document = re.sub(r'\\W', ' ', str(sentences))\n",
        "    # remove all single characters\n",
        "    document = re.sub(r'\\s+[a-zA-Z]\\s+', ' ', document)\n",
        "    # Remove single characters from the start\n",
        "    document = re.sub(r'\\^[a-zA-Z]\\s+', ' ', document) \n",
        "    # Substituting multiple spaces with single space\n",
        "    document = re.sub(r'\\s+', ' ', document, flags=re.I)\n",
        "    # Removing prefixed 'b'\n",
        "    document = re.sub(r'^b\\s+', '', document)\n",
        "    # Converting to Lowercase\n",
        "    document = document.lower()\n",
        "    # Lemmatization\n",
        "    document = document.split()\n",
        "    document = [stemmer.lemmatize(word) for word in document]\n",
        "    document = ' '.join(document)\n",
        "    document = [document]\n",
        "    combine_sentences.append(document)\n",
        "train[\"combined\"] = combine_sentences\n",
        "train.head(5)"
      ],
      "execution_count": 7,
      "outputs": [
        {
          "output_type": "stream",
          "text": [
            "[nltk_data] Downloading package wordnet to /root/nltk_data...\n",
            "[nltk_data]   Unzipping corpora/wordnet.zip.\n"
          ],
          "name": "stdout"
        },
        {
          "output_type": "execute_result",
          "data": {
            "text/html": [
              "<div>\n",
              "<style scoped>\n",
              "    .dataframe tbody tr th:only-of-type {\n",
              "        vertical-align: middle;\n",
              "    }\n",
              "\n",
              "    .dataframe tbody tr th {\n",
              "        vertical-align: top;\n",
              "    }\n",
              "\n",
              "    .dataframe thead th {\n",
              "        text-align: right;\n",
              "    }\n",
              "</style>\n",
              "<table border=\"1\" class=\"dataframe\">\n",
              "  <thead>\n",
              "    <tr style=\"text-align: right;\">\n",
              "      <th></th>\n",
              "      <th>id</th>\n",
              "      <th>premise</th>\n",
              "      <th>hypothesis</th>\n",
              "      <th>lang_abv</th>\n",
              "      <th>language</th>\n",
              "      <th>label</th>\n",
              "      <th>combined</th>\n",
              "    </tr>\n",
              "  </thead>\n",
              "  <tbody>\n",
              "    <tr>\n",
              "      <th>0</th>\n",
              "      <td>5130fd2cb5</td>\n",
              "      <td>and these comments were considered in formulat...</td>\n",
              "      <td>The rules developed in the interim were put to...</td>\n",
              "      <td>en</td>\n",
              "      <td>English</td>\n",
              "      <td>0</td>\n",
              "      <td>[and these comment were considered in formulat...</td>\n",
              "    </tr>\n",
              "    <tr>\n",
              "      <th>1</th>\n",
              "      <td>5b72532a0b</td>\n",
              "      <td>These are issues that we wrestle with in pract...</td>\n",
              "      <td>Practice groups are not permitted to work on t...</td>\n",
              "      <td>en</td>\n",
              "      <td>English</td>\n",
              "      <td>2</td>\n",
              "      <td>[these are issue that we wrestle with in pract...</td>\n",
              "    </tr>\n",
              "    <tr>\n",
              "      <th>2</th>\n",
              "      <td>5622f0c60b</td>\n",
              "      <td>you know they can't really defend themselves l...</td>\n",
              "      <td>They can't defend themselves because of their ...</td>\n",
              "      <td>en</td>\n",
              "      <td>English</td>\n",
              "      <td>0</td>\n",
              "      <td>[you know they can really defend themselves li...</td>\n",
              "    </tr>\n",
              "    <tr>\n",
              "      <th>3</th>\n",
              "      <td>fdcd1bd867</td>\n",
              "      <td>From Cockpit Country to St. Ann's Bay</td>\n",
              "      <td>From St. Ann's Bay to Cockpit Country.</td>\n",
              "      <td>en</td>\n",
              "      <td>English</td>\n",
              "      <td>2</td>\n",
              "      <td>[from cockpit country to st ann bay from st an...</td>\n",
              "    </tr>\n",
              "    <tr>\n",
              "      <th>4</th>\n",
              "      <td>7cfb3d272c</td>\n",
              "      <td>Look, it's your skin, but you're going to be i...</td>\n",
              "      <td>The boss will fire you if he sees you slacking...</td>\n",
              "      <td>en</td>\n",
              "      <td>English</td>\n",
              "      <td>1</td>\n",
              "      <td>[look it your skin but you re going to be in t...</td>\n",
              "    </tr>\n",
              "  </tbody>\n",
              "</table>\n",
              "</div>"
            ],
            "text/plain": [
              "           id  ...                                           combined\n",
              "0  5130fd2cb5  ...  [and these comment were considered in formulat...\n",
              "1  5b72532a0b  ...  [these are issue that we wrestle with in pract...\n",
              "2  5622f0c60b  ...  [you know they can really defend themselves li...\n",
              "3  fdcd1bd867  ...  [from cockpit country to st ann bay from st an...\n",
              "4  7cfb3d272c  ...  [look it your skin but you re going to be in t...\n",
              "\n",
              "[5 rows x 7 columns]"
            ]
          },
          "metadata": {
            "tags": []
          },
          "execution_count": 7
        }
      ]
    },
    {
      "cell_type": "code",
      "metadata": {
        "colab": {
          "base_uri": "https://localhost:8080/"
        },
        "id": "CiF3SVUP13yx",
        "outputId": "bfd3434f-52c5-406b-fa18-7b05e097d52e"
      },
      "source": [
        "from sklearn.feature_extraction.text import TfidfVectorizer\n",
        "from nltk.corpus import stopwords\n",
        "import nltk\n",
        "nltk.download('stopwords')\n",
        "tfidfconverter = TfidfVectorizer(max_features=2)\n",
        "# tfidfconverter = TfidfVectorizer()\n",
        "vector_tfdif = []\n",
        "for i in range(len(train[\"combined\"])):\n",
        "    input_value = train[\"combined\"][i]\n",
        "    # print(input_value, i)\n",
        "    test_vec = tfidfconverter.fit_transform(input_value).toarray()\n",
        "    vector_tfdif.append(test_vec[0])\n",
        "print(len(vector_tfdif))"
      ],
      "execution_count": 8,
      "outputs": [
        {
          "output_type": "stream",
          "text": [
            "[nltk_data] Downloading package stopwords to /root/nltk_data...\n",
            "[nltk_data]   Unzipping corpora/stopwords.zip.\n",
            "6870\n"
          ],
          "name": "stdout"
        }
      ]
    },
    {
      "cell_type": "code",
      "metadata": {
        "colab": {
          "base_uri": "https://localhost:8080/",
          "height": 546
        },
        "id": "ku1UFUHcY90M",
        "outputId": "61be41ab-a231-44eb-97be-d9111045fcc7"
      },
      "source": [
        "train[\"vector_tfdif\"] = vector_tfdif\n",
        "vector_tfdif_array = np.array(vector_tfdif)\n",
        "print(vector_tfdif_array.shape)\n",
        "train.head(10)"
      ],
      "execution_count": 9,
      "outputs": [
        {
          "output_type": "stream",
          "text": [
            "(6870, 2)\n"
          ],
          "name": "stdout"
        },
        {
          "output_type": "execute_result",
          "data": {
            "text/html": [
              "<div>\n",
              "<style scoped>\n",
              "    .dataframe tbody tr th:only-of-type {\n",
              "        vertical-align: middle;\n",
              "    }\n",
              "\n",
              "    .dataframe tbody tr th {\n",
              "        vertical-align: top;\n",
              "    }\n",
              "\n",
              "    .dataframe thead th {\n",
              "        text-align: right;\n",
              "    }\n",
              "</style>\n",
              "<table border=\"1\" class=\"dataframe\">\n",
              "  <thead>\n",
              "    <tr style=\"text-align: right;\">\n",
              "      <th></th>\n",
              "      <th>id</th>\n",
              "      <th>premise</th>\n",
              "      <th>hypothesis</th>\n",
              "      <th>lang_abv</th>\n",
              "      <th>language</th>\n",
              "      <th>label</th>\n",
              "      <th>combined</th>\n",
              "      <th>vector_tfdif</th>\n",
              "    </tr>\n",
              "  </thead>\n",
              "  <tbody>\n",
              "    <tr>\n",
              "      <th>0</th>\n",
              "      <td>5130fd2cb5</td>\n",
              "      <td>and these comments were considered in formulat...</td>\n",
              "      <td>The rules developed in the interim were put to...</td>\n",
              "      <td>en</td>\n",
              "      <td>English</td>\n",
              "      <td>0</td>\n",
              "      <td>[and these comment were considered in formulat...</td>\n",
              "      <td>[0.7071067811865476, 0.7071067811865476]</td>\n",
              "    </tr>\n",
              "    <tr>\n",
              "      <th>1</th>\n",
              "      <td>5b72532a0b</td>\n",
              "      <td>These are issues that we wrestle with in pract...</td>\n",
              "      <td>Practice groups are not permitted to work on t...</td>\n",
              "      <td>en</td>\n",
              "      <td>English</td>\n",
              "      <td>2</td>\n",
              "      <td>[these are issue that we wrestle with in pract...</td>\n",
              "      <td>[0.7071067811865475, 0.7071067811865475]</td>\n",
              "    </tr>\n",
              "    <tr>\n",
              "      <th>2</th>\n",
              "      <td>5622f0c60b</td>\n",
              "      <td>you know they can't really defend themselves l...</td>\n",
              "      <td>They can't defend themselves because of their ...</td>\n",
              "      <td>en</td>\n",
              "      <td>English</td>\n",
              "      <td>0</td>\n",
              "      <td>[you know they can really defend themselves li...</td>\n",
              "      <td>[0.7071067811865475, 0.7071067811865475]</td>\n",
              "    </tr>\n",
              "    <tr>\n",
              "      <th>3</th>\n",
              "      <td>fdcd1bd867</td>\n",
              "      <td>From Cockpit Country to St. Ann's Bay</td>\n",
              "      <td>From St. Ann's Bay to Cockpit Country.</td>\n",
              "      <td>en</td>\n",
              "      <td>English</td>\n",
              "      <td>2</td>\n",
              "      <td>[from cockpit country to st ann bay from st an...</td>\n",
              "      <td>[0.7071067811865475, 0.7071067811865475]</td>\n",
              "    </tr>\n",
              "    <tr>\n",
              "      <th>4</th>\n",
              "      <td>7cfb3d272c</td>\n",
              "      <td>Look, it's your skin, but you're going to be i...</td>\n",
              "      <td>The boss will fire you if he sees you slacking...</td>\n",
              "      <td>en</td>\n",
              "      <td>English</td>\n",
              "      <td>1</td>\n",
              "      <td>[look it your skin but you re going to be in t...</td>\n",
              "      <td>[0.4472135954999579, 0.8944271909999159]</td>\n",
              "    </tr>\n",
              "    <tr>\n",
              "      <th>5</th>\n",
              "      <td>dd4f0d9f25</td>\n",
              "      <td>\"If you people only knew how fatally easy it i...</td>\n",
              "      <td>Many people have poisoned someone by mistake.</td>\n",
              "      <td>en</td>\n",
              "      <td>English</td>\n",
              "      <td>1</td>\n",
              "      <td>[if you people only knew how fatally easy it i...</td>\n",
              "      <td>[0.7071067811865475, 0.7071067811865475]</td>\n",
              "    </tr>\n",
              "    <tr>\n",
              "      <th>6</th>\n",
              "      <td>0a3f52c547</td>\n",
              "      <td>My own little corner of the world, policy wonk...</td>\n",
              "      <td>An example is policy wonking.</td>\n",
              "      <td>en</td>\n",
              "      <td>English</td>\n",
              "      <td>0</td>\n",
              "      <td>[my own little corner of the world policy wonk...</td>\n",
              "      <td>[0.7071067811865475, 0.7071067811865475]</td>\n",
              "    </tr>\n",
              "    <tr>\n",
              "      <th>7</th>\n",
              "      <td>4b0eca3ccb</td>\n",
              "      <td>life in prison then he's available for parole ...</td>\n",
              "      <td>The system is corrupt because he won't be able...</td>\n",
              "      <td>en</td>\n",
              "      <td>English</td>\n",
              "      <td>1</td>\n",
              "      <td>[life in prison then he available for parole i...</td>\n",
              "      <td>[0.7071067811865476, 0.7071067811865476]</td>\n",
              "    </tr>\n",
              "    <tr>\n",
              "      <th>8</th>\n",
              "      <td>cad235551c</td>\n",
              "      <td>The streets are crammed with vendors selling s...</td>\n",
              "      <td>Vendors have lined the streets with torches an...</td>\n",
              "      <td>en</td>\n",
              "      <td>English</td>\n",
              "      <td>2</td>\n",
              "      <td>[the street are crammed with vendor selling sh...</td>\n",
              "      <td>[0.8320502943378437, 0.5547001962252291]</td>\n",
              "    </tr>\n",
              "    <tr>\n",
              "      <th>9</th>\n",
              "      <td>d8b3a4fb06</td>\n",
              "      <td>North of Mytilini, stop at the village of Mori...</td>\n",
              "      <td>There is nothing special to see in the village...</td>\n",
              "      <td>en</td>\n",
              "      <td>English</td>\n",
              "      <td>2</td>\n",
              "      <td>[north of mytilini stop at the village of mori...</td>\n",
              "      <td>[0.8, 0.6]</td>\n",
              "    </tr>\n",
              "  </tbody>\n",
              "</table>\n",
              "</div>"
            ],
            "text/plain": [
              "           id  ...                              vector_tfdif\n",
              "0  5130fd2cb5  ...  [0.7071067811865476, 0.7071067811865476]\n",
              "1  5b72532a0b  ...  [0.7071067811865475, 0.7071067811865475]\n",
              "2  5622f0c60b  ...  [0.7071067811865475, 0.7071067811865475]\n",
              "3  fdcd1bd867  ...  [0.7071067811865475, 0.7071067811865475]\n",
              "4  7cfb3d272c  ...  [0.4472135954999579, 0.8944271909999159]\n",
              "5  dd4f0d9f25  ...  [0.7071067811865475, 0.7071067811865475]\n",
              "6  0a3f52c547  ...  [0.7071067811865475, 0.7071067811865475]\n",
              "7  4b0eca3ccb  ...  [0.7071067811865476, 0.7071067811865476]\n",
              "8  cad235551c  ...  [0.8320502943378437, 0.5547001962252291]\n",
              "9  d8b3a4fb06  ...                                [0.8, 0.6]\n",
              "\n",
              "[10 rows x 8 columns]"
            ]
          },
          "metadata": {
            "tags": []
          },
          "execution_count": 9
        }
      ]
    },
    {
      "cell_type": "code",
      "metadata": {
        "colab": {
          "base_uri": "https://localhost:8080/"
        },
        "id": "jXtLYfgKnLtw",
        "outputId": "fcb4a408-7c9b-447b-af4e-0d7d71355f37"
      },
      "source": [
        "from keras.utils import to_categorical\n",
        "\n",
        "X_tfdif, y_tfdif = train['vector_tfdif'].values.tolist(), train['label'].values.tolist()\n",
        "X_tfdif = np.array(X_tfdif)\n",
        "y_tfdif = np.array(y_tfdif)\n",
        "y_tfdif = to_categorical(y_tfdif, 3)\n",
        "print(\"Length of data: \", X_tfdif.shape)\n",
        "print(\"Length of label: \", y_tfdif.shape)\n",
        "\n",
        "X_train_tfdif, X_test_tfdif, Y_train_tfdif, Y_test_tfdif = train_test_split(X_tfdif, y_tfdif, test_size=0.2, random_state=1)\n",
        "print(\"Shape of train data: \", X_train_tfdif.shape,Y_train_tfdif.shape)\n",
        "print(\"Shape of test data: \", X_test_tfdif.shape,Y_test_tfdif.shape)"
      ],
      "execution_count": 10,
      "outputs": [
        {
          "output_type": "stream",
          "text": [
            "Length of data:  (6870, 2)\n",
            "Length of label:  (6870, 3)\n",
            "Shape of train data:  (5496, 2) (5496, 3)\n",
            "Shape of test data:  (1374, 2) (1374, 3)\n"
          ],
          "name": "stdout"
        }
      ]
    },
    {
      "cell_type": "code",
      "metadata": {
        "colab": {
          "base_uri": "https://localhost:8080/",
          "height": 1000
        },
        "id": "4Kyq-rPo5Zku",
        "outputId": "cbfa2187-b5bf-46f9-960e-d8bc7feb6190"
      },
      "source": [
        "top_words = 1000\n",
        "max_review_length = 500\n",
        "embedding_vecor_length = 100\n",
        "model = Sequential()\n",
        "model.add(Embedding(top_words, embedding_vecor_length, input_length=max_review_length))\n",
        "model.add(Conv1D(filters=32, kernel_size=3, padding='same', activation='relu'))\n",
        "model.add(MaxPooling1D(pool_size=2))\n",
        "model.add(LSTM(100))\n",
        "model.add(Dense(3, activation='sigmoid'))\n",
        "model.compile(loss='binary_crossentropy', optimizer='adam', metrics=['accuracy'])\n",
        "print(model.summary())\n",
        "\n",
        "EPOCHS = 15\n",
        "BATCH_SIZE = 64\n",
        "history_se2se = model.fit(X_train_tfdif, Y_train_tfdif, epochs=EPOCHS, batch_size=BATCH_SIZE)\n",
        "# Final evaluation of the model\n",
        "scores = model.evaluate(X_test_tfdif, Y_test_tfdif, verbose=0)\n",
        "print(\"Accuracy: %.2f%%\" % (scores[1]*100))\n",
        "\n",
        "plt.plot(history_se2se.history['accuracy'])\n",
        "plt.title('Model accuracy')\n",
        "plt.ylabel('Accuracy')\n",
        "plt.xlabel('Epoch')\n",
        "plt.legend(['Train', 'Test'], loc='upper left')\n",
        "plt.show()\n",
        "\n",
        "plt.plot(history_se2se.history['loss'])\n",
        "plt.title('Model loss')\n",
        "plt.ylabel('Loss')\n",
        "plt.xlabel('Epoch')\n",
        "plt.legend(['Train', 'Test'], loc='upper left')\n",
        "plt.show()"
      ],
      "execution_count": 11,
      "outputs": [
        {
          "output_type": "stream",
          "text": [
            "Model: \"sequential\"\n",
            "_________________________________________________________________\n",
            "Layer (type)                 Output Shape              Param #   \n",
            "=================================================================\n",
            "embedding (Embedding)        (None, 500, 100)          100000    \n",
            "_________________________________________________________________\n",
            "conv1d (Conv1D)              (None, 500, 32)           9632      \n",
            "_________________________________________________________________\n",
            "max_pooling1d (MaxPooling1D) (None, 250, 32)           0         \n",
            "_________________________________________________________________\n",
            "lstm (LSTM)                  (None, 100)               53200     \n",
            "_________________________________________________________________\n",
            "dense (Dense)                (None, 3)                 303       \n",
            "=================================================================\n",
            "Total params: 163,135\n",
            "Trainable params: 163,135\n",
            "Non-trainable params: 0\n",
            "_________________________________________________________________\n",
            "None\n",
            "Epoch 1/15\n",
            "WARNING:tensorflow:Model was constructed with shape (None, 500) for input KerasTensor(type_spec=TensorSpec(shape=(None, 500), dtype=tf.float32, name='embedding_input'), name='embedding_input', description=\"created by layer 'embedding_input'\"), but it was called on an input with incompatible shape (None, 2).\n",
            "WARNING:tensorflow:Model was constructed with shape (None, 500) for input KerasTensor(type_spec=TensorSpec(shape=(None, 500), dtype=tf.float32, name='embedding_input'), name='embedding_input', description=\"created by layer 'embedding_input'\"), but it was called on an input with incompatible shape (None, 2).\n",
            "86/86 [==============================] - 34s 6ms/step - loss: 0.6653 - accuracy: 0.3336\n",
            "Epoch 2/15\n",
            "86/86 [==============================] - 0s 5ms/step - loss: 0.6361 - accuracy: 0.3527\n",
            "Epoch 3/15\n",
            "86/86 [==============================] - 0s 5ms/step - loss: 0.6365 - accuracy: 0.3500\n",
            "Epoch 4/15\n",
            "86/86 [==============================] - 0s 5ms/step - loss: 0.6367 - accuracy: 0.3372\n",
            "Epoch 5/15\n",
            "86/86 [==============================] - 0s 5ms/step - loss: 0.6363 - accuracy: 0.3553\n",
            "Epoch 6/15\n",
            "86/86 [==============================] - 0s 5ms/step - loss: 0.6364 - accuracy: 0.3507\n",
            "Epoch 7/15\n",
            "86/86 [==============================] - 0s 5ms/step - loss: 0.6362 - accuracy: 0.3507\n",
            "Epoch 8/15\n",
            "86/86 [==============================] - 0s 5ms/step - loss: 0.6366 - accuracy: 0.3344\n",
            "Epoch 9/15\n",
            "86/86 [==============================] - 0s 5ms/step - loss: 0.6359 - accuracy: 0.3583\n",
            "Epoch 10/15\n",
            "86/86 [==============================] - 0s 5ms/step - loss: 0.6361 - accuracy: 0.3517\n",
            "Epoch 11/15\n",
            "86/86 [==============================] - 0s 5ms/step - loss: 0.6360 - accuracy: 0.3597\n",
            "Epoch 12/15\n",
            "86/86 [==============================] - 0s 5ms/step - loss: 0.6367 - accuracy: 0.3420\n",
            "Epoch 13/15\n",
            "86/86 [==============================] - 0s 5ms/step - loss: 0.6364 - accuracy: 0.3499\n",
            "Epoch 14/15\n",
            "86/86 [==============================] - 0s 5ms/step - loss: 0.6366 - accuracy: 0.3304\n",
            "Epoch 15/15\n",
            "86/86 [==============================] - 0s 5ms/step - loss: 0.6357 - accuracy: 0.3557\n",
            "WARNING:tensorflow:Model was constructed with shape (None, 500) for input KerasTensor(type_spec=TensorSpec(shape=(None, 500), dtype=tf.float32, name='embedding_input'), name='embedding_input', description=\"created by layer 'embedding_input'\"), but it was called on an input with incompatible shape (None, 2).\n",
            "Accuracy: 35.59%\n"
          ],
          "name": "stdout"
        },
        {
          "output_type": "display_data",
          "data": {
            "image/png": "[encoded data removed]",
            "text/plain": [
              "<Figure size 432x288 with 1 Axes>"
            ]
          },
          "metadata": {
            "tags": [],
            "needs_background": "light"
          }
        },
        {
          "output_type": "display_data",
          "data": {
            "image/png": "[encoded data removed]",
            "text/plain": [
              "<Figure size 432x288 with 1 Axes>"
            ]
          },
          "metadata": {
            "tags": [],
            "needs_background": "light"
          }
        }
      ]
    },
    {
      "cell_type": "code",
      "metadata": {
        "colab": {
          "base_uri": "https://localhost:8080/"
        },
        "id": "xOOXQxV2xClm",
        "outputId": "a07bc34f-4973-4e9b-f6fd-09eb80b550e1"
      },
      "source": [
        "from sklearn.metrics import classification_report\n",
        "y_pred = model.predict(X_test_tfdif)\n",
        "final_1 = np.argmax(y_pred, axis = 1)    \n",
        "Y_test_tfdif_1 = np.argmax(Y_test_tfdif, axis = 1)\n",
        "print(classification_report(Y_test_tfdif_1, final_1))"
      ],
      "execution_count": 12,
      "outputs": [
        {
          "output_type": "stream",
          "text": [
            "WARNING:tensorflow:Model was constructed with shape (None, 500) for input KerasTensor(type_spec=TensorSpec(shape=(None, 500), dtype=tf.float32, name='embedding_input'), name='embedding_input', description=\"created by layer 'embedding_input'\"), but it was called on an input with incompatible shape (None, 2).\n",
            "              precision    recall  f1-score   support\n",
            "\n",
            "           0       0.36      1.00      0.52       489\n",
            "           1       0.00      0.00      0.00       444\n",
            "           2       0.00      0.00      0.00       441\n",
            "\n",
            "    accuracy                           0.36      1374\n",
            "   macro avg       0.12      0.33      0.17      1374\n",
            "weighted avg       0.13      0.36      0.19      1374\n",
            "\n"
          ],
          "name": "stdout"
        },
        {
          "output_type": "stream",
          "text": [
            "/usr/local/lib/python3.7/dist-packages/sklearn/metrics/_classification.py:1272: UndefinedMetricWarning: Precision and F-score are ill-defined and being set to 0.0 in labels with no predicted samples. Use `zero_division` parameter to control this behavior.\n",
            "  _warn_prf(average, modifier, msg_start, len(result))\n"
          ],
          "name": "stderr"
        }
      ]
    },
    {
      "cell_type": "markdown",
      "metadata": {
        "id": "JLiouSSFrdv2"
      },
      "source": [
        "* Using word2vec"
      ]
    },
    {
      "cell_type": "code",
      "metadata": {
        "id": "8bx54dr5rNC-"
      },
      "source": [
        "from gensim.models import KeyedVectors\n",
        "from gensim.models import Word2Vec\n",
        "\n",
        "# load the google word2vec model\n",
        "filename = '/content/drive/MyDrive/GoogleNews-vectors-negative300.bin'\n",
        "model_word2vec = KeyedVectors.load_word2vec_format(filename, binary=True, limit = 300000)"
      ],
      "execution_count": 13,
      "outputs": []
    },
    {
      "cell_type": "code",
      "metadata": {
        "colab": {
          "base_uri": "https://localhost:8080/",
          "height": 289
        },
        "id": "SaZ_hTwmVJe7",
        "outputId": "c38fd945-b089-4e9b-afd8-4a47f28a63f0"
      },
      "source": [
        "# get new data for using word2vec\n",
        "train_word2vec = train\n",
        "train_word2vec.head(5)"
      ],
      "execution_count": 14,
      "outputs": [
        {
          "output_type": "execute_result",
          "data": {
            "text/html": [
              "<div>\n",
              "<style scoped>\n",
              "    .dataframe tbody tr th:only-of-type {\n",
              "        vertical-align: middle;\n",
              "    }\n",
              "\n",
              "    .dataframe tbody tr th {\n",
              "        vertical-align: top;\n",
              "    }\n",
              "\n",
              "    .dataframe thead th {\n",
              "        text-align: right;\n",
              "    }\n",
              "</style>\n",
              "<table border=\"1\" class=\"dataframe\">\n",
              "  <thead>\n",
              "    <tr style=\"text-align: right;\">\n",
              "      <th></th>\n",
              "      <th>id</th>\n",
              "      <th>premise</th>\n",
              "      <th>hypothesis</th>\n",
              "      <th>lang_abv</th>\n",
              "      <th>language</th>\n",
              "      <th>label</th>\n",
              "      <th>combined</th>\n",
              "      <th>vector_tfdif</th>\n",
              "    </tr>\n",
              "  </thead>\n",
              "  <tbody>\n",
              "    <tr>\n",
              "      <th>0</th>\n",
              "      <td>5130fd2cb5</td>\n",
              "      <td>and these comments were considered in formulat...</td>\n",
              "      <td>The rules developed in the interim were put to...</td>\n",
              "      <td>en</td>\n",
              "      <td>English</td>\n",
              "      <td>0</td>\n",
              "      <td>[and these comment were considered in formulat...</td>\n",
              "      <td>[0.7071067811865476, 0.7071067811865476]</td>\n",
              "    </tr>\n",
              "    <tr>\n",
              "      <th>1</th>\n",
              "      <td>5b72532a0b</td>\n",
              "      <td>These are issues that we wrestle with in pract...</td>\n",
              "      <td>Practice groups are not permitted to work on t...</td>\n",
              "      <td>en</td>\n",
              "      <td>English</td>\n",
              "      <td>2</td>\n",
              "      <td>[these are issue that we wrestle with in pract...</td>\n",
              "      <td>[0.7071067811865475, 0.7071067811865475]</td>\n",
              "    </tr>\n",
              "    <tr>\n",
              "      <th>2</th>\n",
              "      <td>5622f0c60b</td>\n",
              "      <td>you know they can't really defend themselves l...</td>\n",
              "      <td>They can't defend themselves because of their ...</td>\n",
              "      <td>en</td>\n",
              "      <td>English</td>\n",
              "      <td>0</td>\n",
              "      <td>[you know they can really defend themselves li...</td>\n",
              "      <td>[0.7071067811865475, 0.7071067811865475]</td>\n",
              "    </tr>\n",
              "    <tr>\n",
              "      <th>3</th>\n",
              "      <td>fdcd1bd867</td>\n",
              "      <td>From Cockpit Country to St. Ann's Bay</td>\n",
              "      <td>From St. Ann's Bay to Cockpit Country.</td>\n",
              "      <td>en</td>\n",
              "      <td>English</td>\n",
              "      <td>2</td>\n",
              "      <td>[from cockpit country to st ann bay from st an...</td>\n",
              "      <td>[0.7071067811865475, 0.7071067811865475]</td>\n",
              "    </tr>\n",
              "    <tr>\n",
              "      <th>4</th>\n",
              "      <td>7cfb3d272c</td>\n",
              "      <td>Look, it's your skin, but you're going to be i...</td>\n",
              "      <td>The boss will fire you if he sees you slacking...</td>\n",
              "      <td>en</td>\n",
              "      <td>English</td>\n",
              "      <td>1</td>\n",
              "      <td>[look it your skin but you re going to be in t...</td>\n",
              "      <td>[0.4472135954999579, 0.8944271909999159]</td>\n",
              "    </tr>\n",
              "  </tbody>\n",
              "</table>\n",
              "</div>"
            ],
            "text/plain": [
              "           id  ...                              vector_tfdif\n",
              "0  5130fd2cb5  ...  [0.7071067811865476, 0.7071067811865476]\n",
              "1  5b72532a0b  ...  [0.7071067811865475, 0.7071067811865475]\n",
              "2  5622f0c60b  ...  [0.7071067811865475, 0.7071067811865475]\n",
              "3  fdcd1bd867  ...  [0.7071067811865475, 0.7071067811865475]\n",
              "4  7cfb3d272c  ...  [0.4472135954999579, 0.8944271909999159]\n",
              "\n",
              "[5 rows x 8 columns]"
            ]
          },
          "metadata": {
            "tags": []
          },
          "execution_count": 14
        }
      ]
    },
    {
      "cell_type": "code",
      "metadata": {
        "colab": {
          "base_uri": "https://localhost:8080/"
        },
        "id": "AHXmK1D-rofQ",
        "outputId": "8bf7e45f-dfae-4593-c5c6-1ccf27ee0cea"
      },
      "source": [
        "#importing libraries\n",
        "import spacy\n",
        "import datetime\n",
        "start_time = datetime.datetime.now()\n",
        "#instantiating English module\n",
        "nlp = spacy.load('en_core_web_sm')\n",
        "nlp.max_length = 10000\n",
        "word2vec_data = []\n",
        "for i in range(len(train_word2vec[\"combined\"])):\n",
        "    #creating doc object containing our token features\n",
        "    doc = nlp(train_word2vec[\"combined\"][i][0])\n",
        "\n",
        "    #Creating and updating our list of tokens using list comprehension \n",
        "    tokens = [token.text for token in doc]\n",
        "    word2vec_data.append(tokens)\n",
        "print(\"Length of word2vec_data: \", len(word2vec_data))\n",
        "stop_time = datetime.datetime.now()\n",
        "cost_time = (stop_time-start_time)\n",
        "total_seconds = cost_time.total_seconds()\n",
        "print(\"Cost time for using spacy step\", total_seconds)"
      ],
      "execution_count": 15,
      "outputs": [
        {
          "output_type": "stream",
          "text": [
            "Length of word2vec_data:  6870\n",
            "Cost time for using spacy step 280.814229\n"
          ],
          "name": "stdout"
        }
      ]
    },
    {
      "cell_type": "code",
      "metadata": {
        "colab": {
          "base_uri": "https://localhost:8080/",
          "height": 374
        },
        "id": "63IFU7mXGFFn",
        "outputId": "f71c3c07-5f3a-441e-b534-cb34ecb317fb"
      },
      "source": [
        "train_word2vec[\"spacy_data\"] = word2vec_data\n",
        "train_word2vec.head(5)"
      ],
      "execution_count": 16,
      "outputs": [
        {
          "output_type": "execute_result",
          "data": {
            "text/html": [
              "<div>\n",
              "<style scoped>\n",
              "    .dataframe tbody tr th:only-of-type {\n",
              "        vertical-align: middle;\n",
              "    }\n",
              "\n",
              "    .dataframe tbody tr th {\n",
              "        vertical-align: top;\n",
              "    }\n",
              "\n",
              "    .dataframe thead th {\n",
              "        text-align: right;\n",
              "    }\n",
              "</style>\n",
              "<table border=\"1\" class=\"dataframe\">\n",
              "  <thead>\n",
              "    <tr style=\"text-align: right;\">\n",
              "      <th></th>\n",
              "      <th>id</th>\n",
              "      <th>premise</th>\n",
              "      <th>hypothesis</th>\n",
              "      <th>lang_abv</th>\n",
              "      <th>language</th>\n",
              "      <th>label</th>\n",
              "      <th>combined</th>\n",
              "      <th>vector_tfdif</th>\n",
              "      <th>spacy_data</th>\n",
              "    </tr>\n",
              "  </thead>\n",
              "  <tbody>\n",
              "    <tr>\n",
              "      <th>0</th>\n",
              "      <td>5130fd2cb5</td>\n",
              "      <td>and these comments were considered in formulat...</td>\n",
              "      <td>The rules developed in the interim were put to...</td>\n",
              "      <td>en</td>\n",
              "      <td>English</td>\n",
              "      <td>0</td>\n",
              "      <td>[and these comment were considered in formulat...</td>\n",
              "      <td>[0.7071067811865476, 0.7071067811865476]</td>\n",
              "      <td>[and, these, comment, were, considered, in, fo...</td>\n",
              "    </tr>\n",
              "    <tr>\n",
              "      <th>1</th>\n",
              "      <td>5b72532a0b</td>\n",
              "      <td>These are issues that we wrestle with in pract...</td>\n",
              "      <td>Practice groups are not permitted to work on t...</td>\n",
              "      <td>en</td>\n",
              "      <td>English</td>\n",
              "      <td>2</td>\n",
              "      <td>[these are issue that we wrestle with in pract...</td>\n",
              "      <td>[0.7071067811865475, 0.7071067811865475]</td>\n",
              "      <td>[these, are, issue, that, we, wrestle, with, i...</td>\n",
              "    </tr>\n",
              "    <tr>\n",
              "      <th>2</th>\n",
              "      <td>5622f0c60b</td>\n",
              "      <td>you know they can't really defend themselves l...</td>\n",
              "      <td>They can't defend themselves because of their ...</td>\n",
              "      <td>en</td>\n",
              "      <td>English</td>\n",
              "      <td>0</td>\n",
              "      <td>[you know they can really defend themselves li...</td>\n",
              "      <td>[0.7071067811865475, 0.7071067811865475]</td>\n",
              "      <td>[you, know, they, can, really, defend, themsel...</td>\n",
              "    </tr>\n",
              "    <tr>\n",
              "      <th>3</th>\n",
              "      <td>fdcd1bd867</td>\n",
              "      <td>From Cockpit Country to St. Ann's Bay</td>\n",
              "      <td>From St. Ann's Bay to Cockpit Country.</td>\n",
              "      <td>en</td>\n",
              "      <td>English</td>\n",
              "      <td>2</td>\n",
              "      <td>[from cockpit country to st ann bay from st an...</td>\n",
              "      <td>[0.7071067811865475, 0.7071067811865475]</td>\n",
              "      <td>[from, cockpit, country, to, st, ann, bay, fro...</td>\n",
              "    </tr>\n",
              "    <tr>\n",
              "      <th>4</th>\n",
              "      <td>7cfb3d272c</td>\n",
              "      <td>Look, it's your skin, but you're going to be i...</td>\n",
              "      <td>The boss will fire you if he sees you slacking...</td>\n",
              "      <td>en</td>\n",
              "      <td>English</td>\n",
              "      <td>1</td>\n",
              "      <td>[look it your skin but you re going to be in t...</td>\n",
              "      <td>[0.4472135954999579, 0.8944271909999159]</td>\n",
              "      <td>[look, it, your, skin, but, you, re, going, to...</td>\n",
              "    </tr>\n",
              "  </tbody>\n",
              "</table>\n",
              "</div>"
            ],
            "text/plain": [
              "           id  ...                                         spacy_data\n",
              "0  5130fd2cb5  ...  [and, these, comment, were, considered, in, fo...\n",
              "1  5b72532a0b  ...  [these, are, issue, that, we, wrestle, with, i...\n",
              "2  5622f0c60b  ...  [you, know, they, can, really, defend, themsel...\n",
              "3  fdcd1bd867  ...  [from, cockpit, country, to, st, ann, bay, fro...\n",
              "4  7cfb3d272c  ...  [look, it, your, skin, but, you, re, going, to...\n",
              "\n",
              "[5 rows x 9 columns]"
            ]
          },
          "metadata": {
            "tags": []
          },
          "execution_count": 16
        }
      ]
    },
    {
      "cell_type": "code",
      "metadata": {
        "colab": {
          "base_uri": "https://localhost:8080/"
        },
        "id": "uRNd4RR2GT4k",
        "outputId": "10e4d5b2-ccae-4277-f0f5-ce38f835520c"
      },
      "source": [
        "import numpy as np\n",
        "word2vec_data_vec = []\n",
        "for j in range(len(train_word2vec[\"spacy_data\"])):\n",
        "    vec = []\n",
        "    for i in range(len(train_word2vec[\"spacy_data\"][j])):\n",
        "        if word2vec_data[j][i] in model_word2vec.vocab:\n",
        "            a = np.array(model_word2vec.get_vector(word2vec_data[j][i]))\n",
        "            vec.append(a)\n",
        "    vec = np.array(vec)\n",
        "    vec_average = np.average(vec, axis=0)\n",
        "    word2vec_data_vec.append(vec_average)\n",
        "print(\"Length of word2vec_data_vec: \", len(word2vec_data_vec))"
      ],
      "execution_count": 17,
      "outputs": [
        {
          "output_type": "stream",
          "text": [
            "/usr/local/lib/python3.7/dist-packages/numpy/lib/function_base.py:380: RuntimeWarning: Mean of empty slice.\n",
            "  avg = a.mean(axis)\n",
            "/usr/local/lib/python3.7/dist-packages/numpy/core/_methods.py:170: RuntimeWarning: invalid value encountered in double_scalars\n",
            "  ret = ret.dtype.type(ret / rcount)\n"
          ],
          "name": "stderr"
        },
        {
          "output_type": "stream",
          "text": [
            "Length of word2vec_data_vec:  6870\n"
          ],
          "name": "stdout"
        }
      ]
    },
    {
      "cell_type": "code",
      "metadata": {
        "colab": {
          "base_uri": "https://localhost:8080/"
        },
        "id": "KJeKfahEcpvO",
        "outputId": "5b902ad8-466a-44c5-a110-509bb179e4f6"
      },
      "source": [
        "nan_index = []\n",
        "for i in range(len(word2vec_data_vec)):\n",
        "  if str(word2vec_data_vec[i]) == \"nan\":\n",
        "    print(word2vec_data_vec[i], i)\n",
        "    nan_index.append(i)\n",
        "print(\"All nan index: \", nan_index)"
      ],
      "execution_count": 18,
      "outputs": [
        {
          "output_type": "stream",
          "text": [
            "nan 110\n",
            "nan 446\n",
            "All nan index:  [110, 446]\n"
          ],
          "name": "stdout"
        }
      ]
    },
    {
      "cell_type": "code",
      "metadata": {
        "colab": {
          "base_uri": "https://localhost:8080/",
          "height": 493
        },
        "id": "HfWU36vGJiR5",
        "outputId": "fa2872e0-25fd-4386-ed04-018f61837574"
      },
      "source": [
        "word2vec_data_vec = [i for j, i in enumerate(word2vec_data_vec) if j not in nan_index]\n",
        "\n",
        "for i in range(len(nan_index)):\n",
        "  train_word2vec = train_word2vec.drop(nan_index[i], axis = 0)\n",
        "\n",
        "print(\"Length of data after: \", len(word2vec_data_vec), len(train_word2vec[\"spacy_data\"]))\n",
        "\n",
        "new_id = [i for i in range(len(train_word2vec['id']))]\n",
        "train_word2vec.index = new_id\n",
        "\n",
        "train_word2vec[\"word2vec_vector\"] = word2vec_data_vec\n",
        "train_word2vec.head(5)"
      ],
      "execution_count": 19,
      "outputs": [
        {
          "output_type": "stream",
          "text": [
            "Length of data after:  6868 6868\n"
          ],
          "name": "stdout"
        },
        {
          "output_type": "execute_result",
          "data": {
            "text/html": [
              "<div>\n",
              "<style scoped>\n",
              "    .dataframe tbody tr th:only-of-type {\n",
              "        vertical-align: middle;\n",
              "    }\n",
              "\n",
              "    .dataframe tbody tr th {\n",
              "        vertical-align: top;\n",
              "    }\n",
              "\n",
              "    .dataframe thead th {\n",
              "        text-align: right;\n",
              "    }\n",
              "</style>\n",
              "<table border=\"1\" class=\"dataframe\">\n",
              "  <thead>\n",
              "    <tr style=\"text-align: right;\">\n",
              "      <th></th>\n",
              "      <th>id</th>\n",
              "      <th>premise</th>\n",
              "      <th>hypothesis</th>\n",
              "      <th>lang_abv</th>\n",
              "      <th>language</th>\n",
              "      <th>label</th>\n",
              "      <th>combined</th>\n",
              "      <th>vector_tfdif</th>\n",
              "      <th>spacy_data</th>\n",
              "      <th>word2vec_vector</th>\n",
              "    </tr>\n",
              "  </thead>\n",
              "  <tbody>\n",
              "    <tr>\n",
              "      <th>0</th>\n",
              "      <td>5130fd2cb5</td>\n",
              "      <td>and these comments were considered in formulat...</td>\n",
              "      <td>The rules developed in the interim were put to...</td>\n",
              "      <td>en</td>\n",
              "      <td>English</td>\n",
              "      <td>0</td>\n",
              "      <td>[and these comment were considered in formulat...</td>\n",
              "      <td>[0.7071067811865476, 0.7071067811865476]</td>\n",
              "      <td>[and, these, comment, were, considered, in, fo...</td>\n",
              "      <td>[-0.04960566, 0.04010275, 0.043578107, 0.02746...</td>\n",
              "    </tr>\n",
              "    <tr>\n",
              "      <th>1</th>\n",
              "      <td>5b72532a0b</td>\n",
              "      <td>These are issues that we wrestle with in pract...</td>\n",
              "      <td>Practice groups are not permitted to work on t...</td>\n",
              "      <td>en</td>\n",
              "      <td>English</td>\n",
              "      <td>2</td>\n",
              "      <td>[these are issue that we wrestle with in pract...</td>\n",
              "      <td>[0.7071067811865475, 0.7071067811865475]</td>\n",
              "      <td>[these, are, issue, that, we, wrestle, with, i...</td>\n",
              "      <td>[0.007223378, 0.014515752, 0.004139776, 0.0947...</td>\n",
              "    </tr>\n",
              "    <tr>\n",
              "      <th>2</th>\n",
              "      <td>5622f0c60b</td>\n",
              "      <td>you know they can't really defend themselves l...</td>\n",
              "      <td>They can't defend themselves because of their ...</td>\n",
              "      <td>en</td>\n",
              "      <td>English</td>\n",
              "      <td>0</td>\n",
              "      <td>[you know they can really defend themselves li...</td>\n",
              "      <td>[0.7071067811865475, 0.7071067811865475]</td>\n",
              "      <td>[you, know, they, can, really, defend, themsel...</td>\n",
              "      <td>[0.091822304, 0.056259155, 0.0060011544, 0.133...</td>\n",
              "    </tr>\n",
              "    <tr>\n",
              "      <th>3</th>\n",
              "      <td>fdcd1bd867</td>\n",
              "      <td>From Cockpit Country to St. Ann's Bay</td>\n",
              "      <td>From St. Ann's Bay to Cockpit Country.</td>\n",
              "      <td>en</td>\n",
              "      <td>English</td>\n",
              "      <td>2</td>\n",
              "      <td>[from cockpit country to st ann bay from st an...</td>\n",
              "      <td>[0.7071067811865475, 0.7071067811865475]</td>\n",
              "      <td>[from, cockpit, country, to, st, ann, bay, fro...</td>\n",
              "      <td>[-0.026529947, 0.078828335, -0.007405599, -0.0...</td>\n",
              "    </tr>\n",
              "    <tr>\n",
              "      <th>4</th>\n",
              "      <td>7cfb3d272c</td>\n",
              "      <td>Look, it's your skin, but you're going to be i...</td>\n",
              "      <td>The boss will fire you if he sees you slacking...</td>\n",
              "      <td>en</td>\n",
              "      <td>English</td>\n",
              "      <td>1</td>\n",
              "      <td>[look it your skin but you re going to be in t...</td>\n",
              "      <td>[0.4472135954999579, 0.8944271909999159]</td>\n",
              "      <td>[look, it, your, skin, but, you, re, going, to...</td>\n",
              "      <td>[0.07044161, 0.05802147, 0.029787503, 0.140671...</td>\n",
              "    </tr>\n",
              "  </tbody>\n",
              "</table>\n",
              "</div>"
            ],
            "text/plain": [
              "           id  ...                                    word2vec_vector\n",
              "0  5130fd2cb5  ...  [-0.04960566, 0.04010275, 0.043578107, 0.02746...\n",
              "1  5b72532a0b  ...  [0.007223378, 0.014515752, 0.004139776, 0.0947...\n",
              "2  5622f0c60b  ...  [0.091822304, 0.056259155, 0.0060011544, 0.133...\n",
              "3  fdcd1bd867  ...  [-0.026529947, 0.078828335, -0.007405599, -0.0...\n",
              "4  7cfb3d272c  ...  [0.07044161, 0.05802147, 0.029787503, 0.140671...\n",
              "\n",
              "[5 rows x 10 columns]"
            ]
          },
          "metadata": {
            "tags": []
          },
          "execution_count": 19
        }
      ]
    },
    {
      "cell_type": "code",
      "metadata": {
        "colab": {
          "base_uri": "https://localhost:8080/"
        },
        "id": "hSgqIaasn0ZO",
        "outputId": "001412d1-28e9-467e-964b-598b44311b6b"
      },
      "source": [
        "from keras.utils import to_categorical\n",
        "\n",
        "X_w2v, y_w2v = train_word2vec['word2vec_vector'].values.tolist(), train_word2vec['label'].values.tolist()\n",
        "X_w2v = np.array(X_w2v)\n",
        "y_w2v = np.array(y_w2v)\n",
        "y_w2v = to_categorical(y_w2v, 3)\n",
        "print(\"Length of data: \", X_w2v.shape)\n",
        "print(\"Length of label: \", y_w2v.shape)\n",
        "\n",
        "X_train_w2v, X_test_w2v, Y_train_w2v, Y_test_w2v = train_test_split(X_w2v, y_w2v, test_size=0.2, random_state=1)\n",
        "print(\"Shape of train data: \", X_train_w2v.shape,Y_train_w2v.shape)\n",
        "print(\"Shape of test data: \", X_test_w2v.shape,Y_test_w2v.shape)"
      ],
      "execution_count": 20,
      "outputs": [
        {
          "output_type": "stream",
          "text": [
            "Length of data:  (6868, 300)\n",
            "Length of label:  (6868, 3)\n",
            "Shape of train data:  (5494, 300) (5494, 3)\n",
            "Shape of test data:  (1374, 300) (1374, 3)\n"
          ],
          "name": "stdout"
        }
      ]
    },
    {
      "cell_type": "code",
      "metadata": {
        "colab": {
          "base_uri": "https://localhost:8080/",
          "height": 1000
        },
        "id": "Ux5US27HoVap",
        "outputId": "ba049e3b-ca1b-4069-d2ec-e027e9490f33"
      },
      "source": [
        "top_words = 1000\n",
        "max_review_length = 300\n",
        "embedding_vecor_length = 300\n",
        "model = Sequential()\n",
        "model.add(Embedding(top_words, embedding_vecor_length, input_length=max_review_length))\n",
        "model.add(Conv1D(filters=32, kernel_size=3, padding='same', activation='relu'))\n",
        "model.add(MaxPooling1D(pool_size=2))\n",
        "model.add(LSTM(100))\n",
        "model.add(Dense(3, activation='sigmoid'))\n",
        "model.compile(loss='binary_crossentropy', optimizer='adam', metrics=['accuracy'])\n",
        "print(model.summary())\n",
        "\n",
        "EPOCHS = 15\n",
        "BATCH_SIZE = 64\n",
        "history_se2se = model.fit(X_train_w2v, Y_train_w2v, epochs=EPOCHS, batch_size=BATCH_SIZE)\n",
        "# Final evaluation of the model\n",
        "scores = model.evaluate(X_test_w2v, Y_test_w2v, verbose=0)\n",
        "print(\"Accuracy: %.2f%%\" % (scores[1]*100))\n",
        "\n",
        "plt.plot(history_se2se.history['accuracy'])\n",
        "plt.title('Model accuracy')\n",
        "plt.ylabel('Accuracy')\n",
        "plt.xlabel('Epoch')\n",
        "plt.legend(['Train', 'Test'], loc='upper left')\n",
        "plt.show()\n",
        "\n",
        "plt.plot(history_se2se.history['loss'])\n",
        "plt.title('Model loss')\n",
        "plt.ylabel('Loss')\n",
        "plt.xlabel('Epoch')\n",
        "plt.legend(['Train', 'Test'], loc='upper left')\n",
        "plt.show()"
      ],
      "execution_count": 21,
      "outputs": [
        {
          "output_type": "stream",
          "text": [
            "Model: \"sequential_1\"\n",
            "_________________________________________________________________\n",
            "Layer (type)                 Output Shape              Param #   \n",
            "=================================================================\n",
            "embedding_1 (Embedding)      (None, 300, 300)          300000    \n",
            "_________________________________________________________________\n",
            "conv1d_1 (Conv1D)            (None, 300, 32)           28832     \n",
            "_________________________________________________________________\n",
            "max_pooling1d_1 (MaxPooling1 (None, 150, 32)           0         \n",
            "_________________________________________________________________\n",
            "lstm_1 (LSTM)                (None, 100)               53200     \n",
            "_________________________________________________________________\n",
            "dense_1 (Dense)              (None, 3)                 303       \n",
            "=================================================================\n",
            "Total params: 382,335\n",
            "Trainable params: 382,335\n",
            "Non-trainable params: 0\n",
            "_________________________________________________________________\n",
            "None\n",
            "Epoch 1/15\n",
            "86/86 [==============================] - 4s 29ms/step - loss: 0.6498 - accuracy: 0.3259\n",
            "Epoch 2/15\n",
            "86/86 [==============================] - 2s 27ms/step - loss: 0.6367 - accuracy: 0.3480\n",
            "Epoch 3/15\n",
            "86/86 [==============================] - 2s 27ms/step - loss: 0.6367 - accuracy: 0.3422\n",
            "Epoch 4/15\n",
            "86/86 [==============================] - 2s 27ms/step - loss: 0.6366 - accuracy: 0.3490\n",
            "Epoch 5/15\n",
            "86/86 [==============================] - 2s 27ms/step - loss: 0.6366 - accuracy: 0.3378\n",
            "Epoch 6/15\n",
            "86/86 [==============================] - 2s 27ms/step - loss: 0.6361 - accuracy: 0.3505\n",
            "Epoch 7/15\n",
            "86/86 [==============================] - 2s 27ms/step - loss: 0.6360 - accuracy: 0.3651\n",
            "Epoch 8/15\n",
            "86/86 [==============================] - 2s 27ms/step - loss: 0.6366 - accuracy: 0.3372\n",
            "Epoch 9/15\n",
            "86/86 [==============================] - 2s 27ms/step - loss: 0.6363 - accuracy: 0.3488\n",
            "Epoch 10/15\n",
            "86/86 [==============================] - 2s 27ms/step - loss: 0.6361 - accuracy: 0.3569\n",
            "Epoch 11/15\n",
            "86/86 [==============================] - 2s 27ms/step - loss: 0.6364 - accuracy: 0.3481\n",
            "Epoch 12/15\n",
            "86/86 [==============================] - 2s 27ms/step - loss: 0.6364 - accuracy: 0.3411\n",
            "Epoch 13/15\n",
            "86/86 [==============================] - 2s 27ms/step - loss: 0.6358 - accuracy: 0.3633\n",
            "Epoch 14/15\n",
            "86/86 [==============================] - 2s 28ms/step - loss: 0.6363 - accuracy: 0.3364\n",
            "Epoch 15/15\n",
            "86/86 [==============================] - 2s 27ms/step - loss: 0.6356 - accuracy: 0.3627\n",
            "Accuracy: 32.17%\n"
          ],
          "name": "stdout"
        },
        {
          "output_type": "display_data",
          "data": {
            "image/png": "[encoded data removed]",
            "text/plain": [
              "<Figure size 432x288 with 1 Axes>"
            ]
          },
          "metadata": {
            "tags": [],
            "needs_background": "light"
          }
        },
        {
          "output_type": "display_data",
          "data": {
            "image/png": "[encoded data removed]",
            "text/plain": [
              "<Figure size 432x288 with 1 Axes>"
            ]
          },
          "metadata": {
            "tags": [],
            "needs_background": "light"
          }
        }
      ]
    },
    {
      "cell_type": "code",
      "metadata": {
        "colab": {
          "base_uri": "https://localhost:8080/"
        },
        "id": "J7eVag0rSSEc",
        "outputId": "409749e0-16ad-4c50-ab26-a3cf94f36e03"
      },
      "source": [
        "from sklearn.metrics import classification_report\n",
        "y_pred_1 = model.predict(X_test_w2v)\n",
        "final_2 = np.argmax(y_pred_1, axis = 1)    \n",
        "Y_test_w2v_1 = np.argmax(Y_test_w2v, axis = 1)\n",
        "print(classification_report(Y_test_w2v_1, final_2))"
      ],
      "execution_count": 22,
      "outputs": [
        {
          "output_type": "stream",
          "text": [
            "              precision    recall  f1-score   support\n",
            "\n",
            "           0       0.00      0.00      0.00       488\n",
            "           1       0.00      0.00      0.00       444\n",
            "           2       0.32      1.00      0.49       442\n",
            "\n",
            "    accuracy                           0.32      1374\n",
            "   macro avg       0.11      0.33      0.16      1374\n",
            "weighted avg       0.10      0.32      0.16      1374\n",
            "\n"
          ],
          "name": "stdout"
        },
        {
          "output_type": "stream",
          "text": [
            "/usr/local/lib/python3.7/dist-packages/sklearn/metrics/_classification.py:1272: UndefinedMetricWarning: Precision and F-score are ill-defined and being set to 0.0 in labels with no predicted samples. Use `zero_division` parameter to control this behavior.\n",
            "  _warn_prf(average, modifier, msg_start, len(result))\n"
          ],
          "name": "stderr"
        }
      ]
    },
    {
      "cell_type": "markdown",
      "metadata": {
        "id": "IDtdnTk4AkLU"
      },
      "source": [
        "# 4. Use BERT to build the model"
      ]
    },
    {
      "cell_type": "markdown",
      "metadata": {
        "id": "C8vRzH0j7Y8M"
      },
      "source": [
        "## *** Prepare data for training(BERT)"
      ]
    },
    {
      "cell_type": "code",
      "metadata": {
        "colab": {
          "base_uri": "https://localhost:8080/"
        },
        "id": "pFJTnz5X7ZH0",
        "outputId": "d43eb07d-abeb-497f-c6a3-8d9c8804bacd"
      },
      "source": [
        "# prepare data for training and testing\n",
        "total_train = train.drop(columns=['id'])\n",
        "shuffled_data = shuffle(total_train).reset_index(drop = True)\n",
        "X, y = shuffled_data[['premise', 'hypothesis']].values.tolist(), shuffled_data['label']\n",
        "print(\"Length of data: \", len(X))\n",
        "print(\"Length of label: \", len(y))\n",
        "\n",
        "x_train, x_valid, y_train, y_valid = train_test_split(X, y, test_size=0.25, random_state=2020)\n",
        "print(\"Length of train data: \", len(x_train))\n",
        "print(\"Length of train label: \", len(y_train))\n",
        "\n",
        "print(\"Length of valid data: \", len(x_valid))\n",
        "print(\"Length of valid label: \", len(y_valid))\n",
        "\n",
        "print(\"Example of x_train data: \", x_train[0])\n",
        "print(\"Example of y_train data: \", y_train[0])"
      ],
      "execution_count": 23,
      "outputs": [
        {
          "output_type": "stream",
          "text": [
            "Length of data:  6870\n",
            "Length of label:  6870\n",
            "Length of train data:  5152\n",
            "Length of train label:  5152\n",
            "Length of valid data:  1718\n",
            "Length of valid label:  1718\n",
            "Example of x_train data:  ['well the channel eight when they came here thirteen fourteen years ago Dave Fox and Tracy Rowlett came together uh from Oklahoma City and apparently channel eight was way down and now they have turned it all around and done a pretty remarkable job and then', \"We don't have a Channel 8.\"]\n",
            "Example of y_train data:  2\n"
          ],
          "name": "stdout"
        }
      ]
    },
    {
      "cell_type": "code",
      "metadata": {
        "colab": {
          "base_uri": "https://localhost:8080/"
        },
        "id": "Hq-W_tX-N1zA",
        "outputId": "77de7d84-899c-4672-961a-50cbe742fea2"
      },
      "source": [
        "# Detect hardware, return appropriate distribution strategy\n",
        "try:\n",
        "    # TPU detection. No parameters necessary if TPU_NAME environment variable is\n",
        "    # set: this is always the case on Kaggle.\n",
        "    tpu = tf.distribute.cluster_resolver.TPUClusterResolver()\n",
        "    print('Running on TPU ', tpu.master())\n",
        "except ValueError:\n",
        "    tpu = None\n",
        "\n",
        "if tpu:\n",
        "    tf.config.experimental_connect_to_cluster(tpu)\n",
        "    tf.tpu.experimental.initialize_tpu_system(tpu)\n",
        "    strategy = tf.distribute.experimental.TPUStrategy(tpu)\n",
        "else:\n",
        "    # Default distribution strategy in Tensorflow. Works on CPU and single GPU.\n",
        "    strategy = tf.distribute.get_strategy()\n",
        "\n",
        "print(\"REPLICAS: \", strategy.num_replicas_in_sync)"
      ],
      "execution_count": 24,
      "outputs": [
        {
          "output_type": "stream",
          "text": [
            "REPLICAS:  1\n"
          ],
          "name": "stdout"
        }
      ]
    },
    {
      "cell_type": "code",
      "metadata": {
        "colab": {
          "base_uri": "https://localhost:8080/",
          "height": 213,
          "referenced_widgets": [
            "332960efa1244b6587a97ffc4fc7afc3",
            "f68d8846a1284af6b89108bfc1d5ad29",
            "c7977b6872004ddfbef579a38b964b56",
            "adbfdae5b56e44f6821cc3133df0672a",
            "9acce08951cc4799a6154913ed8123e1",
            "1a7837f1ea064e62821683fbd84d816b",
            "b9569e84e3144541b1de584fdbbfd21d",
            "1d605601963143979657e9b8497a80d4",
            "a0cfae29c7d1431d996d8dcd175a02f7",
            "ae296c45090c44fe9dc0eff51f0785b8",
            "375fee4f861a42ef8313cff566ace711",
            "6cda94b3bd754288aa7d223982632e30",
            "8cb70f17083e44df85384b11456e853c",
            "20bad420a6284f9383c9a37d39140ba2",
            "e81e7d809fa44dcaa8006578fa5aed0d",
            "b0e398769f484adaa4597fe8135714c9",
            "f8ed74bedf434a04ab06ee8ef8358225",
            "e9c2ee8477864144aee8879cabf5e5b9",
            "bd475ea8a6924c43a111e8749cd04ae4",
            "d3598287a958468ca9ef6a537ffb9c3e",
            "9120a98e28054e799bb285264b9a6c0c",
            "45a2c9ce92384c89b7169d16190dc65c",
            "c21c29d05e03445c965f1d5445f7c862",
            "b95a36ae51a44488929c6f12fd049ced",
            "94915ec8eee84951bc51332bc2049757",
            "0b16758a39b2488ea06108e01b40580c",
            "ebdf544955b5401ba5d180dc4bfaf828",
            "feb05c5e06ee4222bbaa5900fc2fa421",
            "a85eb6f154f74b229aa2f1bf466e47ae",
            "7ba1a0453f5c426794c5dff0876babe6",
            "a4f23e9208a64f08bc17d83e093bcadf",
            "91563e5b091f47d595c51c61295d69de"
          ]
        },
        "id": "VeSWt6eGN-_f",
        "outputId": "0d0be854-9eef-4c17-dfcc-ccb1542fbb97"
      },
      "source": [
        "MODEL = 'joeddav/xlm-roberta-large-xnli'\n",
        "\n",
        "EPOCHS = 4\n",
        "MAXLEN = 120\n",
        "\n",
        "BATCH_SIZE = 16 * strategy.num_replicas_in_sync\n",
        "\n",
        "tokenizer = AutoTokenizer.from_pretrained(MODEL)\n",
        "auto = tf.data.experimental.AUTOTUNE"
      ],
      "execution_count": 25,
      "outputs": [
        {
          "output_type": "display_data",
          "data": {
            "application/vnd.jupyter.widget-view+json": {
              "model_id": "332960efa1244b6587a97ffc4fc7afc3",
              "version_minor": 0,
              "version_major": 2
            },
            "text/plain": [
              "HBox(children=(FloatProgress(value=0.0, description='Downloading', max=734.0, style=ProgressStyle(description_…"
            ]
          },
          "metadata": {
            "tags": []
          }
        },
        {
          "output_type": "stream",
          "text": [
            "\n"
          ],
          "name": "stdout"
        },
        {
          "output_type": "display_data",
          "data": {
            "application/vnd.jupyter.widget-view+json": {
              "model_id": "a0cfae29c7d1431d996d8dcd175a02f7",
              "version_minor": 0,
              "version_major": 2
            },
            "text/plain": [
              "HBox(children=(FloatProgress(value=0.0, description='Downloading', max=5069051.0, style=ProgressStyle(descript…"
            ]
          },
          "metadata": {
            "tags": []
          }
        },
        {
          "output_type": "stream",
          "text": [
            "\n"
          ],
          "name": "stdout"
        },
        {
          "output_type": "display_data",
          "data": {
            "application/vnd.jupyter.widget-view+json": {
              "model_id": "f8ed74bedf434a04ab06ee8ef8358225",
              "version_minor": 0,
              "version_major": 2
            },
            "text/plain": [
              "HBox(children=(FloatProgress(value=0.0, description='Downloading', max=150.0, style=ProgressStyle(description_…"
            ]
          },
          "metadata": {
            "tags": []
          }
        },
        {
          "output_type": "stream",
          "text": [
            "\n"
          ],
          "name": "stdout"
        },
        {
          "output_type": "display_data",
          "data": {
            "application/vnd.jupyter.widget-view+json": {
              "model_id": "94915ec8eee84951bc51332bc2049757",
              "version_minor": 0,
              "version_major": 2
            },
            "text/plain": [
              "HBox(children=(FloatProgress(value=0.0, description='Downloading', max=25.0, style=ProgressStyle(description_w…"
            ]
          },
          "metadata": {
            "tags": []
          }
        },
        {
          "output_type": "stream",
          "text": [
            "\n"
          ],
          "name": "stdout"
        }
      ]
    },
    {
      "cell_type": "code",
      "metadata": {
        "id": "HjqTGDE8OH7Q"
      },
      "source": [
        "def create_model(transformer_layer,learning_rate):\n",
        "    input_ids = Input(shape = (MAXLEN,), dtype = tf.int32)\n",
        "    #input_masks = Input(shape = (MAXLEN,), dtype = tf.int32)\n",
        "\n",
        "    #insert roberta layer\n",
        "    roberta = TFAutoModel.from_pretrained(transformer_layer)\n",
        "    roberta = roberta([input_ids])[0]\n",
        "\n",
        "    out = GlobalAveragePooling1D()(roberta)\n",
        "\n",
        "    #add our softmax layer\n",
        "    out = Dense(3, activation = 'softmax')(out)\n",
        "\n",
        "    #assemble model and compile\n",
        "    model = Model(inputs = input_ids, outputs = out)\n",
        "    model.compile(\n",
        "                    optimizer = Adam(lr = learning_rate), \n",
        "                    loss = 'sparse_categorical_crossentropy', \n",
        "                    metrics = ['accuracy'])\n",
        "    return model\n",
        "\n",
        "\n",
        "def tokeniZer(text,tokenizer):\n",
        "    # tokenize\n",
        "    encoded = tokenizer.batch_encode_plus(text, padding=True, max_length=MAXLEN, truncation=True)\n",
        "\n",
        "    return np.array(encoded['input_ids'])"
      ],
      "execution_count": 27,
      "outputs": []
    },
    {
      "cell_type": "code",
      "metadata": {
        "id": "I9lkRWEvQ8P-"
      },
      "source": [
        "x_train_token = tokeniZer(x_train,tokenizer)\n",
        "x_valid_token = tokeniZer(x_valid,tokenizer)\n",
        "x_test_token  = tokeniZer(test[['premise', 'hypothesis']].values.tolist(),tokenizer)"
      ],
      "execution_count": 28,
      "outputs": []
    },
    {
      "cell_type": "code",
      "metadata": {
        "colab": {
          "base_uri": "https://localhost:8080/"
        },
        "id": "VsR9SIlelJ2C",
        "outputId": "3ede21ec-81ed-4aca-e10e-a6463977b6bc"
      },
      "source": [
        "print(\"x_train example after using xlm model: \", len(x_train_token[0]), '\\n', x_train_token[0])"
      ],
      "execution_count": 29,
      "outputs": [
        {
          "output_type": "stream",
          "text": [
            "x_train example after using xlm model:  120 \n",
            " [     0   5299     70  86723 136659   3229   1836  21449   3688      6\n",
            "  95037   8927  22759   8927   5369   6650 103383  49049    136   4937\n",
            "   2408  96190  37356  21449  25842  38074   1295 238215   6406    136\n",
            " 198371  86723 136659    509   3917   7565    136   5036   1836    765\n",
            "  69347    442    756  10932    136  16940     10  28875    456  10015\n",
            "   2886  12447    136   7068      2      2   1401   2301     25     18\n",
            "    765     10  55969   3217      2      1      1      1      1      1\n",
            "      1      1      1      1      1      1      1      1      1      1\n",
            "      1      1      1      1      1      1      1      1      1      1\n",
            "      1      1      1      1      1      1      1      1      1      1\n",
            "      1      1      1      1      1      1      1      1      1      1\n",
            "      1      1      1      1      1      1      1      1      1      1]\n"
          ],
          "name": "stdout"
        }
      ]
    },
    {
      "cell_type": "code",
      "metadata": {
        "id": "RFS7d5f_RGIJ"
      },
      "source": [
        "# datasets\n",
        "def build_dataset(x, y, mode, batch_size):\n",
        "    if mode == \"train\":\n",
        "        dataset = (\n",
        "            tf.data.Dataset\n",
        "            .from_tensor_slices((x, y))\n",
        "            .repeat()\n",
        "            .shuffle(2048)\n",
        "            .batch(batch_size)\n",
        "            .prefetch(auto)\n",
        "        )\n",
        "    elif mode == \"valid\":\n",
        "        dataset = (\n",
        "            tf.data.Dataset\n",
        "            .from_tensor_slices((x, y))\n",
        "            .batch(BATCH_SIZE)\n",
        "            .cache()\n",
        "            .prefetch(auto)\n",
        "        )\n",
        "    elif mode == \"test\":\n",
        "        dataset = (\n",
        "            tf.data.Dataset\n",
        "            .from_tensor_slices(x)\n",
        "            .batch(BATCH_SIZE)\n",
        "        )\n",
        "    else:\n",
        "        raise NotImplementedError\n",
        "    return dataset"
      ],
      "execution_count": 30,
      "outputs": []
    },
    {
      "cell_type": "code",
      "metadata": {
        "id": "7pLLdy6CRJyj"
      },
      "source": [
        "train_dataset = build_dataset(x_train_token, y_train, \"train\", BATCH_SIZE)\n",
        "valid_dataset = build_dataset(x_valid_token, y_valid, \"valid\", BATCH_SIZE)\n",
        "test_dataset  = build_dataset(x_test_token, None, \"test\", BATCH_SIZE)"
      ],
      "execution_count": 31,
      "outputs": []
    },
    {
      "cell_type": "code",
      "metadata": {
        "colab": {
          "base_uri": "https://localhost:8080/"
        },
        "id": "BgoqD8OBum_7",
        "outputId": "5b8ca7e0-0c3c-4754-cea5-8d642110c98b"
      },
      "source": [
        "print(train_dataset)\n",
        "print(valid_dataset)\n",
        "print(test_dataset)"
      ],
      "execution_count": 32,
      "outputs": [
        {
          "output_type": "stream",
          "text": [
            "<PrefetchDataset shapes: ((None, 120), (None,)), types: (tf.int64, tf.int64)>\n",
            "<PrefetchDataset shapes: ((None, 120), (None,)), types: (tf.int64, tf.int64)>\n",
            "<BatchDataset shapes: (None, 120), types: tf.int64>\n"
          ],
          "name": "stdout"
        }
      ]
    },
    {
      "cell_type": "code",
      "metadata": {
        "id": "h3B1XP_4RMGc"
      },
      "source": [
        "def create_xlm(transformer_layer, random_seed, learning_rate):\n",
        "    tf.keras.backend.clear_session()\n",
        "    tf.random.set_seed(random_seed)\n",
        "    with strategy.scope():\n",
        "        model = create_model(transformer_layer,learning_rate)\n",
        "    model.summary()    \n",
        "    return model"
      ],
      "execution_count": 33,
      "outputs": []
    },
    {
      "cell_type": "code",
      "metadata": {
        "colab": {
          "base_uri": "https://localhost:8080/",
          "height": 443,
          "referenced_widgets": [
            "4676dadf9d744a75846958740399d2c0",
            "7b5327ce35d74d6785175c80d9300819",
            "e040a38e627c433bbbc2a6570b7eea47",
            "145cabfb3ecc4d449b2fdd6a3cf3af42",
            "38360377b53b4ccfbe8c25afa51c0935",
            "f917b5ab79444a30b28600448adf87b9",
            "4bec7e38c3cb423fafd0d340d5cee55f",
            "c88a0bcfcce646cca374ae9534d186b4"
          ]
        },
        "id": "ZPf5o5nFRPAS",
        "outputId": "09883806-f6b4-4432-8868-55c5e2ac1e8a"
      },
      "source": [
        "Xlm = create_xlm(MODEL,1124234,1e-5)"
      ],
      "execution_count": 34,
      "outputs": [
        {
          "output_type": "display_data",
          "data": {
            "application/vnd.jupyter.widget-view+json": {
              "model_id": "4676dadf9d744a75846958740399d2c0",
              "version_minor": 0,
              "version_major": 2
            },
            "text/plain": [
              "HBox(children=(FloatProgress(value=0.0, description='Downloading', max=2244296816.0, style=ProgressStyle(descr…"
            ]
          },
          "metadata": {
            "tags": []
          }
        },
        {
          "output_type": "stream",
          "text": [
            "\n"
          ],
          "name": "stdout"
        },
        {
          "output_type": "stream",
          "text": [
            "Some weights of the model checkpoint at joeddav/xlm-roberta-large-xnli were not used when initializing TFRobertaModel: ['classifier']\n",
            "- This IS expected if you are initializing TFRobertaModel from the checkpoint of a model trained on another task or with another architecture (e.g. initializing a BertForSequenceClassification model from a BertForPretraining model).\n",
            "- This IS NOT expected if you are initializing TFRobertaModel from the checkpoint of a model that you expect to be exactly identical (initializing a BertForSequenceClassification model from a BertForSequenceClassification model).\n",
            "All the weights of TFRobertaModel were initialized from the model checkpoint at joeddav/xlm-roberta-large-xnli.\n",
            "If your task is similar to the task the model of the ckeckpoint was trained on, you can already use TFRobertaModel for predictions without further training.\n"
          ],
          "name": "stderr"
        },
        {
          "output_type": "stream",
          "text": [
            "Model: \"model\"\n",
            "_________________________________________________________________\n",
            "Layer (type)                 Output Shape              Param #   \n",
            "=================================================================\n",
            "input_1 (InputLayer)         [(None, 120)]             0         \n",
            "_________________________________________________________________\n",
            "tf_roberta_model (TFRobertaM ((None, 120, 1024), (None 559890432 \n",
            "_________________________________________________________________\n",
            "global_average_pooling1d (Gl (None, 1024)              0         \n",
            "_________________________________________________________________\n",
            "dense (Dense)                (None, 3)                 3075      \n",
            "=================================================================\n",
            "Total params: 559,893,507\n",
            "Trainable params: 559,893,507\n",
            "Non-trainable params: 0\n",
            "_________________________________________________________________\n"
          ],
          "name": "stdout"
        }
      ]
    },
    {
      "cell_type": "code",
      "metadata": {
        "colab": {
          "base_uri": "https://localhost:8080/"
        },
        "id": "XuaqalEgRQ8l",
        "outputId": "43155ec7-6240-4e42-c163-67fcb42b4a62"
      },
      "source": [
        "callbacks = [tf.keras.callbacks.EarlyStopping(patience = 2, \n",
        "                                              monitor = 'val_loss', \n",
        "                                              restore_best_weights = True, \n",
        "                                              mode = 'min')]\n",
        "\n",
        "steps_per_epoch = len(x_train) // BATCH_SIZE\n",
        "# history_xlm = Xlm.fit(train_dataset,\n",
        "#                       validation_data=valid_dataset,\n",
        "#                       steps_per_epoch=steps_per_epoch,\n",
        "#                       epochs = EPOCHS)\n",
        "\n",
        "history_xlm = Xlm.fit(train_dataset,\n",
        "                      validation_data=valid_dataset,\n",
        "                      steps_per_epoch=steps_per_epoch,\n",
        "                      epochs = EPOCHS,\n",
        "                      callbacks = callbacks)"
      ],
      "execution_count": 35,
      "outputs": [
        {
          "output_type": "stream",
          "text": [
            "Epoch 1/4\n",
            "WARNING:tensorflow:Gradients do not exist for variables ['tf_roberta_model/roberta/pooler/dense/kernel:0', 'tf_roberta_model/roberta/pooler/dense/bias:0'] when minimizing the loss.\n",
            "WARNING:tensorflow:Gradients do not exist for variables ['tf_roberta_model/roberta/pooler/dense/kernel:0', 'tf_roberta_model/roberta/pooler/dense/bias:0'] when minimizing the loss.\n",
            "322/322 [==============================] - 505s 1s/step - loss: 0.4811 - accuracy: 0.8108 - val_loss: 0.3477 - val_accuracy: 0.8807\n",
            "Epoch 2/4\n",
            "322/322 [==============================] - 484s 2s/step - loss: 0.2265 - accuracy: 0.9235 - val_loss: 0.4280 - val_accuracy: 0.8749\n",
            "Epoch 3/4\n",
            "322/322 [==============================] - 485s 2s/step - loss: 0.1164 - accuracy: 0.9607 - val_loss: 0.5113 - val_accuracy: 0.8719\n"
          ],
          "name": "stdout"
        }
      ]
    },
    {
      "cell_type": "code",
      "metadata": {
        "colab": {
          "base_uri": "https://localhost:8080/",
          "height": 573
        },
        "id": "9vNY0GlZklPO",
        "outputId": "07143359-7f3a-485f-c9d6-b0b591849a52"
      },
      "source": [
        "plt.plot(history_xlm.history['accuracy'])\n",
        "plt.plot(history_xlm.history['val_accuracy'])\n",
        "plt.title('Model accuracy')\n",
        "plt.ylabel('Accuracy')\n",
        "plt.xlabel('Epoch')\n",
        "plt.legend(['Train', 'Test'], loc='upper left')\n",
        "plt.show()\n",
        "\n",
        "# Plot training & validation loss values\n",
        "plt.plot(history_xlm.history['loss'])\n",
        "plt.plot(history_xlm.history['val_loss'])\n",
        "plt.title('Model loss')\n",
        "plt.ylabel('Loss')\n",
        "plt.xlabel('Epoch')\n",
        "plt.legend(['Train', 'Test'], loc='upper left')\n",
        "plt.show()"
      ],
      "execution_count": 36,
      "outputs": [
        {
          "output_type": "display_data",
          "data": {
            "image/png": "[encoded data removed]",
            "text/plain": [
              "<Figure size 432x288 with 1 Axes>"
            ]
          },
          "metadata": {
            "tags": [],
            "needs_background": "light"
          }
        },
        {
          "output_type": "display_data",
          "data": {
            "image/png": "[encoded data removed]",
            "text/plain": [
              "<Figure size 432x288 with 1 Axes>"
            ]
          },
          "metadata": {
            "tags": [],
            "needs_background": "light"
          }
        }
      ]
    },
    {
      "cell_type": "code",
      "metadata": {
        "colab": {
          "base_uri": "https://localhost:8080/"
        },
        "id": "7oTSFnSxTJXj",
        "outputId": "87b1cc3c-1a31-48a0-a6af-6f7f3af4caac"
      },
      "source": [
        "from sklearn.metrics import classification_report\n",
        "y_pred_2 = Xlm.predict(valid_dataset)\n",
        "final_3 = np.argmax(y_pred_2, axis = 1)    \n",
        "y_valid_1 = y_valid.values\n",
        "print(classification_report(y_valid_1, final_3))"
      ],
      "execution_count": 40,
      "outputs": [
        {
          "output_type": "stream",
          "text": [
            "              precision    recall  f1-score   support\n",
            "\n",
            "           0       0.87      0.92      0.89       621\n",
            "           1       0.88      0.79      0.84       542\n",
            "           2       0.89      0.92      0.91       555\n",
            "\n",
            "    accuracy                           0.88      1718\n",
            "   macro avg       0.88      0.88      0.88      1718\n",
            "weighted avg       0.88      0.88      0.88      1718\n",
            "\n"
          ],
          "name": "stdout"
        }
      ]
    }
  ]
}