{
  "nbformat": 4,
  "nbformat_minor": 0,
  "metadata": {
    "accelerator": "GPU",
    "colab": {
      "name": "NLI - Weston Project ",
      "provenance": [],
      "collapsed_sections": []
    },
    "kernelspec": {
      "display_name": "Python 3",
      "name": "python3"
    },
    "widgets": {
      "application/vnd.jupyter.widget-state+json": {
        "1e0ca2d1013f48f28413b865324153a7": {
          "model_module": "@jupyter-widgets/controls",
          "model_name": "HBoxModel",
          "state": {
            "_dom_classes": [],
            "_model_module": "@jupyter-widgets/controls",
            "_model_module_version": "1.5.0",
            "_model_name": "HBoxModel",
            "_view_count": null,
            "_view_module": "@jupyter-widgets/controls",
            "_view_module_version": "1.5.0",
            "_view_name": "HBoxView",
            "box_style": "",
            "children": [
              "IPY_MODEL_52219ff29bf54fd2848bd7cdab297625",
              "IPY_MODEL_62621a10b1c8449d9d7af2ff3f1c9652"
            ],
            "layout": "IPY_MODEL_439b806ab503435e93e046184ee49d2a"
          }
        },
        "52219ff29bf54fd2848bd7cdab297625": {
          "model_module": "@jupyter-widgets/controls",
          "model_name": "FloatProgressModel",
          "state": {
            "_dom_classes": [],
            "_model_module": "@jupyter-widgets/controls",
            "_model_module_version": "1.5.0",
            "_model_name": "FloatProgressModel",
            "_view_count": null,
            "_view_module": "@jupyter-widgets/controls",
            "_view_module_version": "1.5.0",
            "_view_name": "ProgressView",
            "bar_style": "success",
            "description": "Downloading: 100%",
            "description_tooltip": null,
            "layout": "IPY_MODEL_c6799c7addf448b59e02218da0f40f06",
            "max": 734,
            "min": 0,
            "orientation": "horizontal",
            "style": "IPY_MODEL_bdb5e5175b6a47abb4de95d8968b86f4",
            "value": 734
          }
        },
        "62621a10b1c8449d9d7af2ff3f1c9652": {
          "model_module": "@jupyter-widgets/controls",
          "model_name": "HTMLModel",
          "state": {
            "_dom_classes": [],
            "_model_module": "@jupyter-widgets/controls",
            "_model_module_version": "1.5.0",
            "_model_name": "HTMLModel",
            "_view_count": null,
            "_view_module": "@jupyter-widgets/controls",
            "_view_module_version": "1.5.0",
            "_view_name": "HTMLView",
            "description": "",
            "description_tooltip": null,
            "layout": "IPY_MODEL_a37be78136e847b2a60a55fc433cb19c",
            "placeholder": "​",
            "style": "IPY_MODEL_29bcb9a690454d6cac449798bbd48a16",
            "value": " 734/734 [01:30&lt;00:00, 8.07B/s]"
          }
        },
        "439b806ab503435e93e046184ee49d2a": {
          "model_module": "@jupyter-widgets/base",
          "model_name": "LayoutModel",
          "state": {
            "_model_module": "@jupyter-widgets/base",
            "_model_module_version": "1.2.0",
            "_model_name": "LayoutModel",
            "_view_count": null,
            "_view_module": "@jupyter-widgets/base",
            "_view_module_version": "1.2.0",
            "_view_name": "LayoutView",
            "align_content": null,
            "align_items": null,
            "align_self": null,
            "border": null,
            "bottom": null,
            "display": null,
            "flex": null,
            "flex_flow": null,
            "grid_area": null,
            "grid_auto_columns": null,
            "grid_auto_flow": null,
            "grid_auto_rows": null,
            "grid_column": null,
            "grid_gap": null,
            "grid_row": null,
            "grid_template_areas": null,
            "grid_template_columns": null,
            "grid_template_rows": null,
            "height": null,
            "justify_content": null,
            "justify_items": null,
            "left": null,
            "margin": null,
            "max_height": null,
            "max_width": null,
            "min_height": null,
            "min_width": null,
            "object_fit": null,
            "object_position": null,
            "order": null,
            "overflow": null,
            "overflow_x": null,
            "overflow_y": null,
            "padding": null,
            "right": null,
            "top": null,
            "visibility": null,
            "width": null
          }
        },
        "c6799c7addf448b59e02218da0f40f06": {
          "model_module": "@jupyter-widgets/base",
          "model_name": "LayoutModel",
          "state": {
            "_model_module": "@jupyter-widgets/base",
            "_model_module_version": "1.2.0",
            "_model_name": "LayoutModel",
            "_view_count": null,
            "_view_module": "@jupyter-widgets/base",
            "_view_module_version": "1.2.0",
            "_view_name": "LayoutView",
            "align_content": null,
            "align_items": null,
            "align_self": null,
            "border": null,
            "bottom": null,
            "display": null,
            "flex": null,
            "flex_flow": null,
            "grid_area": null,
            "grid_auto_columns": null,
            "grid_auto_flow": null,
            "grid_auto_rows": null,
            "grid_column": null,
            "grid_gap": null,
            "grid_row": null,
            "grid_template_areas": null,
            "grid_template_columns": null,
            "grid_template_rows": null,
            "height": null,
            "justify_content": null,
            "justify_items": null,
            "left": null,
            "margin": null,
            "max_height": null,
            "max_width": null,
            "min_height": null,
            "min_width": null,
            "object_fit": null,
            "object_position": null,
            "order": null,
            "overflow": null,
            "overflow_x": null,
            "overflow_y": null,
            "padding": null,
            "right": null,
            "top": null,
            "visibility": null,
            "width": null
          }
        },
        "bdb5e5175b6a47abb4de95d8968b86f4": {
          "model_module": "@jupyter-widgets/controls",
          "model_name": "ProgressStyleModel",
          "state": {
            "_model_module": "@jupyter-widgets/controls",
            "_model_module_version": "1.5.0",
            "_model_name": "ProgressStyleModel",
            "_view_count": null,
            "_view_module": "@jupyter-widgets/base",
            "_view_module_version": "1.2.0",
            "_view_name": "StyleView",
            "bar_color": null,
            "description_width": "initial"
          }
        },
        "a37be78136e847b2a60a55fc433cb19c": {
          "model_module": "@jupyter-widgets/base",
          "model_name": "LayoutModel",
          "state": {
            "_model_module": "@jupyter-widgets/base",
            "_model_module_version": "1.2.0",
            "_model_name": "LayoutModel",
            "_view_count": null,
            "_view_module": "@jupyter-widgets/base",
            "_view_module_version": "1.2.0",
            "_view_name": "LayoutView",
            "align_content": null,
            "align_items": null,
            "align_self": null,
            "border": null,
            "bottom": null,
            "display": null,
            "flex": null,
            "flex_flow": null,
            "grid_area": null,
            "grid_auto_columns": null,
            "grid_auto_flow": null,
            "grid_auto_rows": null,
            "grid_column": null,
            "grid_gap": null,
            "grid_row": null,
            "grid_template_areas": null,
            "grid_template_columns": null,
            "grid_template_rows": null,
            "height": null,
            "justify_content": null,
            "justify_items": null,
            "left": null,
            "margin": null,
            "max_height": null,
            "max_width": null,
            "min_height": null,
            "min_width": null,
            "object_fit": null,
            "object_position": null,
            "order": null,
            "overflow": null,
            "overflow_x": null,
            "overflow_y": null,
            "padding": null,
            "right": null,
            "top": null,
            "visibility": null,
            "width": null
          }
        },
        "29bcb9a690454d6cac449798bbd48a16": {
          "model_module": "@jupyter-widgets/controls",
          "model_name": "DescriptionStyleModel",
          "state": {
            "_model_module": "@jupyter-widgets/controls",
            "_model_module_version": "1.5.0",
            "_model_name": "DescriptionStyleModel",
            "_view_count": null,
            "_view_module": "@jupyter-widgets/base",
            "_view_module_version": "1.2.0",
            "_view_name": "StyleView",
            "description_width": ""
          }
        },
        "6435b0fd19eb4d71a3181b0d92bc1ea8": {
          "model_module": "@jupyter-widgets/controls",
          "model_name": "HBoxModel",
          "state": {
            "_dom_classes": [],
            "_model_module": "@jupyter-widgets/controls",
            "_model_module_version": "1.5.0",
            "_model_name": "HBoxModel",
            "_view_count": null,
            "_view_module": "@jupyter-widgets/controls",
            "_view_module_version": "1.5.0",
            "_view_name": "HBoxView",
            "box_style": "",
            "children": [
              "IPY_MODEL_0acd2a776b514586a2862a6ec5b133f8",
              "IPY_MODEL_97ce2ee5a2cd4d4fa009b0f13ad79f36"
            ],
            "layout": "IPY_MODEL_dc264dca2d4e4104bb633b639d4c15ef"
          }
        },
        "0acd2a776b514586a2862a6ec5b133f8": {
          "model_module": "@jupyter-widgets/controls",
          "model_name": "FloatProgressModel",
          "state": {
            "_dom_classes": [],
            "_model_module": "@jupyter-widgets/controls",
            "_model_module_version": "1.5.0",
            "_model_name": "FloatProgressModel",
            "_view_count": null,
            "_view_module": "@jupyter-widgets/controls",
            "_view_module_version": "1.5.0",
            "_view_name": "ProgressView",
            "bar_style": "success",
            "description": "Downloading: 100%",
            "description_tooltip": null,
            "layout": "IPY_MODEL_20f6197ef9dc47338bd91928cba5d295",
            "max": 5069051,
            "min": 0,
            "orientation": "horizontal",
            "style": "IPY_MODEL_27018a0194f34937ba816bc29e7c247a",
            "value": 5069051
          }
        },
        "97ce2ee5a2cd4d4fa009b0f13ad79f36": {
          "model_module": "@jupyter-widgets/controls",
          "model_name": "HTMLModel",
          "state": {
            "_dom_classes": [],
            "_model_module": "@jupyter-widgets/controls",
            "_model_module_version": "1.5.0",
            "_model_name": "HTMLModel",
            "_view_count": null,
            "_view_module": "@jupyter-widgets/controls",
            "_view_module_version": "1.5.0",
            "_view_name": "HTMLView",
            "description": "",
            "description_tooltip": null,
            "layout": "IPY_MODEL_fb9ec376a61445618c8c235ccc802391",
            "placeholder": "​",
            "style": "IPY_MODEL_aa2757571384404491ecea7042752813",
            "value": " 5.07M/5.07M [00:01&lt;00:00, 3.50MB/s]"
          }
        },
        "dc264dca2d4e4104bb633b639d4c15ef": {
          "model_module": "@jupyter-widgets/base",
          "model_name": "LayoutModel",
          "state": {
            "_model_module": "@jupyter-widgets/base",
            "_model_module_version": "1.2.0",
            "_model_name": "LayoutModel",
            "_view_count": null,
            "_view_module": "@jupyter-widgets/base",
            "_view_module_version": "1.2.0",
            "_view_name": "LayoutView",
            "align_content": null,
            "align_items": null,
            "align_self": null,
            "border": null,
            "bottom": null,
            "display": null,
            "flex": null,
            "flex_flow": null,
            "grid_area": null,
            "grid_auto_columns": null,
            "grid_auto_flow": null,
            "grid_auto_rows": null,
            "grid_column": null,
            "grid_gap": null,
            "grid_row": null,
            "grid_template_areas": null,
            "grid_template_columns": null,
            "grid_template_rows": null,
            "height": null,
            "justify_content": null,
            "justify_items": null,
            "left": null,
            "margin": null,
            "max_height": null,
            "max_width": null,
            "min_height": null,
            "min_width": null,
            "object_fit": null,
            "object_position": null,
            "order": null,
            "overflow": null,
            "overflow_x": null,
            "overflow_y": null,
            "padding": null,
            "right": null,
            "top": null,
            "visibility": null,
            "width": null
          }
        },
        "20f6197ef9dc47338bd91928cba5d295": {
          "model_module": "@jupyter-widgets/base",
          "model_name": "LayoutModel",
          "state": {
            "_model_module": "@jupyter-widgets/base",
            "_model_module_version": "1.2.0",
            "_model_name": "LayoutModel",
            "_view_count": null,
            "_view_module": "@jupyter-widgets/base",
            "_view_module_version": "1.2.0",
            "_view_name": "LayoutView",
            "align_content": null,
            "align_items": null,
            "align_self": null,
            "border": null,
            "bottom": null,
            "display": null,
            "flex": null,
            "flex_flow": null,
            "grid_area": null,
            "grid_auto_columns": null,
            "grid_auto_flow": null,
            "grid_auto_rows": null,
            "grid_column": null,
            "grid_gap": null,
            "grid_row": null,
            "grid_template_areas": null,
            "grid_template_columns": null,
            "grid_template_rows": null,
            "height": null,
            "justify_content": null,
            "justify_items": null,
            "left": null,
            "margin": null,
            "max_height": null,
            "max_width": null,
            "min_height": null,
            "min_width": null,
            "object_fit": null,
            "object_position": null,
            "order": null,
            "overflow": null,
            "overflow_x": null,
            "overflow_y": null,
            "padding": null,
            "right": null,
            "top": null,
            "visibility": null,
            "width": null
          }
        },
        "27018a0194f34937ba816bc29e7c247a": {
          "model_module": "@jupyter-widgets/controls",
          "model_name": "ProgressStyleModel",
          "state": {
            "_model_module": "@jupyter-widgets/controls",
            "_model_module_version": "1.5.0",
            "_model_name": "ProgressStyleModel",
            "_view_count": null,
            "_view_module": "@jupyter-widgets/base",
            "_view_module_version": "1.2.0",
            "_view_name": "StyleView",
            "bar_color": null,
            "description_width": "initial"
          }
        },
        "fb9ec376a61445618c8c235ccc802391": {
          "model_module": "@jupyter-widgets/base",
          "model_name": "LayoutModel",
          "state": {
            "_model_module": "@jupyter-widgets/base",
            "_model_module_version": "1.2.0",
            "_model_name": "LayoutModel",
            "_view_count": null,
            "_view_module": "@jupyter-widgets/base",
            "_view_module_version": "1.2.0",
            "_view_name": "LayoutView",
            "align_content": null,
            "align_items": null,
            "align_self": null,
            "border": null,
            "bottom": null,
            "display": null,
            "flex": null,
            "flex_flow": null,
            "grid_area": null,
            "grid_auto_columns": null,
            "grid_auto_flow": null,
            "grid_auto_rows": null,
            "grid_column": null,
            "grid_gap": null,
            "grid_row": null,
            "grid_template_areas": null,
            "grid_template_columns": null,
            "grid_template_rows": null,
            "height": null,
            "justify_content": null,
            "justify_items": null,
            "left": null,
            "margin": null,
            "max_height": null,
            "max_width": null,
            "min_height": null,
            "min_width": null,
            "object_fit": null,
            "object_position": null,
            "order": null,
            "overflow": null,
            "overflow_x": null,
            "overflow_y": null,
            "padding": null,
            "right": null,
            "top": null,
            "visibility": null,
            "width": null
          }
        },
        "aa2757571384404491ecea7042752813": {
          "model_module": "@jupyter-widgets/controls",
          "model_name": "DescriptionStyleModel",
          "state": {
            "_model_module": "@jupyter-widgets/controls",
            "_model_module_version": "1.5.0",
            "_model_name": "DescriptionStyleModel",
            "_view_count": null,
            "_view_module": "@jupyter-widgets/base",
            "_view_module_version": "1.2.0",
            "_view_name": "StyleView",
            "description_width": ""
          }
        },
        "3455549074c947c3ba1ccd421381b489": {
          "model_module": "@jupyter-widgets/controls",
          "model_name": "HBoxModel",
          "state": {
            "_dom_classes": [],
            "_model_module": "@jupyter-widgets/controls",
            "_model_module_version": "1.5.0",
            "_model_name": "HBoxModel",
            "_view_count": null,
            "_view_module": "@jupyter-widgets/controls",
            "_view_module_version": "1.5.0",
            "_view_name": "HBoxView",
            "box_style": "",
            "children": [
              "IPY_MODEL_523840f1f86642488d94132a639632af",
              "IPY_MODEL_523d6c1104f245c9af7e29680430ac1c"
            ],
            "layout": "IPY_MODEL_be079d4e6448491fbdbbdc19716be257"
          }
        },
        "523840f1f86642488d94132a639632af": {
          "model_module": "@jupyter-widgets/controls",
          "model_name": "FloatProgressModel",
          "state": {
            "_dom_classes": [],
            "_model_module": "@jupyter-widgets/controls",
            "_model_module_version": "1.5.0",
            "_model_name": "FloatProgressModel",
            "_view_count": null,
            "_view_module": "@jupyter-widgets/controls",
            "_view_module_version": "1.5.0",
            "_view_name": "ProgressView",
            "bar_style": "success",
            "description": "Downloading: 100%",
            "description_tooltip": null,
            "layout": "IPY_MODEL_44a3cb8960b24c599ed9f0a20806941d",
            "max": 150,
            "min": 0,
            "orientation": "horizontal",
            "style": "IPY_MODEL_9ea91f5a72e545bda60d40179d6c0492",
            "value": 150
          }
        },
        "523d6c1104f245c9af7e29680430ac1c": {
          "model_module": "@jupyter-widgets/controls",
          "model_name": "HTMLModel",
          "state": {
            "_dom_classes": [],
            "_model_module": "@jupyter-widgets/controls",
            "_model_module_version": "1.5.0",
            "_model_name": "HTMLModel",
            "_view_count": null,
            "_view_module": "@jupyter-widgets/controls",
            "_view_module_version": "1.5.0",
            "_view_name": "HTMLView",
            "description": "",
            "description_tooltip": null,
            "layout": "IPY_MODEL_f672cffb6b364d1ea86d0dd3285f8002",
            "placeholder": "​",
            "style": "IPY_MODEL_91c9055a1ef947c7a2703f04423dde66",
            "value": " 150/150 [01:28&lt;00:00, 1.69B/s]"
          }
        },
        "be079d4e6448491fbdbbdc19716be257": {
          "model_module": "@jupyter-widgets/base",
          "model_name": "LayoutModel",
          "state": {
            "_model_module": "@jupyter-widgets/base",
            "_model_module_version": "1.2.0",
            "_model_name": "LayoutModel",
            "_view_count": null,
            "_view_module": "@jupyter-widgets/base",
            "_view_module_version": "1.2.0",
            "_view_name": "LayoutView",
            "align_content": null,
            "align_items": null,
            "align_self": null,
            "border": null,
            "bottom": null,
            "display": null,
            "flex": null,
            "flex_flow": null,
            "grid_area": null,
            "grid_auto_columns": null,
            "grid_auto_flow": null,
            "grid_auto_rows": null,
            "grid_column": null,
            "grid_gap": null,
            "grid_row": null,
            "grid_template_areas": null,
            "grid_template_columns": null,
            "grid_template_rows": null,
            "height": null,
            "justify_content": null,
            "justify_items": null,
            "left": null,
            "margin": null,
            "max_height": null,
            "max_width": null,
            "min_height": null,
            "min_width": null,
            "object_fit": null,
            "object_position": null,
            "order": null,
            "overflow": null,
            "overflow_x": null,
            "overflow_y": null,
            "padding": null,
            "right": null,
            "top": null,
            "visibility": null,
            "width": null
          }
        },
        "44a3cb8960b24c599ed9f0a20806941d": {
          "model_module": "@jupyter-widgets/base",
          "model_name": "LayoutModel",
          "state": {
            "_model_module": "@jupyter-widgets/base",
            "_model_module_version": "1.2.0",
            "_model_name": "LayoutModel",
            "_view_count": null,
            "_view_module": "@jupyter-widgets/base",
            "_view_module_version": "1.2.0",
            "_view_name": "LayoutView",
            "align_content": null,
            "align_items": null,
            "align_self": null,
            "border": null,
            "bottom": null,
            "display": null,
            "flex": null,
            "flex_flow": null,
            "grid_area": null,
            "grid_auto_columns": null,
            "grid_auto_flow": null,
            "grid_auto_rows": null,
            "grid_column": null,
            "grid_gap": null,
            "grid_row": null,
            "grid_template_areas": null,
            "grid_template_columns": null,
            "grid_template_rows": null,
            "height": null,
            "justify_content": null,
            "justify_items": null,
            "left": null,
            "margin": null,
            "max_height": null,
            "max_width": null,
            "min_height": null,
            "min_width": null,
            "object_fit": null,
            "object_position": null,
            "order": null,
            "overflow": null,
            "overflow_x": null,
            "overflow_y": null,
            "padding": null,
            "right": null,
            "top": null,
            "visibility": null,
            "width": null
          }
        },
        "9ea91f5a72e545bda60d40179d6c0492": {
          "model_module": "@jupyter-widgets/controls",
          "model_name": "ProgressStyleModel",
          "state": {
            "_model_module": "@jupyter-widgets/controls",
            "_model_module_version": "1.5.0",
            "_model_name": "ProgressStyleModel",
            "_view_count": null,
            "_view_module": "@jupyter-widgets/base",
            "_view_module_version": "1.2.0",
            "_view_name": "StyleView",
            "bar_color": null,
            "description_width": "initial"
          }
        },
        "f672cffb6b364d1ea86d0dd3285f8002": {
          "model_module": "@jupyter-widgets/base",
          "model_name": "LayoutModel",
          "state": {
            "_model_module": "@jupyter-widgets/base",
            "_model_module_version": "1.2.0",
            "_model_name": "LayoutModel",
            "_view_count": null,
            "_view_module": "@jupyter-widgets/base",
            "_view_module_version": "1.2.0",
            "_view_name": "LayoutView",
            "align_content": null,
            "align_items": null,
            "align_self": null,
            "border": null,
            "bottom": null,
            "display": null,
            "flex": null,
            "flex_flow": null,
            "grid_area": null,
            "grid_auto_columns": null,
            "grid_auto_flow": null,
            "grid_auto_rows": null,
            "grid_column": null,
            "grid_gap": null,
            "grid_row": null,
            "grid_template_areas": null,
            "grid_template_columns": null,
            "grid_template_rows": null,
            "height": null,
            "justify_content": null,
            "justify_items": null,
            "left": null,
            "margin": null,
            "max_height": null,
            "max_width": null,
            "min_height": null,
            "min_width": null,
            "object_fit": null,
            "object_position": null,
            "order": null,
            "overflow": null,
            "overflow_x": null,
            "overflow_y": null,
            "padding": null,
            "right": null,
            "top": null,
            "visibility": null,
            "width": null
          }
        },
        "91c9055a1ef947c7a2703f04423dde66": {
          "model_module": "@jupyter-widgets/controls",
          "model_name": "DescriptionStyleModel",
          "state": {
            "_model_module": "@jupyter-widgets/controls",
            "_model_module_version": "1.5.0",
            "_model_name": "DescriptionStyleModel",
            "_view_count": null,
            "_view_module": "@jupyter-widgets/base",
            "_view_module_version": "1.2.0",
            "_view_name": "StyleView",
            "description_width": ""
          }
        },
        "b805dfa29dec43388b6bfeb797112591": {
          "model_module": "@jupyter-widgets/controls",
          "model_name": "HBoxModel",
          "state": {
            "_dom_classes": [],
            "_model_module": "@jupyter-widgets/controls",
            "_model_module_version": "1.5.0",
            "_model_name": "HBoxModel",
            "_view_count": null,
            "_view_module": "@jupyter-widgets/controls",
            "_view_module_version": "1.5.0",
            "_view_name": "HBoxView",
            "box_style": "",
            "children": [
              "IPY_MODEL_6a4a84ddb5b4436eacaae47fd13c1aaa",
              "IPY_MODEL_19db2db754954046b54e1cfbe77630cb"
            ],
            "layout": "IPY_MODEL_3dc32b6ca71d4e7980def167b1199074"
          }
        },
        "6a4a84ddb5b4436eacaae47fd13c1aaa": {
          "model_module": "@jupyter-widgets/controls",
          "model_name": "FloatProgressModel",
          "state": {
            "_dom_classes": [],
            "_model_module": "@jupyter-widgets/controls",
            "_model_module_version": "1.5.0",
            "_model_name": "FloatProgressModel",
            "_view_count": null,
            "_view_module": "@jupyter-widgets/controls",
            "_view_module_version": "1.5.0",
            "_view_name": "ProgressView",
            "bar_style": "success",
            "description": "Downloading: 100%",
            "description_tooltip": null,
            "layout": "IPY_MODEL_2b68e91d5b7f4d679df93eb71583cd36",
            "max": 25,
            "min": 0,
            "orientation": "horizontal",
            "style": "IPY_MODEL_b16ae843e4ed4ce5836b54370bf76e55",
            "value": 25
          }
        },
        "19db2db754954046b54e1cfbe77630cb": {
          "model_module": "@jupyter-widgets/controls",
          "model_name": "HTMLModel",
          "state": {
            "_dom_classes": [],
            "_model_module": "@jupyter-widgets/controls",
            "_model_module_version": "1.5.0",
            "_model_name": "HTMLModel",
            "_view_count": null,
            "_view_module": "@jupyter-widgets/controls",
            "_view_module_version": "1.5.0",
            "_view_name": "HTMLView",
            "description": "",
            "description_tooltip": null,
            "layout": "IPY_MODEL_172e0ecc7bce450792022222be478920",
            "placeholder": "​",
            "style": "IPY_MODEL_4ac1109f139843d2a5c972b3ac33b0eb",
            "value": " 25.0/25.0 [01:27&lt;00:00, 3.52s/B]"
          }
        },
        "3dc32b6ca71d4e7980def167b1199074": {
          "model_module": "@jupyter-widgets/base",
          "model_name": "LayoutModel",
          "state": {
            "_model_module": "@jupyter-widgets/base",
            "_model_module_version": "1.2.0",
            "_model_name": "LayoutModel",
            "_view_count": null,
            "_view_module": "@jupyter-widgets/base",
            "_view_module_version": "1.2.0",
            "_view_name": "LayoutView",
            "align_content": null,
            "align_items": null,
            "align_self": null,
            "border": null,
            "bottom": null,
            "display": null,
            "flex": null,
            "flex_flow": null,
            "grid_area": null,
            "grid_auto_columns": null,
            "grid_auto_flow": null,
            "grid_auto_rows": null,
            "grid_column": null,
            "grid_gap": null,
            "grid_row": null,
            "grid_template_areas": null,
            "grid_template_columns": null,
            "grid_template_rows": null,
            "height": null,
            "justify_content": null,
            "justify_items": null,
            "left": null,
            "margin": null,
            "max_height": null,
            "max_width": null,
            "min_height": null,
            "min_width": null,
            "object_fit": null,
            "object_position": null,
            "order": null,
            "overflow": null,
            "overflow_x": null,
            "overflow_y": null,
            "padding": null,
            "right": null,
            "top": null,
            "visibility": null,
            "width": null
          }
        },
        "2b68e91d5b7f4d679df93eb71583cd36": {
          "model_module": "@jupyter-widgets/base",
          "model_name": "LayoutModel",
          "state": {
            "_model_module": "@jupyter-widgets/base",
            "_model_module_version": "1.2.0",
            "_model_name": "LayoutModel",
            "_view_count": null,
            "_view_module": "@jupyter-widgets/base",
            "_view_module_version": "1.2.0",
            "_view_name": "LayoutView",
            "align_content": null,
            "align_items": null,
            "align_self": null,
            "border": null,
            "bottom": null,
            "display": null,
            "flex": null,
            "flex_flow": null,
            "grid_area": null,
            "grid_auto_columns": null,
            "grid_auto_flow": null,
            "grid_auto_rows": null,
            "grid_column": null,
            "grid_gap": null,
            "grid_row": null,
            "grid_template_areas": null,
            "grid_template_columns": null,
            "grid_template_rows": null,
            "height": null,
            "justify_content": null,
            "justify_items": null,
            "left": null,
            "margin": null,
            "max_height": null,
            "max_width": null,
            "min_height": null,
            "min_width": null,
            "object_fit": null,
            "object_position": null,
            "order": null,
            "overflow": null,
            "overflow_x": null,
            "overflow_y": null,
            "padding": null,
            "right": null,
            "top": null,
            "visibility": null,
            "width": null
          }
        },
        "b16ae843e4ed4ce5836b54370bf76e55": {
          "model_module": "@jupyter-widgets/controls",
          "model_name": "ProgressStyleModel",
          "state": {
            "_model_module": "@jupyter-widgets/controls",
            "_model_module_version": "1.5.0",
            "_model_name": "ProgressStyleModel",
            "_view_count": null,
            "_view_module": "@jupyter-widgets/base",
            "_view_module_version": "1.2.0",
            "_view_name": "StyleView",
            "bar_color": null,
            "description_width": "initial"
          }
        },
        "172e0ecc7bce450792022222be478920": {
          "model_module": "@jupyter-widgets/base",
          "model_name": "LayoutModel",
          "state": {
            "_model_module": "@jupyter-widgets/base",
            "_model_module_version": "1.2.0",
            "_model_name": "LayoutModel",
            "_view_count": null,
            "_view_module": "@jupyter-widgets/base",
            "_view_module_version": "1.2.0",
            "_view_name": "LayoutView",
            "align_content": null,
            "align_items": null,
            "align_self": null,
            "border": null,
            "bottom": null,
            "display": null,
            "flex": null,
            "flex_flow": null,
            "grid_area": null,
            "grid_auto_columns": null,
            "grid_auto_flow": null,
            "grid_auto_rows": null,
            "grid_column": null,
            "grid_gap": null,
            "grid_row": null,
            "grid_template_areas": null,
            "grid_template_columns": null,
            "grid_template_rows": null,
            "height": null,
            "justify_content": null,
            "justify_items": null,
            "left": null,
            "margin": null,
            "max_height": null,
            "max_width": null,
            "min_height": null,
            "min_width": null,
            "object_fit": null,
            "object_position": null,
            "order": null,
            "overflow": null,
            "overflow_x": null,
            "overflow_y": null,
            "padding": null,
            "right": null,
            "top": null,
            "visibility": null,
            "width": null
          }
        },
        "4ac1109f139843d2a5c972b3ac33b0eb": {
          "model_module": "@jupyter-widgets/controls",
          "model_name": "DescriptionStyleModel",
          "state": {
            "_model_module": "@jupyter-widgets/controls",
            "_model_module_version": "1.5.0",
            "_model_name": "DescriptionStyleModel",
            "_view_count": null,
            "_view_module": "@jupyter-widgets/base",
            "_view_module_version": "1.2.0",
            "_view_name": "StyleView",
            "description_width": ""
          }
        },
        "b2fb8b5d9f6c4a0881edc240842e8870": {
          "model_module": "@jupyter-widgets/controls",
          "model_name": "HBoxModel",
          "state": {
            "_dom_classes": [],
            "_model_module": "@jupyter-widgets/controls",
            "_model_module_version": "1.5.0",
            "_model_name": "HBoxModel",
            "_view_count": null,
            "_view_module": "@jupyter-widgets/controls",
            "_view_module_version": "1.5.0",
            "_view_name": "HBoxView",
            "box_style": "",
            "children": [
              "IPY_MODEL_f7242e15bff246a793cd2ea98ea73731",
              "IPY_MODEL_b93c09cc199e4b89919c1d362b43936d"
            ],
            "layout": "IPY_MODEL_47db728dc3da45b8811037e7a5fc1b95"
          }
        },
        "f7242e15bff246a793cd2ea98ea73731": {
          "model_module": "@jupyter-widgets/controls",
          "model_name": "FloatProgressModel",
          "state": {
            "_dom_classes": [],
            "_model_module": "@jupyter-widgets/controls",
            "_model_module_version": "1.5.0",
            "_model_name": "FloatProgressModel",
            "_view_count": null,
            "_view_module": "@jupyter-widgets/controls",
            "_view_module_version": "1.5.0",
            "_view_name": "ProgressView",
            "bar_style": "success",
            "description": "Downloading: 100%",
            "description_tooltip": null,
            "layout": "IPY_MODEL_dbe1b41d9bde4bcb8d423067408bfd83",
            "max": 2244296816,
            "min": 0,
            "orientation": "horizontal",
            "style": "IPY_MODEL_79a2850b6efd48b4a73028a728a6441b",
            "value": 2244296816
          }
        },
        "b93c09cc199e4b89919c1d362b43936d": {
          "model_module": "@jupyter-widgets/controls",
          "model_name": "HTMLModel",
          "state": {
            "_dom_classes": [],
            "_model_module": "@jupyter-widgets/controls",
            "_model_module_version": "1.5.0",
            "_model_name": "HTMLModel",
            "_view_count": null,
            "_view_module": "@jupyter-widgets/controls",
            "_view_module_version": "1.5.0",
            "_view_name": "HTMLView",
            "description": "",
            "description_tooltip": null,
            "layout": "IPY_MODEL_0cbf81a318bc4455b1faad79b40e091c",
            "placeholder": "​",
            "style": "IPY_MODEL_a235e11fc1714fae9289e061c4a73db1",
            "value": " 2.24G/2.24G [00:38&lt;00:00, 58.1MB/s]"
          }
        },
        "47db728dc3da45b8811037e7a5fc1b95": {
          "model_module": "@jupyter-widgets/base",
          "model_name": "LayoutModel",
          "state": {
            "_model_module": "@jupyter-widgets/base",
            "_model_module_version": "1.2.0",
            "_model_name": "LayoutModel",
            "_view_count": null,
            "_view_module": "@jupyter-widgets/base",
            "_view_module_version": "1.2.0",
            "_view_name": "LayoutView",
            "align_content": null,
            "align_items": null,
            "align_self": null,
            "border": null,
            "bottom": null,
            "display": null,
            "flex": null,
            "flex_flow": null,
            "grid_area": null,
            "grid_auto_columns": null,
            "grid_auto_flow": null,
            "grid_auto_rows": null,
            "grid_column": null,
            "grid_gap": null,
            "grid_row": null,
            "grid_template_areas": null,
            "grid_template_columns": null,
            "grid_template_rows": null,
            "height": null,
            "justify_content": null,
            "justify_items": null,
            "left": null,
            "margin": null,
            "max_height": null,
            "max_width": null,
            "min_height": null,
            "min_width": null,
            "object_fit": null,
            "object_position": null,
            "order": null,
            "overflow": null,
            "overflow_x": null,
            "overflow_y": null,
            "padding": null,
            "right": null,
            "top": null,
            "visibility": null,
            "width": null
          }
        },
        "dbe1b41d9bde4bcb8d423067408bfd83": {
          "model_module": "@jupyter-widgets/base",
          "model_name": "LayoutModel",
          "state": {
            "_model_module": "@jupyter-widgets/base",
            "_model_module_version": "1.2.0",
            "_model_name": "LayoutModel",
            "_view_count": null,
            "_view_module": "@jupyter-widgets/base",
            "_view_module_version": "1.2.0",
            "_view_name": "LayoutView",
            "align_content": null,
            "align_items": null,
            "align_self": null,
            "border": null,
            "bottom": null,
            "display": null,
            "flex": null,
            "flex_flow": null,
            "grid_area": null,
            "grid_auto_columns": null,
            "grid_auto_flow": null,
            "grid_auto_rows": null,
            "grid_column": null,
            "grid_gap": null,
            "grid_row": null,
            "grid_template_areas": null,
            "grid_template_columns": null,
            "grid_template_rows": null,
            "height": null,
            "justify_content": null,
            "justify_items": null,
            "left": null,
            "margin": null,
            "max_height": null,
            "max_width": null,
            "min_height": null,
            "min_width": null,
            "object_fit": null,
            "object_position": null,
            "order": null,
            "overflow": null,
            "overflow_x": null,
            "overflow_y": null,
            "padding": null,
            "right": null,
            "top": null,
            "visibility": null,
            "width": null
          }
        },
        "79a2850b6efd48b4a73028a728a6441b": {
          "model_module": "@jupyter-widgets/controls",
          "model_name": "ProgressStyleModel",
          "state": {
            "_model_module": "@jupyter-widgets/controls",
            "_model_module_version": "1.5.0",
            "_model_name": "ProgressStyleModel",
            "_view_count": null,
            "_view_module": "@jupyter-widgets/base",
            "_view_module_version": "1.2.0",
            "_view_name": "StyleView",
            "bar_color": null,
            "description_width": "initial"
          }
        },
        "0cbf81a318bc4455b1faad79b40e091c": {
          "model_module": "@jupyter-widgets/base",
          "model_name": "LayoutModel",
          "state": {
            "_model_module": "@jupyter-widgets/base",
            "_model_module_version": "1.2.0",
            "_model_name": "LayoutModel",
            "_view_count": null,
            "_view_module": "@jupyter-widgets/base",
            "_view_module_version": "1.2.0",
            "_view_name": "LayoutView",
            "align_content": null,
            "align_items": null,
            "align_self": null,
            "border": null,
            "bottom": null,
            "display": null,
            "flex": null,
            "flex_flow": null,
            "grid_area": null,
            "grid_auto_columns": null,
            "grid_auto_flow": null,
            "grid_auto_rows": null,
            "grid_column": null,
            "grid_gap": null,
            "grid_row": null,
            "grid_template_areas": null,
            "grid_template_columns": null,
            "grid_template_rows": null,
            "height": null,
            "justify_content": null,
            "justify_items": null,
            "left": null,
            "margin": null,
            "max_height": null,
            "max_width": null,
            "min_height": null,
            "min_width": null,
            "object_fit": null,
            "object_position": null,
            "order": null,
            "overflow": null,
            "overflow_x": null,
            "overflow_y": null,
            "padding": null,
            "right": null,
            "top": null,
            "visibility": null,
            "width": null
          }
        },
        "a235e11fc1714fae9289e061c4a73db1": {
          "model_module": "@jupyter-widgets/controls",
          "model_name": "DescriptionStyleModel",
          "state": {
            "_model_module": "@jupyter-widgets/controls",
            "_model_module_version": "1.5.0",
            "_model_name": "DescriptionStyleModel",
            "_view_count": null,
            "_view_module": "@jupyter-widgets/base",
            "_view_module_version": "1.2.0",
            "_view_name": "StyleView",
            "description_width": ""
          }
        }
      }
    }
  },
  "cells": [
    {
      "cell_type": "markdown",
      "metadata": {
        "id": "9pmgRCT2Dhkc"
      },
      "source": [
        "# 1. Pre-process data\n",
        "\n"
      ]
    },
    {
      "cell_type": "code",
      "metadata": {
        "colab": {
          "base_uri": "https://localhost:8080/"
        },
        "id": "Zv--uLcKu_4n",
        "outputId": "756b2749-57ea-491c-dd4a-3ea7aaaec2d8"
      },
      "source": [
        "!pip install transformers==3.0.2\n",
        "!pip install nlp"
      ],
      "execution_count": null,
      "outputs": [
        {
          "output_type": "stream",
          "text": [
            "Collecting transformers==3.0.2\n",
            "\u001b[?25l  Downloading https://files.pythonhosted.org/packages/27/3c/91ed8f5c4e7ef3227b4119200fc0ed4b4fd965b1f0172021c25701087825/transformers-3.0.2-py3-none-any.whl (769kB)\n",
            "\u001b[K     |████████████████████████████████| 778kB 31.6MB/s \n",
            "\u001b[?25hCollecting sentencepiece!=0.1.92\n",
            "\u001b[?25l  Downloading https://files.pythonhosted.org/packages/f5/99/e0808cb947ba10f575839c43e8fafc9cc44e4a7a2c8f79c60db48220a577/sentencepiece-0.1.95-cp37-cp37m-manylinux2014_x86_64.whl (1.2MB)\n",
            "\u001b[K     |████████████████████████████████| 1.2MB 49.8MB/s \n",
            "\u001b[?25hRequirement already satisfied: regex!=2019.12.17 in /usr/local/lib/python3.7/dist-packages (from transformers==3.0.2) (2019.12.20)\n",
            "Collecting sacremoses\n",
            "\u001b[?25l  Downloading https://files.pythonhosted.org/packages/75/ee/67241dc87f266093c533a2d4d3d69438e57d7a90abb216fa076e7d475d4a/sacremoses-0.0.45-py3-none-any.whl (895kB)\n",
            "\u001b[K     |████████████████████████████████| 901kB 52.7MB/s \n",
            "\u001b[?25hRequirement already satisfied: filelock in /usr/local/lib/python3.7/dist-packages (from transformers==3.0.2) (3.0.12)\n",
            "Collecting tokenizers==0.8.1.rc1\n",
            "\u001b[?25l  Downloading https://files.pythonhosted.org/packages/02/59/68c7e3833f535615fb97d33ffcb7b30bbf62bc7477a9c59cd19ad8535d72/tokenizers-0.8.1rc1-cp37-cp37m-manylinux1_x86_64.whl (3.0MB)\n",
            "\u001b[K     |████████████████████████████████| 3.0MB 52.2MB/s \n",
            "\u001b[?25hRequirement already satisfied: numpy in /usr/local/lib/python3.7/dist-packages (from transformers==3.0.2) (1.19.5)\n",
            "Requirement already satisfied: tqdm>=4.27 in /usr/local/lib/python3.7/dist-packages (from transformers==3.0.2) (4.41.1)\n",
            "Requirement already satisfied: requests in /usr/local/lib/python3.7/dist-packages (from transformers==3.0.2) (2.23.0)\n",
            "Requirement already satisfied: packaging in /usr/local/lib/python3.7/dist-packages (from transformers==3.0.2) (20.9)\n",
            "Requirement already satisfied: joblib in /usr/local/lib/python3.7/dist-packages (from sacremoses->transformers==3.0.2) (1.0.1)\n",
            "Requirement already satisfied: six in /usr/local/lib/python3.7/dist-packages (from sacremoses->transformers==3.0.2) (1.15.0)\n",
            "Requirement already satisfied: click in /usr/local/lib/python3.7/dist-packages (from sacremoses->transformers==3.0.2) (7.1.2)\n",
            "Requirement already satisfied: idna<3,>=2.5 in /usr/local/lib/python3.7/dist-packages (from requests->transformers==3.0.2) (2.10)\n",
            "Requirement already satisfied: certifi>=2017.4.17 in /usr/local/lib/python3.7/dist-packages (from requests->transformers==3.0.2) (2020.12.5)\n",
            "Requirement already satisfied: urllib3!=1.25.0,!=1.25.1,<1.26,>=1.21.1 in /usr/local/lib/python3.7/dist-packages (from requests->transformers==3.0.2) (1.24.3)\n",
            "Requirement already satisfied: chardet<4,>=3.0.2 in /usr/local/lib/python3.7/dist-packages (from requests->transformers==3.0.2) (3.0.4)\n",
            "Requirement already satisfied: pyparsing>=2.0.2 in /usr/local/lib/python3.7/dist-packages (from packaging->transformers==3.0.2) (2.4.7)\n",
            "Installing collected packages: sentencepiece, sacremoses, tokenizers, transformers\n",
            "Successfully installed sacremoses-0.0.45 sentencepiece-0.1.95 tokenizers-0.8.1rc1 transformers-3.0.2\n",
            "Collecting nlp\n",
            "\u001b[?25l  Downloading https://files.pythonhosted.org/packages/09/e3/bcdc59f3434b224040c1047769c47b82705feca2b89ebbc28311e3764782/nlp-0.4.0-py3-none-any.whl (1.7MB)\n",
            "\u001b[K     |████████████████████████████████| 1.7MB 18.5MB/s \n",
            "\u001b[?25hRequirement already satisfied: dill in /usr/local/lib/python3.7/dist-packages (from nlp) (0.3.3)\n",
            "Requirement already satisfied: numpy in /usr/local/lib/python3.7/dist-packages (from nlp) (1.19.5)\n",
            "Requirement already satisfied: filelock in /usr/local/lib/python3.7/dist-packages (from nlp) (3.0.12)\n",
            "Requirement already satisfied: pandas in /usr/local/lib/python3.7/dist-packages (from nlp) (1.1.5)\n",
            "Requirement already satisfied: requests>=2.19.0 in /usr/local/lib/python3.7/dist-packages (from nlp) (2.23.0)\n",
            "Requirement already satisfied: pyarrow>=0.16.0 in /usr/local/lib/python3.7/dist-packages (from nlp) (3.0.0)\n",
            "Requirement already satisfied: tqdm>=4.27 in /usr/local/lib/python3.7/dist-packages (from nlp) (4.41.1)\n",
            "Collecting xxhash\n",
            "\u001b[?25l  Downloading https://files.pythonhosted.org/packages/7d/4f/0a862cad26aa2ed7a7cd87178cbbfa824fc1383e472d63596a0d018374e7/xxhash-2.0.2-cp37-cp37m-manylinux2010_x86_64.whl (243kB)\n",
            "\u001b[K     |████████████████████████████████| 245kB 38.2MB/s \n",
            "\u001b[?25hRequirement already satisfied: pytz>=2017.2 in /usr/local/lib/python3.7/dist-packages (from pandas->nlp) (2018.9)\n",
            "Requirement already satisfied: python-dateutil>=2.7.3 in /usr/local/lib/python3.7/dist-packages (from pandas->nlp) (2.8.1)\n",
            "Requirement already satisfied: idna<3,>=2.5 in /usr/local/lib/python3.7/dist-packages (from requests>=2.19.0->nlp) (2.10)\n",
            "Requirement already satisfied: chardet<4,>=3.0.2 in /usr/local/lib/python3.7/dist-packages (from requests>=2.19.0->nlp) (3.0.4)\n",
            "Requirement already satisfied: certifi>=2017.4.17 in /usr/local/lib/python3.7/dist-packages (from requests>=2.19.0->nlp) (2020.12.5)\n",
            "Requirement already satisfied: urllib3!=1.25.0,!=1.25.1,<1.26,>=1.21.1 in /usr/local/lib/python3.7/dist-packages (from requests>=2.19.0->nlp) (1.24.3)\n",
            "Requirement already satisfied: six>=1.5 in /usr/local/lib/python3.7/dist-packages (from python-dateutil>=2.7.3->pandas->nlp) (1.15.0)\n",
            "Installing collected packages: xxhash, nlp\n",
            "Successfully installed nlp-0.4.0 xxhash-2.0.2\n"
          ],
          "name": "stdout"
        }
      ]
    },
    {
      "cell_type": "code",
      "metadata": {
        "id": "AfIpRONsFG-9"
      },
      "source": [
        "\n",
        "import gc\n",
        "import os\n",
        "import pandas as pd \n",
        "import numpy as np\n",
        "import matplotlib.pyplot as plt\n",
        "import seaborn as sns\n",
        "\n",
        "from nlp import load_dataset\n",
        "from transformers import TFAutoModel, AutoTokenizer\n",
        "\n",
        "import tensorflow as tf\n",
        "from tensorflow.keras.utils import get_custom_objects\n",
        "from tensorflow.keras import Input, Model, Sequential\n",
        "from tensorflow.keras.layers import Dense, Dropout, Activation, LSTM, Embedding, GlobalAveragePooling1D, Flatten, Conv1D, MaxPooling1D\n",
        "from tensorflow.keras.preprocessing.sequence import pad_sequences\n",
        "from tensorflow.keras.optimizers import Adam\n",
        "from tensorflow.keras.preprocessing.text import Tokenizer\n",
        "from tensorflow.keras.preprocessing.sequence import pad_sequences\n",
        "from tensorflow.keras import regularizers\n",
        "\n",
        "from sklearn.model_selection import train_test_split\n",
        "from sklearn.utils import shuffle\n",
        "\n",
        "np.random.seed(123)"
      ],
      "execution_count": null,
      "outputs": []
    },
    {
      "cell_type": "code",
      "metadata": {
        "id": "uLcm3Dho9BY-"
      },
      "source": [
        "# load data\n",
        "train = pd.read_csv('/content/train.csv')\n",
        "test = pd.read_csv('/content/test.csv')\n",
        "submission = pd.read_csv('/content//sample_submission.csv')"
      ],
      "execution_count": null,
      "outputs": []
    },
    {
      "cell_type": "markdown",
      "metadata": {
        "id": "ZN4XyChS_nvH"
      },
      "source": [
        "a. For train data"
      ]
    },
    {
      "cell_type": "code",
      "metadata": {
        "colab": {
          "base_uri": "https://localhost:8080/",
          "height": 176
        },
        "id": "FNynKRkZ_nA_",
        "outputId": "3d3aa1d5-f81f-40a2-91f4-5aea17a244f5"
      },
      "source": [
        "print(\"Training data shape: \", train.shape)\n",
        "print(\"Traning data samples: \")\n",
        "train.head(3)"
      ],
      "execution_count": null,
      "outputs": [
        {
          "output_type": "stream",
          "text": [
            "Training data shape:  (12120, 6)\n",
            "Traning data samples: \n"
          ],
          "name": "stdout"
        },
        {
          "output_type": "execute_result",
          "data": {
            "text/html": [
              "<div>\n",
              "<style scoped>\n",
              "    .dataframe tbody tr th:only-of-type {\n",
              "        vertical-align: middle;\n",
              "    }\n",
              "\n",
              "    .dataframe tbody tr th {\n",
              "        vertical-align: top;\n",
              "    }\n",
              "\n",
              "    .dataframe thead th {\n",
              "        text-align: right;\n",
              "    }\n",
              "</style>\n",
              "<table border=\"1\" class=\"dataframe\">\n",
              "  <thead>\n",
              "    <tr style=\"text-align: right;\">\n",
              "      <th></th>\n",
              "      <th>id</th>\n",
              "      <th>premise</th>\n",
              "      <th>hypothesis</th>\n",
              "      <th>lang_abv</th>\n",
              "      <th>language</th>\n",
              "      <th>label</th>\n",
              "    </tr>\n",
              "  </thead>\n",
              "  <tbody>\n",
              "    <tr>\n",
              "      <th>0</th>\n",
              "      <td>5130fd2cb5</td>\n",
              "      <td>and these comments were considered in formulat...</td>\n",
              "      <td>The rules developed in the interim were put to...</td>\n",
              "      <td>en</td>\n",
              "      <td>English</td>\n",
              "      <td>0</td>\n",
              "    </tr>\n",
              "    <tr>\n",
              "      <th>1</th>\n",
              "      <td>5b72532a0b</td>\n",
              "      <td>These are issues that we wrestle with in pract...</td>\n",
              "      <td>Practice groups are not permitted to work on t...</td>\n",
              "      <td>en</td>\n",
              "      <td>English</td>\n",
              "      <td>2</td>\n",
              "    </tr>\n",
              "    <tr>\n",
              "      <th>2</th>\n",
              "      <td>3931fbe82a</td>\n",
              "      <td>Des petites choses comme celles-là font une di...</td>\n",
              "      <td>J'essayais d'accomplir quelque chose.</td>\n",
              "      <td>fr</td>\n",
              "      <td>French</td>\n",
              "      <td>0</td>\n",
              "    </tr>\n",
              "  </tbody>\n",
              "</table>\n",
              "</div>"
            ],
            "text/plain": [
              "           id  ... label\n",
              "0  5130fd2cb5  ...     0\n",
              "1  5b72532a0b  ...     2\n",
              "2  3931fbe82a  ...     0\n",
              "\n",
              "[3 rows x 6 columns]"
            ]
          },
          "metadata": {
            "tags": []
          },
          "execution_count": 4
        }
      ]
    },
    {
      "cell_type": "code",
      "metadata": {
        "colab": {
          "base_uri": "https://localhost:8080/"
        },
        "id": "dblQv1aY9_6L",
        "outputId": "c65fffdb-dd45-418b-90ab-e3a85ea7ae39"
      },
      "source": [
        "train['language'].value_counts()"
      ],
      "execution_count": null,
      "outputs": [
        {
          "output_type": "execute_result",
          "data": {
            "text/plain": [
              "English       6870\n",
              "Chinese        411\n",
              "Arabic         401\n",
              "French         390\n",
              "Swahili        385\n",
              "Urdu           381\n",
              "Vietnamese     379\n",
              "Russian        376\n",
              "Hindi          374\n",
              "Greek          372\n",
              "Thai           371\n",
              "Spanish        366\n",
              "German         351\n",
              "Turkish        351\n",
              "Bulgarian      342\n",
              "Name: language, dtype: int64"
            ]
          },
          "metadata": {
            "tags": []
          },
          "execution_count": 5
        }
      ]
    },
    {
      "cell_type": "code",
      "metadata": {
        "colab": {
          "base_uri": "https://localhost:8080/"
        },
        "id": "C2_5o5yP-KI0",
        "outputId": "87a83f8d-3d3e-4c01-e577-251be498537e"
      },
      "source": [
        "train.language.unique()"
      ],
      "execution_count": null,
      "outputs": [
        {
          "output_type": "execute_result",
          "data": {
            "text/plain": [
              "array(['English', 'French', 'Thai', 'Turkish', 'Urdu', 'Russian',\n",
              "       'Bulgarian', 'German', 'Arabic', 'Chinese', 'Hindi', 'Swahili',\n",
              "       'Vietnamese', 'Spanish', 'Greek'], dtype=object)"
            ]
          },
          "metadata": {
            "tags": []
          },
          "execution_count": 6
        }
      ]
    },
    {
      "cell_type": "code",
      "metadata": {
        "colab": {
          "base_uri": "https://localhost:8080/"
        },
        "id": "aAuGHwOK-y13",
        "outputId": "f6d3b106-7c8a-4960-b99b-016c9e713b32"
      },
      "source": [
        "print(\"Total number of languages in train data: \",len(train.language.unique()))"
      ],
      "execution_count": null,
      "outputs": [
        {
          "output_type": "stream",
          "text": [
            "Total number of languages in train data:  15\n"
          ],
          "name": "stdout"
        }
      ]
    },
    {
      "cell_type": "code",
      "metadata": {
        "colab": {
          "base_uri": "https://localhost:8080/"
        },
        "id": "pqkXTz9N-R9B",
        "outputId": "37db73c8-e63a-4cb8-8611-edcbfb2e8415"
      },
      "source": [
        "train.info()"
      ],
      "execution_count": null,
      "outputs": [
        {
          "output_type": "stream",
          "text": [
            "<class 'pandas.core.frame.DataFrame'>\n",
            "RangeIndex: 12120 entries, 0 to 12119\n",
            "Data columns (total 6 columns):\n",
            " #   Column      Non-Null Count  Dtype \n",
            "---  ------      --------------  ----- \n",
            " 0   id          12120 non-null  object\n",
            " 1   premise     12120 non-null  object\n",
            " 2   hypothesis  12120 non-null  object\n",
            " 3   lang_abv    12120 non-null  object\n",
            " 4   language    12120 non-null  object\n",
            " 5   label       12120 non-null  int64 \n",
            "dtypes: int64(1), object(5)\n",
            "memory usage: 568.2+ KB\n"
          ],
          "name": "stdout"
        }
      ]
    },
    {
      "cell_type": "markdown",
      "metadata": {
        "id": "yJZCuS-v_5AI"
      },
      "source": [
        "b. For test data"
      ]
    },
    {
      "cell_type": "code",
      "metadata": {
        "colab": {
          "base_uri": "https://localhost:8080/",
          "height": 176
        },
        "id": "IucvVGWw_8kO",
        "outputId": "4d481b48-a629-4748-8ac1-8e6dc8d7024b"
      },
      "source": [
        "print(\"Testing data shape: \", test.shape)\n",
        "print(\"Testing data samples: \")\n",
        "test.head(3)"
      ],
      "execution_count": null,
      "outputs": [
        {
          "output_type": "stream",
          "text": [
            "Testing data shape:  (5195, 5)\n",
            "Testing data samples: \n"
          ],
          "name": "stdout"
        },
        {
          "output_type": "execute_result",
          "data": {
            "text/html": [
              "<div>\n",
              "<style scoped>\n",
              "    .dataframe tbody tr th:only-of-type {\n",
              "        vertical-align: middle;\n",
              "    }\n",
              "\n",
              "    .dataframe tbody tr th {\n",
              "        vertical-align: top;\n",
              "    }\n",
              "\n",
              "    .dataframe thead th {\n",
              "        text-align: right;\n",
              "    }\n",
              "</style>\n",
              "<table border=\"1\" class=\"dataframe\">\n",
              "  <thead>\n",
              "    <tr style=\"text-align: right;\">\n",
              "      <th></th>\n",
              "      <th>id</th>\n",
              "      <th>premise</th>\n",
              "      <th>hypothesis</th>\n",
              "      <th>lang_abv</th>\n",
              "      <th>language</th>\n",
              "    </tr>\n",
              "  </thead>\n",
              "  <tbody>\n",
              "    <tr>\n",
              "      <th>0</th>\n",
              "      <td>c6d58c3f69</td>\n",
              "      <td>بکس، کیسی، راہیل، یسعیاہ، کیلی، کیلی، اور کولم...</td>\n",
              "      <td>کیسی کے لئے کوئی یادگار نہیں ہوگا, کولمین ہائی...</td>\n",
              "      <td>ur</td>\n",
              "      <td>Urdu</td>\n",
              "    </tr>\n",
              "    <tr>\n",
              "      <th>1</th>\n",
              "      <td>cefcc82292</td>\n",
              "      <td>هذا هو ما تم نصحنا به.</td>\n",
              "      <td>عندما يتم إخبارهم بما يجب عليهم فعله ، فشلت ال...</td>\n",
              "      <td>ar</td>\n",
              "      <td>Arabic</td>\n",
              "    </tr>\n",
              "    <tr>\n",
              "      <th>2</th>\n",
              "      <td>e98005252c</td>\n",
              "      <td>et cela est en grande partie dû au fait que le...</td>\n",
              "      <td>Les mères se droguent.</td>\n",
              "      <td>fr</td>\n",
              "      <td>French</td>\n",
              "    </tr>\n",
              "  </tbody>\n",
              "</table>\n",
              "</div>"
            ],
            "text/plain": [
              "           id  ... language\n",
              "0  c6d58c3f69  ...     Urdu\n",
              "1  cefcc82292  ...   Arabic\n",
              "2  e98005252c  ...   French\n",
              "\n",
              "[3 rows x 5 columns]"
            ]
          },
          "metadata": {
            "tags": []
          },
          "execution_count": 9
        }
      ]
    },
    {
      "cell_type": "code",
      "metadata": {
        "colab": {
          "base_uri": "https://localhost:8080/"
        },
        "id": "U-hwKkT2-YCn",
        "outputId": "7f40f579-70a6-4b55-eec8-c744e9e85186"
      },
      "source": [
        "test['language'].value_counts()"
      ],
      "execution_count": null,
      "outputs": [
        {
          "output_type": "execute_result",
          "data": {
            "text/plain": [
              "English       2945\n",
              "Spanish        175\n",
              "Russian        172\n",
              "Swahili        172\n",
              "Greek          168\n",
              "Urdu           168\n",
              "Turkish        167\n",
              "Thai           164\n",
              "Arabic         159\n",
              "French         157\n",
              "German         152\n",
              "Chinese        151\n",
              "Bulgarian      150\n",
              "Hindi          150\n",
              "Vietnamese     145\n",
              "Name: language, dtype: int64"
            ]
          },
          "metadata": {
            "tags": []
          },
          "execution_count": 10
        }
      ]
    },
    {
      "cell_type": "code",
      "metadata": {
        "colab": {
          "base_uri": "https://localhost:8080/"
        },
        "id": "--AnnOUg-hk7",
        "outputId": "d4026c2f-7b28-487f-f85e-1e49b7027069"
      },
      "source": [
        "test.language.unique()"
      ],
      "execution_count": null,
      "outputs": [
        {
          "output_type": "execute_result",
          "data": {
            "text/plain": [
              "array(['Urdu', 'Arabic', 'French', 'Chinese', 'Russian', 'English',\n",
              "       'Swahili', 'German', 'Greek', 'Turkish', 'Hindi', 'Vietnamese',\n",
              "       'Spanish', 'Bulgarian', 'Thai'], dtype=object)"
            ]
          },
          "metadata": {
            "tags": []
          },
          "execution_count": 11
        }
      ]
    },
    {
      "cell_type": "code",
      "metadata": {
        "colab": {
          "base_uri": "https://localhost:8080/"
        },
        "id": "x4yWEWAT-jxT",
        "outputId": "a78f78fa-ed39-403c-dc46-dbee59df8cf9"
      },
      "source": [
        "print(\"Total number of languages in test data: \",len(test.language.unique()))"
      ],
      "execution_count": null,
      "outputs": [
        {
          "output_type": "stream",
          "text": [
            "Total number of languages in test data:  15\n"
          ],
          "name": "stdout"
        }
      ]
    },
    {
      "cell_type": "code",
      "metadata": {
        "colab": {
          "base_uri": "https://localhost:8080/"
        },
        "id": "oCN9c8Dc-4EW",
        "outputId": "7318ec75-26c8-4d6a-bf94-75048a542e00"
      },
      "source": [
        "test.info()"
      ],
      "execution_count": null,
      "outputs": [
        {
          "output_type": "stream",
          "text": [
            "<class 'pandas.core.frame.DataFrame'>\n",
            "RangeIndex: 5195 entries, 0 to 5194\n",
            "Data columns (total 5 columns):\n",
            " #   Column      Non-Null Count  Dtype \n",
            "---  ------      --------------  ----- \n",
            " 0   id          5195 non-null   object\n",
            " 1   premise     5195 non-null   object\n",
            " 2   hypothesis  5195 non-null   object\n",
            " 3   lang_abv    5195 non-null   object\n",
            " 4   language    5195 non-null   object\n",
            "dtypes: object(5)\n",
            "memory usage: 203.1+ KB\n"
          ],
          "name": "stdout"
        }
      ]
    },
    {
      "cell_type": "markdown",
      "metadata": {
        "id": "YY2Ko8IA8y_3"
      },
      "source": [
        "2. Perform data exploration"
      ]
    },
    {
      "cell_type": "markdown",
      "metadata": {
        "id": "ygKJEiOMAI1c"
      },
      "source": [
        "a. For train data"
      ]
    },
    {
      "cell_type": "code",
      "metadata": {
        "id": "0a9p1MNa80ho"
      },
      "source": [
        "train['label_str'] = train['label'].map({0 : \"entailment\", 1 : \"neutral\", 2 : \"contradiction\"})"
      ],
      "execution_count": null,
      "outputs": []
    },
    {
      "cell_type": "code",
      "metadata": {
        "colab": {
          "base_uri": "https://localhost:8080/",
          "height": 351
        },
        "id": "hdAfPc_g_Un_",
        "outputId": "a734a97d-034a-4b89-d30d-2b60ad8c6d25"
      },
      "source": [
        "plt.figure(figsize=(8,5))\n",
        "sns.countplot(y ='label_str', data = train, alpha=.5, palette=\"muted\")"
      ],
      "execution_count": null,
      "outputs": [
        {
          "output_type": "execute_result",
          "data": {
            "text/plain": [
              "<matplotlib.axes._subplots.AxesSubplot at 0x7f153ebe9a50>"
            ]
          },
          "metadata": {
            "tags": []
          },
          "execution_count": 15
        },
        {
          "output_type": "display_data",
          "data": {
            "image/png": "[encoded data removed]",
            "text/plain": [
              "<Figure size 576x360 with 1 Axes>"
            ]
          },
          "metadata": {
            "tags": []
          }
        }
      ]
    },
    {
      "cell_type": "code",
      "metadata": {
        "colab": {
          "base_uri": "https://localhost:8080/",
          "height": 623
        },
        "id": "m1q9vVuk_eC4",
        "outputId": "c085ad90-7431-465f-a265-952795949ff1"
      },
      "source": [
        "plt.figure(figsize=(15,10))\n",
        "sns.countplot(y ='language', hue = \"label_str\", data = train, alpha=.5, palette=\"muted\")"
      ],
      "execution_count": null,
      "outputs": [
        {
          "output_type": "execute_result",
          "data": {
            "text/plain": [
              "<matplotlib.axes._subplots.AxesSubplot at 0x7f153e3baa90>"
            ]
          },
          "metadata": {
            "tags": []
          },
          "execution_count": 16
        },
        {
          "output_type": "display_data",
          "data": {
            "image/png": "[encoded data removed]",
            "text/plain": [
              "<Figure size 1080x720 with 1 Axes>"
            ]
          },
          "metadata": {
            "tags": []
          }
        }
      ]
    },
    {
      "cell_type": "markdown",
      "metadata": {
        "id": "2UlPrzdYBUpp"
      },
      "source": [
        "# 3. Use sequence2sequence to build the model"
      ]
    },
    {
      "cell_type": "code",
      "metadata": {
        "colab": {
          "base_uri": "https://localhost:8080/",
          "height": 376
        },
        "id": "J4BT7QHh-Qve",
        "outputId": "c2683c7d-d809-4645-96bd-eae584029ca7"
      },
      "source": [
        "for i in range(len(train['id'])):\n",
        "  if train['language'][i] != \"English\":\n",
        "    train = train.drop(i, axis = 0)\n",
        "new_id = [i for i in range(len(train['id']))]\n",
        "train.index = new_id\n",
        "print(\"Length of data: \", len(train['id']))\n",
        "train.head(10)"
      ],
      "execution_count": null,
      "outputs": [
        {
          "output_type": "stream",
          "text": [
            "Length of data:  6870\n"
          ],
          "name": "stdout"
        },
        {
          "output_type": "execute_result",
          "data": {
            "text/html": [
              "<div>\n",
              "<style scoped>\n",
              "    .dataframe tbody tr th:only-of-type {\n",
              "        vertical-align: middle;\n",
              "    }\n",
              "\n",
              "    .dataframe tbody tr th {\n",
              "        vertical-align: top;\n",
              "    }\n",
              "\n",
              "    .dataframe thead th {\n",
              "        text-align: right;\n",
              "    }\n",
              "</style>\n",
              "<table border=\"1\" class=\"dataframe\">\n",
              "  <thead>\n",
              "    <tr style=\"text-align: right;\">\n",
              "      <th></th>\n",
              "      <th>id</th>\n",
              "      <th>premise</th>\n",
              "      <th>hypothesis</th>\n",
              "      <th>lang_abv</th>\n",
              "      <th>language</th>\n",
              "      <th>label</th>\n",
              "    </tr>\n",
              "  </thead>\n",
              "  <tbody>\n",
              "    <tr>\n",
              "      <th>0</th>\n",
              "      <td>5130fd2cb5</td>\n",
              "      <td>and these comments were considered in formulat...</td>\n",
              "      <td>The rules developed in the interim were put to...</td>\n",
              "      <td>en</td>\n",
              "      <td>English</td>\n",
              "      <td>0</td>\n",
              "    </tr>\n",
              "    <tr>\n",
              "      <th>1</th>\n",
              "      <td>5b72532a0b</td>\n",
              "      <td>These are issues that we wrestle with in pract...</td>\n",
              "      <td>Practice groups are not permitted to work on t...</td>\n",
              "      <td>en</td>\n",
              "      <td>English</td>\n",
              "      <td>2</td>\n",
              "    </tr>\n",
              "    <tr>\n",
              "      <th>2</th>\n",
              "      <td>5622f0c60b</td>\n",
              "      <td>you know they can't really defend themselves l...</td>\n",
              "      <td>They can't defend themselves because of their ...</td>\n",
              "      <td>en</td>\n",
              "      <td>English</td>\n",
              "      <td>0</td>\n",
              "    </tr>\n",
              "    <tr>\n",
              "      <th>3</th>\n",
              "      <td>fdcd1bd867</td>\n",
              "      <td>From Cockpit Country to St. Ann's Bay</td>\n",
              "      <td>From St. Ann's Bay to Cockpit Country.</td>\n",
              "      <td>en</td>\n",
              "      <td>English</td>\n",
              "      <td>2</td>\n",
              "    </tr>\n",
              "    <tr>\n",
              "      <th>4</th>\n",
              "      <td>7cfb3d272c</td>\n",
              "      <td>Look, it's your skin, but you're going to be i...</td>\n",
              "      <td>The boss will fire you if he sees you slacking...</td>\n",
              "      <td>en</td>\n",
              "      <td>English</td>\n",
              "      <td>1</td>\n",
              "    </tr>\n",
              "    <tr>\n",
              "      <th>5</th>\n",
              "      <td>dd4f0d9f25</td>\n",
              "      <td>\"If you people only knew how fatally easy it i...</td>\n",
              "      <td>Many people have poisoned someone by mistake.</td>\n",
              "      <td>en</td>\n",
              "      <td>English</td>\n",
              "      <td>1</td>\n",
              "    </tr>\n",
              "    <tr>\n",
              "      <th>6</th>\n",
              "      <td>0a3f52c547</td>\n",
              "      <td>My own little corner of the world, policy wonk...</td>\n",
              "      <td>An example is policy wonking.</td>\n",
              "      <td>en</td>\n",
              "      <td>English</td>\n",
              "      <td>0</td>\n",
              "    </tr>\n",
              "    <tr>\n",
              "      <th>7</th>\n",
              "      <td>4b0eca3ccb</td>\n",
              "      <td>life in prison then he's available for parole ...</td>\n",
              "      <td>The system is corrupt because he won't be able...</td>\n",
              "      <td>en</td>\n",
              "      <td>English</td>\n",
              "      <td>1</td>\n",
              "    </tr>\n",
              "    <tr>\n",
              "      <th>8</th>\n",
              "      <td>cad235551c</td>\n",
              "      <td>The streets are crammed with vendors selling s...</td>\n",
              "      <td>Vendors have lined the streets with torches an...</td>\n",
              "      <td>en</td>\n",
              "      <td>English</td>\n",
              "      <td>2</td>\n",
              "    </tr>\n",
              "    <tr>\n",
              "      <th>9</th>\n",
              "      <td>d8b3a4fb06</td>\n",
              "      <td>North of Mytilini, stop at the village of Mori...</td>\n",
              "      <td>There is nothing special to see in the village...</td>\n",
              "      <td>en</td>\n",
              "      <td>English</td>\n",
              "      <td>2</td>\n",
              "    </tr>\n",
              "  </tbody>\n",
              "</table>\n",
              "</div>"
            ],
            "text/plain": [
              "           id  ... label\n",
              "0  5130fd2cb5  ...     0\n",
              "1  5b72532a0b  ...     2\n",
              "2  5622f0c60b  ...     0\n",
              "3  fdcd1bd867  ...     2\n",
              "4  7cfb3d272c  ...     1\n",
              "5  dd4f0d9f25  ...     1\n",
              "6  0a3f52c547  ...     0\n",
              "7  4b0eca3ccb  ...     1\n",
              "8  cad235551c  ...     2\n",
              "9  d8b3a4fb06  ...     2\n",
              "\n",
              "[10 rows x 6 columns]"
            ]
          },
          "metadata": {
            "tags": []
          },
          "execution_count": 164
        }
      ]
    },
    {
      "cell_type": "code",
      "metadata": {
        "colab": {
          "base_uri": "https://localhost:8080/",
          "height": 238
        },
        "id": "Ch9cvv-56jQb",
        "outputId": "be501936-e0bf-4b44-9aca-a57cc576f811"
      },
      "source": [
        "import spacy\n",
        "import re\n",
        "#instantiating English module\n",
        "nlp = spacy.load('en_core_web_sm')\n",
        "nlp.max_length = 10000\n",
        "from nltk.stem import WordNetLemmatizer\n",
        "nltk.download('wordnet')\n",
        "documents = []\n",
        "stemmer = WordNetLemmatizer()\n",
        "# combine two sentences into one\n",
        "combine_sentences = []\n",
        "for i in range(len(train['id'])):\n",
        "    sentences = str(train['premise'][i]) + \" \" + str(train['hypothesis'][i])\n",
        "    # Remove all the special characters\n",
        "    document = re.sub(r'\\W', ' ', str(sentences))\n",
        "    # remove all single characters\n",
        "    document = re.sub(r'\\s+[a-zA-Z]\\s+', ' ', document)\n",
        "    # Remove single characters from the start\n",
        "    document = re.sub(r'\\^[a-zA-Z]\\s+', ' ', document) \n",
        "    # Substituting multiple spaces with single space\n",
        "    document = re.sub(r'\\s+', ' ', document, flags=re.I)\n",
        "    # Removing prefixed 'b'\n",
        "    document = re.sub(r'^b\\s+', '', document)\n",
        "    # Converting to Lowercase\n",
        "    document = document.lower()\n",
        "    # Lemmatization\n",
        "    document = document.split()\n",
        "    document = [stemmer.lemmatize(word) for word in document]\n",
        "    document = ' '.join(document)\n",
        "    document = [document]\n",
        "    combine_sentences.append(document)\n",
        "train[\"combined\"] = combine_sentences\n",
        "train.head(5)"
      ],
      "execution_count": null,
      "outputs": [
        {
          "output_type": "stream",
          "text": [
            "[nltk_data] Downloading package wordnet to /root/nltk_data...\n",
            "[nltk_data]   Package wordnet is already up-to-date!\n"
          ],
          "name": "stdout"
        },
        {
          "output_type": "execute_result",
          "data": {
            "text/html": [
              "<div>\n",
              "<style scoped>\n",
              "    .dataframe tbody tr th:only-of-type {\n",
              "        vertical-align: middle;\n",
              "    }\n",
              "\n",
              "    .dataframe tbody tr th {\n",
              "        vertical-align: top;\n",
              "    }\n",
              "\n",
              "    .dataframe thead th {\n",
              "        text-align: right;\n",
              "    }\n",
              "</style>\n",
              "<table border=\"1\" class=\"dataframe\">\n",
              "  <thead>\n",
              "    <tr style=\"text-align: right;\">\n",
              "      <th></th>\n",
              "      <th>id</th>\n",
              "      <th>premise</th>\n",
              "      <th>hypothesis</th>\n",
              "      <th>lang_abv</th>\n",
              "      <th>language</th>\n",
              "      <th>label</th>\n",
              "      <th>combined</th>\n",
              "    </tr>\n",
              "  </thead>\n",
              "  <tbody>\n",
              "    <tr>\n",
              "      <th>0</th>\n",
              "      <td>5130fd2cb5</td>\n",
              "      <td>and these comments were considered in formulat...</td>\n",
              "      <td>The rules developed in the interim were put to...</td>\n",
              "      <td>en</td>\n",
              "      <td>English</td>\n",
              "      <td>0</td>\n",
              "      <td>[and these comment were considered in formulat...</td>\n",
              "    </tr>\n",
              "    <tr>\n",
              "      <th>1</th>\n",
              "      <td>5b72532a0b</td>\n",
              "      <td>These are issues that we wrestle with in pract...</td>\n",
              "      <td>Practice groups are not permitted to work on t...</td>\n",
              "      <td>en</td>\n",
              "      <td>English</td>\n",
              "      <td>2</td>\n",
              "      <td>[these are issue that we wrestle with in pract...</td>\n",
              "    </tr>\n",
              "    <tr>\n",
              "      <th>2</th>\n",
              "      <td>5622f0c60b</td>\n",
              "      <td>you know they can't really defend themselves l...</td>\n",
              "      <td>They can't defend themselves because of their ...</td>\n",
              "      <td>en</td>\n",
              "      <td>English</td>\n",
              "      <td>0</td>\n",
              "      <td>[you know they can really defend themselves li...</td>\n",
              "    </tr>\n",
              "    <tr>\n",
              "      <th>3</th>\n",
              "      <td>fdcd1bd867</td>\n",
              "      <td>From Cockpit Country to St. Ann's Bay</td>\n",
              "      <td>From St. Ann's Bay to Cockpit Country.</td>\n",
              "      <td>en</td>\n",
              "      <td>English</td>\n",
              "      <td>2</td>\n",
              "      <td>[from cockpit country to st ann bay from st an...</td>\n",
              "    </tr>\n",
              "    <tr>\n",
              "      <th>4</th>\n",
              "      <td>7cfb3d272c</td>\n",
              "      <td>Look, it's your skin, but you're going to be i...</td>\n",
              "      <td>The boss will fire you if he sees you slacking...</td>\n",
              "      <td>en</td>\n",
              "      <td>English</td>\n",
              "      <td>1</td>\n",
              "      <td>[look it your skin but you re going to be in t...</td>\n",
              "    </tr>\n",
              "  </tbody>\n",
              "</table>\n",
              "</div>"
            ],
            "text/plain": [
              "           id  ...                                           combined\n",
              "0  5130fd2cb5  ...  [and these comment were considered in formulat...\n",
              "1  5b72532a0b  ...  [these are issue that we wrestle with in pract...\n",
              "2  5622f0c60b  ...  [you know they can really defend themselves li...\n",
              "3  fdcd1bd867  ...  [from cockpit country to st ann bay from st an...\n",
              "4  7cfb3d272c  ...  [look it your skin but you re going to be in t...\n",
              "\n",
              "[5 rows x 7 columns]"
            ]
          },
          "metadata": {
            "tags": []
          },
          "execution_count": 165
        }
      ]
    },
    {
      "cell_type": "code",
      "metadata": {
        "colab": {
          "base_uri": "https://localhost:8080/"
        },
        "id": "CiF3SVUP13yx",
        "outputId": "7d6fee27-8afc-409f-d6a3-97f36c371951"
      },
      "source": [
        "from sklearn.feature_extraction.text import TfidfVectorizer\n",
        "from nltk.corpus import stopwords\n",
        "import nltk\n",
        "nltk.download('stopwords')\n",
        "tfidfconverter = TfidfVectorizer(max_features=2)\n",
        "# tfidfconverter = TfidfVectorizer()\n",
        "vector_tfdif = []\n",
        "for i in range(len(train[\"combined\"])):\n",
        "    input_value = train[\"combined\"][i]\n",
        "    # print(input_value, i)\n",
        "    test_vec = tfidfconverter.fit_transform(input_value).toarray()\n",
        "    vector_tfdif.append(test_vec[0])\n",
        "print(len(vector_tfdif))"
      ],
      "execution_count": null,
      "outputs": [
        {
          "output_type": "stream",
          "text": [
            "[nltk_data] Downloading package stopwords to /root/nltk_data...\n",
            "[nltk_data]   Package stopwords is already up-to-date!\n",
            "6870\n"
          ],
          "name": "stdout"
        }
      ]
    },
    {
      "cell_type": "code",
      "metadata": {
        "colab": {
          "base_uri": "https://localhost:8080/",
          "height": 546
        },
        "id": "ku1UFUHcY90M",
        "outputId": "f8cc6f57-6601-4f7e-b273-9d551e4e6d49"
      },
      "source": [
        "train[\"vector_tfdif\"] = vector_tfdif\n",
        "vector_tfdif_array = np.array(vector_tfdif)\n",
        "print(vector_tfdif_array.shape)\n",
        "train.head(10)"
      ],
      "execution_count": null,
      "outputs": [
        {
          "output_type": "stream",
          "text": [
            "(6870, 2)\n"
          ],
          "name": "stdout"
        },
        {
          "output_type": "execute_result",
          "data": {
            "text/html": [
              "<div>\n",
              "<style scoped>\n",
              "    .dataframe tbody tr th:only-of-type {\n",
              "        vertical-align: middle;\n",
              "    }\n",
              "\n",
              "    .dataframe tbody tr th {\n",
              "        vertical-align: top;\n",
              "    }\n",
              "\n",
              "    .dataframe thead th {\n",
              "        text-align: right;\n",
              "    }\n",
              "</style>\n",
              "<table border=\"1\" class=\"dataframe\">\n",
              "  <thead>\n",
              "    <tr style=\"text-align: right;\">\n",
              "      <th></th>\n",
              "      <th>id</th>\n",
              "      <th>premise</th>\n",
              "      <th>hypothesis</th>\n",
              "      <th>lang_abv</th>\n",
              "      <th>language</th>\n",
              "      <th>label</th>\n",
              "      <th>combined</th>\n",
              "      <th>vector_tfdif</th>\n",
              "      <th>spacy_data</th>\n",
              "    </tr>\n",
              "  </thead>\n",
              "  <tbody>\n",
              "    <tr>\n",
              "      <th>0</th>\n",
              "      <td>5130fd2cb5</td>\n",
              "      <td>and these comments were considered in formulat...</td>\n",
              "      <td>The rules developed in the interim were put to...</td>\n",
              "      <td>en</td>\n",
              "      <td>English</td>\n",
              "      <td>0</td>\n",
              "      <td>[and these comment were considered in formulat...</td>\n",
              "      <td>[0.7071067811865476, 0.7071067811865476]</td>\n",
              "      <td>[and, these, comment, were, considered, in, fo...</td>\n",
              "    </tr>\n",
              "    <tr>\n",
              "      <th>1</th>\n",
              "      <td>5b72532a0b</td>\n",
              "      <td>These are issues that we wrestle with in pract...</td>\n",
              "      <td>Practice groups are not permitted to work on t...</td>\n",
              "      <td>en</td>\n",
              "      <td>English</td>\n",
              "      <td>2</td>\n",
              "      <td>[these are issue that we wrestle with in pract...</td>\n",
              "      <td>[0.7071067811865475, 0.7071067811865475]</td>\n",
              "      <td>[these, are, issue, that, we, wrestle, with, i...</td>\n",
              "    </tr>\n",
              "    <tr>\n",
              "      <th>2</th>\n",
              "      <td>5622f0c60b</td>\n",
              "      <td>you know they can't really defend themselves l...</td>\n",
              "      <td>They can't defend themselves because of their ...</td>\n",
              "      <td>en</td>\n",
              "      <td>English</td>\n",
              "      <td>0</td>\n",
              "      <td>[you know they can really defend themselves li...</td>\n",
              "      <td>[0.7071067811865475, 0.7071067811865475]</td>\n",
              "      <td>[you, know, they, can, really, defend, themsel...</td>\n",
              "    </tr>\n",
              "    <tr>\n",
              "      <th>3</th>\n",
              "      <td>fdcd1bd867</td>\n",
              "      <td>From Cockpit Country to St. Ann's Bay</td>\n",
              "      <td>From St. Ann's Bay to Cockpit Country.</td>\n",
              "      <td>en</td>\n",
              "      <td>English</td>\n",
              "      <td>2</td>\n",
              "      <td>[from cockpit country to st ann bay from st an...</td>\n",
              "      <td>[0.7071067811865475, 0.7071067811865475]</td>\n",
              "      <td>[from, cockpit, country, to, st, ann, bay, fro...</td>\n",
              "    </tr>\n",
              "    <tr>\n",
              "      <th>4</th>\n",
              "      <td>7cfb3d272c</td>\n",
              "      <td>Look, it's your skin, but you're going to be i...</td>\n",
              "      <td>The boss will fire you if he sees you slacking...</td>\n",
              "      <td>en</td>\n",
              "      <td>English</td>\n",
              "      <td>1</td>\n",
              "      <td>[look it your skin but you re going to be in t...</td>\n",
              "      <td>[0.4472135954999579, 0.8944271909999159]</td>\n",
              "      <td>[look, it, your, skin, but, you, re, going, to...</td>\n",
              "    </tr>\n",
              "    <tr>\n",
              "      <th>5</th>\n",
              "      <td>dd4f0d9f25</td>\n",
              "      <td>\"If you people only knew how fatally easy it i...</td>\n",
              "      <td>Many people have poisoned someone by mistake.</td>\n",
              "      <td>en</td>\n",
              "      <td>English</td>\n",
              "      <td>1</td>\n",
              "      <td>[if you people only knew how fatally easy it i...</td>\n",
              "      <td>[0.7071067811865475, 0.7071067811865475]</td>\n",
              "      <td>[if, you, people, only, knew, how, fatally, ea...</td>\n",
              "    </tr>\n",
              "    <tr>\n",
              "      <th>6</th>\n",
              "      <td>0a3f52c547</td>\n",
              "      <td>My own little corner of the world, policy wonk...</td>\n",
              "      <td>An example is policy wonking.</td>\n",
              "      <td>en</td>\n",
              "      <td>English</td>\n",
              "      <td>0</td>\n",
              "      <td>[my own little corner of the world policy wonk...</td>\n",
              "      <td>[0.7071067811865475, 0.7071067811865475]</td>\n",
              "      <td>[my, own, little, corner, of, the, world, poli...</td>\n",
              "    </tr>\n",
              "    <tr>\n",
              "      <th>7</th>\n",
              "      <td>4b0eca3ccb</td>\n",
              "      <td>life in prison then he's available for parole ...</td>\n",
              "      <td>The system is corrupt because he won't be able...</td>\n",
              "      <td>en</td>\n",
              "      <td>English</td>\n",
              "      <td>1</td>\n",
              "      <td>[life in prison then he available for parole i...</td>\n",
              "      <td>[0.7071067811865476, 0.7071067811865476]</td>\n",
              "      <td>[life, in, prison, then, he, available, for, p...</td>\n",
              "    </tr>\n",
              "    <tr>\n",
              "      <th>8</th>\n",
              "      <td>cad235551c</td>\n",
              "      <td>The streets are crammed with vendors selling s...</td>\n",
              "      <td>Vendors have lined the streets with torches an...</td>\n",
              "      <td>en</td>\n",
              "      <td>English</td>\n",
              "      <td>2</td>\n",
              "      <td>[the street are crammed with vendor selling sh...</td>\n",
              "      <td>[0.8320502943378437, 0.5547001962252291]</td>\n",
              "      <td>[the, street, are, crammed, with, vendor, sell...</td>\n",
              "    </tr>\n",
              "    <tr>\n",
              "      <th>9</th>\n",
              "      <td>d8b3a4fb06</td>\n",
              "      <td>North of Mytilini, stop at the village of Mori...</td>\n",
              "      <td>There is nothing special to see in the village...</td>\n",
              "      <td>en</td>\n",
              "      <td>English</td>\n",
              "      <td>2</td>\n",
              "      <td>[north of mytilini stop at the village of mori...</td>\n",
              "      <td>[0.8, 0.6]</td>\n",
              "      <td>[north, of, mytilini, stop, at, the, village, ...</td>\n",
              "    </tr>\n",
              "  </tbody>\n",
              "</table>\n",
              "</div>"
            ],
            "text/plain": [
              "           id  ...                                         spacy_data\n",
              "0  5130fd2cb5  ...  [and, these, comment, were, considered, in, fo...\n",
              "1  5b72532a0b  ...  [these, are, issue, that, we, wrestle, with, i...\n",
              "2  5622f0c60b  ...  [you, know, they, can, really, defend, themsel...\n",
              "3  fdcd1bd867  ...  [from, cockpit, country, to, st, ann, bay, fro...\n",
              "4  7cfb3d272c  ...  [look, it, your, skin, but, you, re, going, to...\n",
              "5  dd4f0d9f25  ...  [if, you, people, only, knew, how, fatally, ea...\n",
              "6  0a3f52c547  ...  [my, own, little, corner, of, the, world, poli...\n",
              "7  4b0eca3ccb  ...  [life, in, prison, then, he, available, for, p...\n",
              "8  cad235551c  ...  [the, street, are, crammed, with, vendor, sell...\n",
              "9  d8b3a4fb06  ...  [north, of, mytilini, stop, at, the, village, ...\n",
              "\n",
              "[10 rows x 9 columns]"
            ]
          },
          "metadata": {
            "tags": []
          },
          "execution_count": 217
        }
      ]
    },
    {
      "cell_type": "code",
      "metadata": {
        "colab": {
          "base_uri": "https://localhost:8080/"
        },
        "id": "jXtLYfgKnLtw",
        "outputId": "288563aa-203d-44ef-cac4-8d30806944ea"
      },
      "source": [
        "from keras.utils import to_categorical\n",
        "\n",
        "X_tfdif, y_tfdif = train['vector_tfdif'].values.tolist(), train['label'].values.tolist()\n",
        "X_tfdif = np.array(X_tfdif)\n",
        "y_tfdif = np.array(y_tfdif)\n",
        "y_tfdif = to_categorical(y_tfdif, 3)\n",
        "print(\"Length of data: \", X_tfdif.shape)\n",
        "print(\"Length of label: \", y_tfdif.shape)\n",
        "\n",
        "X_train_tfdif, X_test_tfdif, Y_train_tfdif, Y_test_tfdif = train_test_split(X_tfdif, y_tfdif, test_size=0.2, random_state=1)\n",
        "print(\"Shape of train data: \", X_train_tfdif.shape,Y_train_tfdif.shape)\n",
        "print(\"Shape of test data: \", X_test_tfdif.shape,Y_test_tfdif.shape)"
      ],
      "execution_count": null,
      "outputs": [
        {
          "output_type": "stream",
          "text": [
            "Length of data:  (6870, 2)\n",
            "Length of label:  (6870, 3)\n",
            "Shape of train data:  (5496, 2) (5496, 3)\n",
            "Shape of test data:  (1374, 2) (1374, 3)\n"
          ],
          "name": "stdout"
        }
      ]
    },
    {
      "cell_type": "code",
      "metadata": {
        "colab": {
          "base_uri": "https://localhost:8080/",
          "height": 1000
        },
        "id": "4Kyq-rPo5Zku",
        "outputId": "26c59d5b-fa12-4fa8-b924-14203f5df219"
      },
      "source": [
        "top_words = 1000\n",
        "max_review_length = 500\n",
        "embedding_vecor_length = 100\n",
        "model = Sequential()\n",
        "model.add(Embedding(top_words, embedding_vecor_length, input_length=max_review_length))\n",
        "model.add(Conv1D(filters=32, kernel_size=3, padding='same', activation='relu'))\n",
        "model.add(MaxPooling1D(pool_size=2))\n",
        "model.add(LSTM(100))\n",
        "model.add(Dense(3, activation='sigmoid'))\n",
        "model.compile(loss='binary_crossentropy', optimizer='adam', metrics=['accuracy'])\n",
        "print(model.summary())\n",
        "\n",
        "EPOCHS = 15\n",
        "BATCH_SIZE = 64\n",
        "history_se2se = model.fit(X_train_tfdif, Y_train_tfdif, epochs=EPOCHS, batch_size=BATCH_SIZE)\n",
        "# Final evaluation of the model\n",
        "scores = model.evaluate(X_test_tfdif, Y_test_tfdif, verbose=0)\n",
        "print(\"Accuracy: %.2f%%\" % (scores[1]*100))\n",
        "\n",
        "plt.plot(history_se2se.history['accuracy'])\n",
        "plt.title('Model accuracy')\n",
        "plt.ylabel('Accuracy')\n",
        "plt.xlabel('Epoch')\n",
        "plt.legend(['Train', 'Test'], loc='upper left')\n",
        "plt.show()\n",
        "\n",
        "plt.plot(history_se2se.history['loss'])\n",
        "plt.title('Model loss')\n",
        "plt.ylabel('Loss')\n",
        "plt.xlabel('Epoch')\n",
        "plt.legend(['Train', 'Test'], loc='upper left')\n",
        "plt.show()"
      ],
      "execution_count": null,
      "outputs": [
        {
          "output_type": "stream",
          "text": [
            "Model: \"sequential_14\"\n",
            "_________________________________________________________________\n",
            "Layer (type)                 Output Shape              Param #   \n",
            "=================================================================\n",
            "embedding_14 (Embedding)     (None, 500, 100)          100000    \n",
            "_________________________________________________________________\n",
            "conv1d_8 (Conv1D)            (None, 500, 32)           9632      \n",
            "_________________________________________________________________\n",
            "max_pooling1d_7 (MaxPooling1 (None, 250, 32)           0         \n",
            "_________________________________________________________________\n",
            "lstm_12 (LSTM)               (None, 100)               53200     \n",
            "_________________________________________________________________\n",
            "dense_12 (Dense)             (None, 3)                 303       \n",
            "=================================================================\n",
            "Total params: 163,135\n",
            "Trainable params: 163,135\n",
            "Non-trainable params: 0\n",
            "_________________________________________________________________\n",
            "None\n",
            "Epoch 1/15\n",
            "WARNING:tensorflow:Model was constructed with shape (None, 500) for input KerasTensor(type_spec=TensorSpec(shape=(None, 500), dtype=tf.float32, name='embedding_14_input'), name='embedding_14_input', description=\"created by layer 'embedding_14_input'\"), but it was called on an input with incompatible shape (None, 2).\n",
            "WARNING:tensorflow:Model was constructed with shape (None, 500) for input KerasTensor(type_spec=TensorSpec(shape=(None, 500), dtype=tf.float32, name='embedding_14_input'), name='embedding_14_input', description=\"created by layer 'embedding_14_input'\"), but it was called on an input with incompatible shape (None, 2).\n",
            "86/86 [==============================] - 2s 5ms/step - loss: 0.6663 - accuracy: 0.3472\n",
            "Epoch 2/15\n",
            "86/86 [==============================] - 0s 6ms/step - loss: 0.6365 - accuracy: 0.3547\n",
            "Epoch 3/15\n",
            "86/86 [==============================] - 0s 6ms/step - loss: 0.6362 - accuracy: 0.3392\n",
            "Epoch 4/15\n",
            "86/86 [==============================] - 1s 6ms/step - loss: 0.6360 - accuracy: 0.3571\n",
            "Epoch 5/15\n",
            "86/86 [==============================] - 1s 6ms/step - loss: 0.6362 - accuracy: 0.3591\n",
            "Epoch 6/15\n",
            "86/86 [==============================] - 1s 6ms/step - loss: 0.6357 - accuracy: 0.3545\n",
            "Epoch 7/15\n",
            "86/86 [==============================] - 0s 6ms/step - loss: 0.6358 - accuracy: 0.3493\n",
            "Epoch 8/15\n",
            "86/86 [==============================] - 1s 6ms/step - loss: 0.6363 - accuracy: 0.3529\n",
            "Epoch 9/15\n",
            "86/86 [==============================] - 0s 5ms/step - loss: 0.6362 - accuracy: 0.3548\n",
            "Epoch 10/15\n",
            "86/86 [==============================] - 0s 6ms/step - loss: 0.6360 - accuracy: 0.3535\n",
            "Epoch 11/15\n",
            "86/86 [==============================] - 0s 6ms/step - loss: 0.6362 - accuracy: 0.3450\n",
            "Epoch 12/15\n",
            "86/86 [==============================] - 1s 6ms/step - loss: 0.6358 - accuracy: 0.3564\n",
            "Epoch 13/15\n",
            "86/86 [==============================] - 0s 6ms/step - loss: 0.6364 - accuracy: 0.3529\n",
            "Epoch 14/15\n",
            "86/86 [==============================] - 0s 5ms/step - loss: 0.6362 - accuracy: 0.3408\n",
            "Epoch 15/15\n",
            "86/86 [==============================] - 0s 5ms/step - loss: 0.6362 - accuracy: 0.3515\n",
            "WARNING:tensorflow:Model was constructed with shape (None, 500) for input KerasTensor(type_spec=TensorSpec(shape=(None, 500), dtype=tf.float32, name='embedding_14_input'), name='embedding_14_input', description=\"created by layer 'embedding_14_input'\"), but it was called on an input with incompatible shape (None, 2).\n",
            "Accuracy: 35.59%\n"
          ],
          "name": "stdout"
        },
        {
          "output_type": "display_data",
          "data": {
            "image/png": "[encoded data removed]",
            "text/plain": [
              "<Figure size 432x288 with 1 Axes>"
            ]
          },
          "metadata": {
            "tags": []
          }
        },
        {
          "output_type": "display_data",
          "data": {
            "image/png": "[encoded data removed]",
            "text/plain": [
              "<Figure size 432x288 with 1 Axes>"
            ]
          },
          "metadata": {
            "tags": []
          }
        }
      ]
    },
    {
      "cell_type": "markdown",
      "metadata": {
        "id": "JLiouSSFrdv2"
      },
      "source": [
        "* Using word2vec"
      ]
    },
    {
      "cell_type": "code",
      "metadata": {
        "id": "8bx54dr5rNC-"
      },
      "source": [
        "from gensim.models import KeyedVectors\n",
        "from gensim.models import Word2Vec\n",
        "\n",
        "# load the google word2vec model\n",
        "filename = '/content/drive/MyDrive/GoogleNews-vectors-negative300.bin'\n",
        "model_word2vec = KeyedVectors.load_word2vec_format(filename, binary=True, limit = 300000)"
      ],
      "execution_count": null,
      "outputs": []
    },
    {
      "cell_type": "code",
      "metadata": {
        "colab": {
          "base_uri": "https://localhost:8080/",
          "height": 289
        },
        "id": "SaZ_hTwmVJe7",
        "outputId": "0f2b9c3a-9372-4493-a003-721dd449c194"
      },
      "source": [
        "# get new data for using word2vec\n",
        "train_word2vec = train\n",
        "train_word2vec.head(5)"
      ],
      "execution_count": null,
      "outputs": [
        {
          "output_type": "execute_result",
          "data": {
            "text/html": [
              "<div>\n",
              "<style scoped>\n",
              "    .dataframe tbody tr th:only-of-type {\n",
              "        vertical-align: middle;\n",
              "    }\n",
              "\n",
              "    .dataframe tbody tr th {\n",
              "        vertical-align: top;\n",
              "    }\n",
              "\n",
              "    .dataframe thead th {\n",
              "        text-align: right;\n",
              "    }\n",
              "</style>\n",
              "<table border=\"1\" class=\"dataframe\">\n",
              "  <thead>\n",
              "    <tr style=\"text-align: right;\">\n",
              "      <th></th>\n",
              "      <th>id</th>\n",
              "      <th>premise</th>\n",
              "      <th>hypothesis</th>\n",
              "      <th>lang_abv</th>\n",
              "      <th>language</th>\n",
              "      <th>label</th>\n",
              "      <th>combined</th>\n",
              "      <th>vector_tfdif</th>\n",
              "      <th>spacy_data</th>\n",
              "    </tr>\n",
              "  </thead>\n",
              "  <tbody>\n",
              "    <tr>\n",
              "      <th>0</th>\n",
              "      <td>5130fd2cb5</td>\n",
              "      <td>and these comments were considered in formulat...</td>\n",
              "      <td>The rules developed in the interim were put to...</td>\n",
              "      <td>en</td>\n",
              "      <td>English</td>\n",
              "      <td>0</td>\n",
              "      <td>[and these comment were considered in formulat...</td>\n",
              "      <td>[0.7071067811865476, 0.7071067811865476]</td>\n",
              "      <td>[and, these, comment, were, considered, in, fo...</td>\n",
              "    </tr>\n",
              "    <tr>\n",
              "      <th>1</th>\n",
              "      <td>5b72532a0b</td>\n",
              "      <td>These are issues that we wrestle with in pract...</td>\n",
              "      <td>Practice groups are not permitted to work on t...</td>\n",
              "      <td>en</td>\n",
              "      <td>English</td>\n",
              "      <td>2</td>\n",
              "      <td>[these are issue that we wrestle with in pract...</td>\n",
              "      <td>[0.7071067811865475, 0.7071067811865475]</td>\n",
              "      <td>[these, are, issue, that, we, wrestle, with, i...</td>\n",
              "    </tr>\n",
              "    <tr>\n",
              "      <th>2</th>\n",
              "      <td>5622f0c60b</td>\n",
              "      <td>you know they can't really defend themselves l...</td>\n",
              "      <td>They can't defend themselves because of their ...</td>\n",
              "      <td>en</td>\n",
              "      <td>English</td>\n",
              "      <td>0</td>\n",
              "      <td>[you know they can really defend themselves li...</td>\n",
              "      <td>[0.7071067811865475, 0.7071067811865475]</td>\n",
              "      <td>[you, know, they, can, really, defend, themsel...</td>\n",
              "    </tr>\n",
              "    <tr>\n",
              "      <th>3</th>\n",
              "      <td>fdcd1bd867</td>\n",
              "      <td>From Cockpit Country to St. Ann's Bay</td>\n",
              "      <td>From St. Ann's Bay to Cockpit Country.</td>\n",
              "      <td>en</td>\n",
              "      <td>English</td>\n",
              "      <td>2</td>\n",
              "      <td>[from cockpit country to st ann bay from st an...</td>\n",
              "      <td>[0.7071067811865475, 0.7071067811865475]</td>\n",
              "      <td>[from, cockpit, country, to, st, ann, bay, fro...</td>\n",
              "    </tr>\n",
              "    <tr>\n",
              "      <th>4</th>\n",
              "      <td>7cfb3d272c</td>\n",
              "      <td>Look, it's your skin, but you're going to be i...</td>\n",
              "      <td>The boss will fire you if he sees you slacking...</td>\n",
              "      <td>en</td>\n",
              "      <td>English</td>\n",
              "      <td>1</td>\n",
              "      <td>[look it your skin but you re going to be in t...</td>\n",
              "      <td>[0.4472135954999579, 0.8944271909999159]</td>\n",
              "      <td>[look, it, your, skin, but, you, re, going, to...</td>\n",
              "    </tr>\n",
              "  </tbody>\n",
              "</table>\n",
              "</div>"
            ],
            "text/plain": [
              "           id  ...                                         spacy_data\n",
              "0  5130fd2cb5  ...  [and, these, comment, were, considered, in, fo...\n",
              "1  5b72532a0b  ...  [these, are, issue, that, we, wrestle, with, i...\n",
              "2  5622f0c60b  ...  [you, know, they, can, really, defend, themsel...\n",
              "3  fdcd1bd867  ...  [from, cockpit, country, to, st, ann, bay, fro...\n",
              "4  7cfb3d272c  ...  [look, it, your, skin, but, you, re, going, to...\n",
              "\n",
              "[5 rows x 9 columns]"
            ]
          },
          "metadata": {
            "tags": []
          },
          "execution_count": 261
        }
      ]
    },
    {
      "cell_type": "code",
      "metadata": {
        "colab": {
          "base_uri": "https://localhost:8080/"
        },
        "id": "AHXmK1D-rofQ",
        "outputId": "47408451-b33e-49ef-a8b9-42f155e636da"
      },
      "source": [
        "#importing libraries\n",
        "import spacy\n",
        "import datetime\n",
        "start_time = datetime.datetime.now()\n",
        "#instantiating English module\n",
        "nlp = spacy.load('en_core_web_sm')\n",
        "nlp.max_length = 10000\n",
        "word2vec_data = []\n",
        "for i in range(len(train_word2vec[\"combined\"])):\n",
        "    #creating doc object containing our token features\n",
        "    doc = nlp(train_word2vec[\"combined\"][i][0])\n",
        "\n",
        "    #Creating and updating our list of tokens using list comprehension \n",
        "    tokens = [token.text for token in doc]\n",
        "    word2vec_data.append(tokens)\n",
        "print(\"Length of word2vec_data: \", len(word2vec_data))\n",
        "stop_time = datetime.datetime.now()\n",
        "cost_time = (stop_time-start_time)\n",
        "total_seconds = cost_time.total_seconds()\n",
        "print(\"Cost time for using spacy step\", total_seconds)"
      ],
      "execution_count": null,
      "outputs": [
        {
          "output_type": "stream",
          "text": [
            "Length of word2vec_data:  6870\n",
            "Cost time for using spacy step 285.152993\n"
          ],
          "name": "stdout"
        }
      ]
    },
    {
      "cell_type": "code",
      "metadata": {
        "colab": {
          "base_uri": "https://localhost:8080/",
          "height": 289
        },
        "id": "63IFU7mXGFFn",
        "outputId": "559a589e-b3f9-4b71-a57c-06360c400985"
      },
      "source": [
        "train_word2vec[\"spacy_data\"] = word2vec_data\n",
        "train_word2vec.head(5)"
      ],
      "execution_count": null,
      "outputs": [
        {
          "output_type": "execute_result",
          "data": {
            "text/html": [
              "<div>\n",
              "<style scoped>\n",
              "    .dataframe tbody tr th:only-of-type {\n",
              "        vertical-align: middle;\n",
              "    }\n",
              "\n",
              "    .dataframe tbody tr th {\n",
              "        vertical-align: top;\n",
              "    }\n",
              "\n",
              "    .dataframe thead th {\n",
              "        text-align: right;\n",
              "    }\n",
              "</style>\n",
              "<table border=\"1\" class=\"dataframe\">\n",
              "  <thead>\n",
              "    <tr style=\"text-align: right;\">\n",
              "      <th></th>\n",
              "      <th>id</th>\n",
              "      <th>premise</th>\n",
              "      <th>hypothesis</th>\n",
              "      <th>lang_abv</th>\n",
              "      <th>language</th>\n",
              "      <th>label</th>\n",
              "      <th>combined</th>\n",
              "      <th>vector_tfdif</th>\n",
              "      <th>spacy_data</th>\n",
              "    </tr>\n",
              "  </thead>\n",
              "  <tbody>\n",
              "    <tr>\n",
              "      <th>0</th>\n",
              "      <td>5130fd2cb5</td>\n",
              "      <td>and these comments were considered in formulat...</td>\n",
              "      <td>The rules developed in the interim were put to...</td>\n",
              "      <td>en</td>\n",
              "      <td>English</td>\n",
              "      <td>0</td>\n",
              "      <td>[and these comment were considered in formulat...</td>\n",
              "      <td>[0.7071067811865476, 0.7071067811865476]</td>\n",
              "      <td>[and, these, comment, were, considered, in, fo...</td>\n",
              "    </tr>\n",
              "    <tr>\n",
              "      <th>1</th>\n",
              "      <td>5b72532a0b</td>\n",
              "      <td>These are issues that we wrestle with in pract...</td>\n",
              "      <td>Practice groups are not permitted to work on t...</td>\n",
              "      <td>en</td>\n",
              "      <td>English</td>\n",
              "      <td>2</td>\n",
              "      <td>[these are issue that we wrestle with in pract...</td>\n",
              "      <td>[0.7071067811865475, 0.7071067811865475]</td>\n",
              "      <td>[these, are, issue, that, we, wrestle, with, i...</td>\n",
              "    </tr>\n",
              "    <tr>\n",
              "      <th>2</th>\n",
              "      <td>5622f0c60b</td>\n",
              "      <td>you know they can't really defend themselves l...</td>\n",
              "      <td>They can't defend themselves because of their ...</td>\n",
              "      <td>en</td>\n",
              "      <td>English</td>\n",
              "      <td>0</td>\n",
              "      <td>[you know they can really defend themselves li...</td>\n",
              "      <td>[0.7071067811865475, 0.7071067811865475]</td>\n",
              "      <td>[you, know, they, can, really, defend, themsel...</td>\n",
              "    </tr>\n",
              "    <tr>\n",
              "      <th>3</th>\n",
              "      <td>fdcd1bd867</td>\n",
              "      <td>From Cockpit Country to St. Ann's Bay</td>\n",
              "      <td>From St. Ann's Bay to Cockpit Country.</td>\n",
              "      <td>en</td>\n",
              "      <td>English</td>\n",
              "      <td>2</td>\n",
              "      <td>[from cockpit country to st ann bay from st an...</td>\n",
              "      <td>[0.7071067811865475, 0.7071067811865475]</td>\n",
              "      <td>[from, cockpit, country, to, st, ann, bay, fro...</td>\n",
              "    </tr>\n",
              "    <tr>\n",
              "      <th>4</th>\n",
              "      <td>7cfb3d272c</td>\n",
              "      <td>Look, it's your skin, but you're going to be i...</td>\n",
              "      <td>The boss will fire you if he sees you slacking...</td>\n",
              "      <td>en</td>\n",
              "      <td>English</td>\n",
              "      <td>1</td>\n",
              "      <td>[look it your skin but you re going to be in t...</td>\n",
              "      <td>[0.4472135954999579, 0.8944271909999159]</td>\n",
              "      <td>[look, it, your, skin, but, you, re, going, to...</td>\n",
              "    </tr>\n",
              "  </tbody>\n",
              "</table>\n",
              "</div>"
            ],
            "text/plain": [
              "           id  ...                                         spacy_data\n",
              "0  5130fd2cb5  ...  [and, these, comment, were, considered, in, fo...\n",
              "1  5b72532a0b  ...  [these, are, issue, that, we, wrestle, with, i...\n",
              "2  5622f0c60b  ...  [you, know, they, can, really, defend, themsel...\n",
              "3  fdcd1bd867  ...  [from, cockpit, country, to, st, ann, bay, fro...\n",
              "4  7cfb3d272c  ...  [look, it, your, skin, but, you, re, going, to...\n",
              "\n",
              "[5 rows x 9 columns]"
            ]
          },
          "metadata": {
            "tags": []
          },
          "execution_count": 262
        }
      ]
    },
    {
      "cell_type": "code",
      "metadata": {
        "colab": {
          "base_uri": "https://localhost:8080/"
        },
        "id": "uRNd4RR2GT4k",
        "outputId": "efbb878d-534c-4140-e491-4690bbcec0f9"
      },
      "source": [
        "import numpy as np\n",
        "word2vec_data_vec = []\n",
        "for j in range(len(train_word2vec[\"spacy_data\"])):\n",
        "    vec = []\n",
        "    for i in range(len(train_word2vec[\"spacy_data\"][j])):\n",
        "        if word2vec_data[j][i] in model_word2vec.vocab:\n",
        "            a = np.array(model_word2vec.get_vector(word2vec_data[j][i]))\n",
        "            vec.append(a)\n",
        "    vec = np.array(vec)\n",
        "    vec_average = np.average(vec, axis=0)\n",
        "    word2vec_data_vec.append(vec_average)\n",
        "print(\"Length of word2vec_data_vec: \", len(word2vec_data_vec))"
      ],
      "execution_count": null,
      "outputs": [
        {
          "output_type": "stream",
          "text": [
            "/usr/local/lib/python3.7/dist-packages/numpy/lib/function_base.py:380: RuntimeWarning: Mean of empty slice.\n",
            "  avg = a.mean(axis)\n",
            "/usr/local/lib/python3.7/dist-packages/numpy/core/_methods.py:170: RuntimeWarning: invalid value encountered in double_scalars\n",
            "  ret = ret.dtype.type(ret / rcount)\n"
          ],
          "name": "stderr"
        },
        {
          "output_type": "stream",
          "text": [
            "Length of word2vec_data_vec:  6870\n"
          ],
          "name": "stdout"
        }
      ]
    },
    {
      "cell_type": "code",
      "metadata": {
        "colab": {
          "base_uri": "https://localhost:8080/"
        },
        "id": "KJeKfahEcpvO",
        "outputId": "f217f28f-13c2-49bc-f554-7758b72cbed3"
      },
      "source": [
        "nan_index = []\n",
        "for i in range(len(word2vec_data_vec)):\n",
        "  if str(word2vec_data_vec[i]) == \"nan\":\n",
        "    print(word2vec_data_vec[i], i)\n",
        "    nan_index.append(i)\n",
        "print(\"All nan index: \", nan_index)"
      ],
      "execution_count": null,
      "outputs": [
        {
          "output_type": "stream",
          "text": [
            "nan 110\n",
            "nan 446\n",
            "All nan index:  [110, 446]\n"
          ],
          "name": "stdout"
        }
      ]
    },
    {
      "cell_type": "code",
      "metadata": {
        "colab": {
          "base_uri": "https://localhost:8080/",
          "height": 374
        },
        "id": "HfWU36vGJiR5",
        "outputId": "4ab148ed-633f-49af-da7a-51e9e249900a"
      },
      "source": [
        "word2vec_data_vec = [i for j, i in enumerate(word2vec_data_vec) if j not in nan_index]\n",
        "\n",
        "for i in range(len(nan_index)):\n",
        "  train_word2vec = train_word2vec.drop(nan_index[i], axis = 0)\n",
        "\n",
        "print(\"Length of data after: \", len(word2vec_data_vec), len(train_word2vec[\"spacy_data\"]))\n",
        "\n",
        "new_id = [i for i in range(len(train_word2vec['id']))]\n",
        "train_word2vec.index = new_id\n",
        "\n",
        "train_word2vec[\"word2vec_vector\"] = word2vec_data_vec\n",
        "train_word2vec.head(5)"
      ],
      "execution_count": null,
      "outputs": [
        {
          "output_type": "stream",
          "text": [
            "Length of data after:  6868 6868\n"
          ],
          "name": "stdout"
        },
        {
          "output_type": "execute_result",
          "data": {
            "text/html": [
              "<div>\n",
              "<style scoped>\n",
              "    .dataframe tbody tr th:only-of-type {\n",
              "        vertical-align: middle;\n",
              "    }\n",
              "\n",
              "    .dataframe tbody tr th {\n",
              "        vertical-align: top;\n",
              "    }\n",
              "\n",
              "    .dataframe thead th {\n",
              "        text-align: right;\n",
              "    }\n",
              "</style>\n",
              "<table border=\"1\" class=\"dataframe\">\n",
              "  <thead>\n",
              "    <tr style=\"text-align: right;\">\n",
              "      <th></th>\n",
              "      <th>id</th>\n",
              "      <th>premise</th>\n",
              "      <th>hypothesis</th>\n",
              "      <th>lang_abv</th>\n",
              "      <th>language</th>\n",
              "      <th>label</th>\n",
              "      <th>combined</th>\n",
              "      <th>vector_tfdif</th>\n",
              "      <th>spacy_data</th>\n",
              "      <th>word2vec_vector</th>\n",
              "    </tr>\n",
              "  </thead>\n",
              "  <tbody>\n",
              "    <tr>\n",
              "      <th>0</th>\n",
              "      <td>5130fd2cb5</td>\n",
              "      <td>and these comments were considered in formulat...</td>\n",
              "      <td>The rules developed in the interim were put to...</td>\n",
              "      <td>en</td>\n",
              "      <td>English</td>\n",
              "      <td>0</td>\n",
              "      <td>[and these comment were considered in formulat...</td>\n",
              "      <td>[0.7071067811865476, 0.7071067811865476]</td>\n",
              "      <td>[and, these, comment, were, considered, in, fo...</td>\n",
              "      <td>[-0.04960566, 0.04010275, 0.043578107, 0.02746...</td>\n",
              "    </tr>\n",
              "    <tr>\n",
              "      <th>1</th>\n",
              "      <td>5b72532a0b</td>\n",
              "      <td>These are issues that we wrestle with in pract...</td>\n",
              "      <td>Practice groups are not permitted to work on t...</td>\n",
              "      <td>en</td>\n",
              "      <td>English</td>\n",
              "      <td>2</td>\n",
              "      <td>[these are issue that we wrestle with in pract...</td>\n",
              "      <td>[0.7071067811865475, 0.7071067811865475]</td>\n",
              "      <td>[these, are, issue, that, we, wrestle, with, i...</td>\n",
              "      <td>[0.007223378, 0.014515752, 0.004139776, 0.0947...</td>\n",
              "    </tr>\n",
              "    <tr>\n",
              "      <th>2</th>\n",
              "      <td>5622f0c60b</td>\n",
              "      <td>you know they can't really defend themselves l...</td>\n",
              "      <td>They can't defend themselves because of their ...</td>\n",
              "      <td>en</td>\n",
              "      <td>English</td>\n",
              "      <td>0</td>\n",
              "      <td>[you know they can really defend themselves li...</td>\n",
              "      <td>[0.7071067811865475, 0.7071067811865475]</td>\n",
              "      <td>[you, know, they, can, really, defend, themsel...</td>\n",
              "      <td>[0.091822304, 0.056259155, 0.0060011544, 0.133...</td>\n",
              "    </tr>\n",
              "    <tr>\n",
              "      <th>3</th>\n",
              "      <td>fdcd1bd867</td>\n",
              "      <td>From Cockpit Country to St. Ann's Bay</td>\n",
              "      <td>From St. Ann's Bay to Cockpit Country.</td>\n",
              "      <td>en</td>\n",
              "      <td>English</td>\n",
              "      <td>2</td>\n",
              "      <td>[from cockpit country to st ann bay from st an...</td>\n",
              "      <td>[0.7071067811865475, 0.7071067811865475]</td>\n",
              "      <td>[from, cockpit, country, to, st, ann, bay, fro...</td>\n",
              "      <td>[-0.026529947, 0.078828335, -0.007405599, -0.0...</td>\n",
              "    </tr>\n",
              "    <tr>\n",
              "      <th>4</th>\n",
              "      <td>7cfb3d272c</td>\n",
              "      <td>Look, it's your skin, but you're going to be i...</td>\n",
              "      <td>The boss will fire you if he sees you slacking...</td>\n",
              "      <td>en</td>\n",
              "      <td>English</td>\n",
              "      <td>1</td>\n",
              "      <td>[look it your skin but you re going to be in t...</td>\n",
              "      <td>[0.4472135954999579, 0.8944271909999159]</td>\n",
              "      <td>[look, it, your, skin, but, you, re, going, to...</td>\n",
              "      <td>[0.07044161, 0.05802147, 0.029787503, 0.140671...</td>\n",
              "    </tr>\n",
              "  </tbody>\n",
              "</table>\n",
              "</div>"
            ],
            "text/plain": [
              "           id  ...                                    word2vec_vector\n",
              "0  5130fd2cb5  ...  [-0.04960566, 0.04010275, 0.043578107, 0.02746...\n",
              "1  5b72532a0b  ...  [0.007223378, 0.014515752, 0.004139776, 0.0947...\n",
              "2  5622f0c60b  ...  [0.091822304, 0.056259155, 0.0060011544, 0.133...\n",
              "3  fdcd1bd867  ...  [-0.026529947, 0.078828335, -0.007405599, -0.0...\n",
              "4  7cfb3d272c  ...  [0.07044161, 0.05802147, 0.029787503, 0.140671...\n",
              "\n",
              "[5 rows x 10 columns]"
            ]
          },
          "metadata": {
            "tags": []
          },
          "execution_count": 265
        }
      ]
    },
    {
      "cell_type": "code",
      "metadata": {
        "colab": {
          "base_uri": "https://localhost:8080/"
        },
        "id": "hSgqIaasn0ZO",
        "outputId": "808f9443-74c4-4899-8fb2-b79c90552e44"
      },
      "source": [
        "from keras.utils import to_categorical\n",
        "\n",
        "X_w2v, y_w2v = train_word2vec['word2vec_vector'].values.tolist(), train_word2vec['label'].values.tolist()\n",
        "X_w2v = np.array(X_w2v)\n",
        "y_w2v = np.array(y_w2v)\n",
        "y_w2v = to_categorical(y_w2v, 3)\n",
        "print(\"Length of data: \", X_w2v.shape)\n",
        "print(\"Length of label: \", y_w2v.shape)\n",
        "\n",
        "X_train_w2v, X_test_w2v, Y_train_w2v, Y_test_w2v = train_test_split(X_w2v, y_w2v, test_size=0.2, random_state=1)\n",
        "print(\"Shape of train data: \", X_train_w2v.shape,Y_train_w2v.shape)\n",
        "print(\"Shape of test data: \", X_test_w2v.shape,Y_test_w2v.shape)"
      ],
      "execution_count": null,
      "outputs": [
        {
          "output_type": "stream",
          "text": [
            "Length of data:  (6868, 300)\n",
            "Length of label:  (6868, 3)\n",
            "Shape of train data:  (5494, 300) (5494, 3)\n",
            "Shape of test data:  (1374, 300) (1374, 3)\n"
          ],
          "name": "stdout"
        }
      ]
    },
    {
      "cell_type": "code",
      "metadata": {
        "colab": {
          "base_uri": "https://localhost:8080/",
          "height": 1000
        },
        "id": "Ux5US27HoVap",
        "outputId": "593b3052-512f-43cd-9b99-a401222ac5d5"
      },
      "source": [
        "top_words = 1000\n",
        "max_review_length = 300\n",
        "embedding_vecor_length = 300\n",
        "model = Sequential()\n",
        "model.add(Embedding(top_words, embedding_vecor_length, input_length=max_review_length))\n",
        "model.add(Conv1D(filters=32, kernel_size=3, padding='same', activation='relu'))\n",
        "model.add(MaxPooling1D(pool_size=2))\n",
        "model.add(LSTM(100))\n",
        "model.add(Dense(3, activation='sigmoid'))\n",
        "model.compile(loss='binary_crossentropy', optimizer='adam', metrics=['accuracy'])\n",
        "print(model.summary())\n",
        "\n",
        "EPOCHS = 15\n",
        "BATCH_SIZE = 64\n",
        "history_se2se = model.fit(X_train_w2v, Y_train_w2v, epochs=EPOCHS, batch_size=BATCH_SIZE)\n",
        "# Final evaluation of the model\n",
        "scores = model.evaluate(X_test_w2v, Y_test_w2v, verbose=0)\n",
        "print(\"Accuracy: %.2f%%\" % (scores[1]*100))\n",
        "\n",
        "plt.plot(history_se2se.history['accuracy'])\n",
        "plt.title('Model accuracy')\n",
        "plt.ylabel('Accuracy')\n",
        "plt.xlabel('Epoch')\n",
        "plt.legend(['Train', 'Test'], loc='upper left')\n",
        "plt.show()\n",
        "\n",
        "plt.plot(history_se2se.history['loss'])\n",
        "plt.title('Model loss')\n",
        "plt.ylabel('Loss')\n",
        "plt.xlabel('Epoch')\n",
        "plt.legend(['Train', 'Test'], loc='upper left')\n",
        "plt.show()"
      ],
      "execution_count": null,
      "outputs": [
        {
          "output_type": "stream",
          "text": [
            "Model: \"sequential_17\"\n",
            "_________________________________________________________________\n",
            "Layer (type)                 Output Shape              Param #   \n",
            "=================================================================\n",
            "embedding_17 (Embedding)     (None, 300, 300)          300000    \n",
            "_________________________________________________________________\n",
            "conv1d_11 (Conv1D)           (None, 300, 32)           28832     \n",
            "_________________________________________________________________\n",
            "max_pooling1d_10 (MaxPooling (None, 150, 32)           0         \n",
            "_________________________________________________________________\n",
            "lstm_15 (LSTM)               (None, 100)               53200     \n",
            "_________________________________________________________________\n",
            "dense_15 (Dense)             (None, 3)                 303       \n",
            "=================================================================\n",
            "Total params: 382,335\n",
            "Trainable params: 382,335\n",
            "Non-trainable params: 0\n",
            "_________________________________________________________________\n",
            "None\n",
            "Epoch 1/15\n",
            "86/86 [==============================] - 4s 27ms/step - loss: 0.6479 - accuracy: 0.3322\n",
            "Epoch 2/15\n",
            "86/86 [==============================] - 2s 26ms/step - loss: 0.6367 - accuracy: 0.3454\n",
            "Epoch 3/15\n",
            "86/86 [==============================] - 2s 26ms/step - loss: 0.6364 - accuracy: 0.3558\n",
            "Epoch 4/15\n",
            "86/86 [==============================] - 2s 26ms/step - loss: 0.6372 - accuracy: 0.3405\n",
            "Epoch 5/15\n",
            "86/86 [==============================] - 2s 26ms/step - loss: 0.6362 - accuracy: 0.3536\n",
            "Epoch 6/15\n",
            "86/86 [==============================] - 2s 25ms/step - loss: 0.6362 - accuracy: 0.3527\n",
            "Epoch 7/15\n",
            "86/86 [==============================] - 2s 25ms/step - loss: 0.6364 - accuracy: 0.3389\n",
            "Epoch 8/15\n",
            "86/86 [==============================] - 2s 25ms/step - loss: 0.6360 - accuracy: 0.3615\n",
            "Epoch 9/15\n",
            "86/86 [==============================] - 2s 24ms/step - loss: 0.6365 - accuracy: 0.3403\n",
            "Epoch 10/15\n",
            "86/86 [==============================] - 2s 24ms/step - loss: 0.6362 - accuracy: 0.3519\n",
            "Epoch 11/15\n",
            "86/86 [==============================] - 2s 24ms/step - loss: 0.6368 - accuracy: 0.3279\n",
            "Epoch 12/15\n",
            "86/86 [==============================] - 2s 24ms/step - loss: 0.6362 - accuracy: 0.3554\n",
            "Epoch 13/15\n",
            "86/86 [==============================] - 2s 25ms/step - loss: 0.6362 - accuracy: 0.3441\n",
            "Epoch 14/15\n",
            "86/86 [==============================] - 2s 24ms/step - loss: 0.6362 - accuracy: 0.3535\n",
            "Epoch 15/15\n",
            "86/86 [==============================] - 2s 24ms/step - loss: 0.6363 - accuracy: 0.3513\n",
            "Accuracy: 35.52%\n"
          ],
          "name": "stdout"
        },
        {
          "output_type": "display_data",
          "data": {
            "image/png": "[encoded data removed]",
            "text/plain": [
              "<Figure size 432x288 with 1 Axes>"
            ]
          },
          "metadata": {
            "tags": [],
            "needs_background": "light"
          }
        },
        {
          "output_type": "display_data",
          "data": {
            "image/png": "[encoded data removed]",
            "text/plain": [
              "<Figure size 432x288 with 1 Axes>"
            ]
          },
          "metadata": {
            "tags": [],
            "needs_background": "light"
          }
        }
      ]
    },
    {
      "cell_type": "markdown",
      "metadata": {
        "id": "IDtdnTk4AkLU"
      },
      "source": [
        "# 4. Use BERT to build the model"
      ]
    },
    {
      "cell_type": "markdown",
      "metadata": {
        "id": "C8vRzH0j7Y8M"
      },
      "source": [
        "## *** Prepare data for training(BERT)"
      ]
    },
    {
      "cell_type": "code",
      "metadata": {
        "colab": {
          "base_uri": "https://localhost:8080/"
        },
        "id": "pFJTnz5X7ZH0",
        "outputId": "f89a5ac7-f67e-49e7-e50e-e9626bdea977"
      },
      "source": [
        "# prepare data for training and testing\n",
        "total_train = train.drop(columns=['id'])\n",
        "shuffled_data = shuffle(total_train).reset_index(drop = True)\n",
        "X, y = shuffled_data[['premise', 'hypothesis']].values.tolist(), shuffled_data['label']\n",
        "print(\"Length of data: \", len(X))\n",
        "print(\"Length of label: \", len(y))\n",
        "\n",
        "x_train, x_valid, y_train, y_valid = train_test_split(X, y, test_size=0.25, random_state=2020)\n",
        "print(\"Length of train data: \", len(x_train))\n",
        "print(\"Length of train label: \", len(y_train))\n",
        "\n",
        "print(\"Length of valid data: \", len(x_valid))\n",
        "print(\"Length of valid label: \", len(y_valid))\n",
        "\n",
        "print(\"Example of x_train data: \", x_train[0])\n",
        "print(\"Example of y_train data: \", y_train[0])"
      ],
      "execution_count": null,
      "outputs": [
        {
          "output_type": "stream",
          "text": [
            "Length of data:  12120\n",
            "Length of label:  12120\n",
            "Length of train data:  9090\n",
            "Length of train label:  9090\n",
            "Length of valid data:  3030\n",
            "Length of valid label:  3030\n",
            "Example of x_train data:  ['Do you think Mrs. Inglethorp made a will leaving all her money to Miss Howard? I asked in a low voice, with some curiosity. ', 'I yelled at the top of my lungs.']\n",
            "Example of y_train data:  0\n"
          ],
          "name": "stdout"
        }
      ]
    },
    {
      "cell_type": "code",
      "metadata": {
        "colab": {
          "base_uri": "https://localhost:8080/"
        },
        "id": "Hq-W_tX-N1zA",
        "outputId": "b5dc3dd3-049d-4591-885b-7fe78cc21782"
      },
      "source": [
        "# Detect hardware, return appropriate distribution strategy\n",
        "try:\n",
        "    # TPU detection. No parameters necessary if TPU_NAME environment variable is\n",
        "    # set: this is always the case on Kaggle.\n",
        "    tpu = tf.distribute.cluster_resolver.TPUClusterResolver()\n",
        "    print('Running on TPU ', tpu.master())\n",
        "except ValueError:\n",
        "    tpu = None\n",
        "\n",
        "if tpu:\n",
        "    tf.config.experimental_connect_to_cluster(tpu)\n",
        "    tf.tpu.experimental.initialize_tpu_system(tpu)\n",
        "    strategy = tf.distribute.experimental.TPUStrategy(tpu)\n",
        "else:\n",
        "    # Default distribution strategy in Tensorflow. Works on CPU and single GPU.\n",
        "    strategy = tf.distribute.get_strategy()\n",
        "\n",
        "print(\"REPLICAS: \", strategy.num_replicas_in_sync)"
      ],
      "execution_count": null,
      "outputs": [
        {
          "output_type": "stream",
          "text": [
            "REPLICAS:  1\n"
          ],
          "name": "stdout"
        }
      ]
    },
    {
      "cell_type": "code",
      "metadata": {
        "colab": {
          "base_uri": "https://localhost:8080/",
          "height": 213,
          "referenced_widgets": [
            "1e0ca2d1013f48f28413b865324153a7",
            "52219ff29bf54fd2848bd7cdab297625",
            "62621a10b1c8449d9d7af2ff3f1c9652",
            "439b806ab503435e93e046184ee49d2a",
            "c6799c7addf448b59e02218da0f40f06",
            "bdb5e5175b6a47abb4de95d8968b86f4",
            "a37be78136e847b2a60a55fc433cb19c",
            "29bcb9a690454d6cac449798bbd48a16",
            "6435b0fd19eb4d71a3181b0d92bc1ea8",
            "0acd2a776b514586a2862a6ec5b133f8",
            "97ce2ee5a2cd4d4fa009b0f13ad79f36",
            "dc264dca2d4e4104bb633b639d4c15ef",
            "20f6197ef9dc47338bd91928cba5d295",
            "27018a0194f34937ba816bc29e7c247a",
            "fb9ec376a61445618c8c235ccc802391",
            "aa2757571384404491ecea7042752813",
            "3455549074c947c3ba1ccd421381b489",
            "523840f1f86642488d94132a639632af",
            "523d6c1104f245c9af7e29680430ac1c",
            "be079d4e6448491fbdbbdc19716be257",
            "44a3cb8960b24c599ed9f0a20806941d",
            "9ea91f5a72e545bda60d40179d6c0492",
            "f672cffb6b364d1ea86d0dd3285f8002",
            "91c9055a1ef947c7a2703f04423dde66",
            "b805dfa29dec43388b6bfeb797112591",
            "6a4a84ddb5b4436eacaae47fd13c1aaa",
            "19db2db754954046b54e1cfbe77630cb",
            "3dc32b6ca71d4e7980def167b1199074",
            "2b68e91d5b7f4d679df93eb71583cd36",
            "b16ae843e4ed4ce5836b54370bf76e55",
            "172e0ecc7bce450792022222be478920",
            "4ac1109f139843d2a5c972b3ac33b0eb"
          ]
        },
        "id": "VeSWt6eGN-_f",
        "outputId": "8e8d603a-38a0-4a96-ddee-137fa66acd0b"
      },
      "source": [
        "MODEL = 'joeddav/xlm-roberta-large-xnli'\n",
        "\n",
        "EPOCHS = 4\n",
        "MAXLEN = 120\n",
        "\n",
        "BATCH_SIZE = 16 * strategy.num_replicas_in_sync\n",
        "\n",
        "tokenizer = AutoTokenizer.from_pretrained(MODEL)\n",
        "auto = tf.data.experimental.AUTOTUNE"
      ],
      "execution_count": null,
      "outputs": [
        {
          "output_type": "display_data",
          "data": {
            "application/vnd.jupyter.widget-view+json": {
              "model_id": "1e0ca2d1013f48f28413b865324153a7",
              "version_major": 2,
              "version_minor": 0
            },
            "text/plain": [
              "HBox(children=(FloatProgress(value=0.0, description='Downloading', max=734.0, style=ProgressStyle(description_…"
            ]
          },
          "metadata": {
            "tags": []
          }
        },
        {
          "output_type": "stream",
          "text": [
            "\n"
          ],
          "name": "stdout"
        },
        {
          "output_type": "display_data",
          "data": {
            "application/vnd.jupyter.widget-view+json": {
              "model_id": "6435b0fd19eb4d71a3181b0d92bc1ea8",
              "version_major": 2,
              "version_minor": 0
            },
            "text/plain": [
              "HBox(children=(FloatProgress(value=0.0, description='Downloading', max=5069051.0, style=ProgressStyle(descript…"
            ]
          },
          "metadata": {
            "tags": []
          }
        },
        {
          "output_type": "stream",
          "text": [
            "\n"
          ],
          "name": "stdout"
        },
        {
          "output_type": "display_data",
          "data": {
            "application/vnd.jupyter.widget-view+json": {
              "model_id": "3455549074c947c3ba1ccd421381b489",
              "version_major": 2,
              "version_minor": 0
            },
            "text/plain": [
              "HBox(children=(FloatProgress(value=0.0, description='Downloading', max=150.0, style=ProgressStyle(description_…"
            ]
          },
          "metadata": {
            "tags": []
          }
        },
        {
          "output_type": "stream",
          "text": [
            "\n"
          ],
          "name": "stdout"
        },
        {
          "output_type": "display_data",
          "data": {
            "application/vnd.jupyter.widget-view+json": {
              "model_id": "b805dfa29dec43388b6bfeb797112591",
              "version_major": 2,
              "version_minor": 0
            },
            "text/plain": [
              "HBox(children=(FloatProgress(value=0.0, description='Downloading', max=25.0, style=ProgressStyle(description_w…"
            ]
          },
          "metadata": {
            "tags": []
          }
        },
        {
          "output_type": "stream",
          "text": [
            "\n"
          ],
          "name": "stdout"
        }
      ]
    },
    {
      "cell_type": "code",
      "metadata": {
        "id": "HjqTGDE8OH7Q"
      },
      "source": [
        "def create_model(transformer_layer,learning_rate):\n",
        "    input_ids = Input(shape = (MAXLEN,), dtype = tf.int32)\n",
        "    #input_masks = Input(shape = (MAXLEN,), dtype = tf.int32)\n",
        "\n",
        "    #insert roberta layer\n",
        "    roberta = TFAutoModel.from_pretrained(transformer_layer)\n",
        "    roberta = roberta([input_ids])[0]\n",
        "\n",
        "    out = GlobalAveragePooling1D()(roberta)\n",
        "\n",
        "    #add our softmax layer\n",
        "    out = Dense(3, activation = 'softmax')(out)\n",
        "\n",
        "    #assemble model and compile\n",
        "    model = Model(inputs = input_ids, outputs = out)\n",
        "    model.compile(\n",
        "                    optimizer = Adam(lr = learning_rate), \n",
        "                    loss = 'sparse_categorical_crossentropy', \n",
        "                    metrics = ['accuracy'])\n",
        "    return model\n",
        "\n",
        "\n",
        "def tokeniZer(text,tokenizer):\n",
        "    # tokenize\n",
        "    encoded = tokenizer.batch_encode_plus(text, padding=True, max_length=MAXLEN, truncation=True)\n",
        "\n",
        "    return np.array(encoded['input_ids'])"
      ],
      "execution_count": null,
      "outputs": []
    },
    {
      "cell_type": "code",
      "metadata": {
        "id": "I9lkRWEvQ8P-"
      },
      "source": [
        "x_train_token = tokeniZer(x_train,tokenizer)\n",
        "x_valid_token = tokeniZer(x_valid,tokenizer)\n",
        "x_test_token  = tokeniZer(test[['premise', 'hypothesis']].values.tolist(),tokenizer)"
      ],
      "execution_count": null,
      "outputs": []
    },
    {
      "cell_type": "code",
      "metadata": {
        "colab": {
          "base_uri": "https://localhost:8080/"
        },
        "id": "VsR9SIlelJ2C",
        "outputId": "c383a70a-1d03-4787-b695-38e6b619d710"
      },
      "source": [
        "print(\"x_train example after using xlm model: \", len(x_train_token[0]), '\\n', x_train_token[0])"
      ],
      "execution_count": null,
      "outputs": [
        {
          "output_type": "stream",
          "text": [
            "x_train example after using xlm model:  120 \n",
            " [     0   4322  59351      6  69269 200085  11502   2435   1293      4\n",
            "  10399  41126   1480  45718      4  35056  74707  97885   1920  83411\n",
            "  19354 120116    125      2      2 110673  19843   1142 137524  45278\n",
            "   4050    471  77711    471   9917      4 130227  30445  11502   2435\n",
            " 170044 206004    976    871  79867 118643  11526    125      2      1\n",
            "      1      1      1      1      1      1      1      1      1      1\n",
            "      1      1      1      1      1      1      1      1      1      1\n",
            "      1      1      1      1      1      1      1      1      1      1\n",
            "      1      1      1      1      1      1      1      1      1      1\n",
            "      1      1      1      1      1      1      1      1      1      1\n",
            "      1      1      1      1      1      1      1      1      1      1\n",
            "      1      1      1      1      1      1      1      1      1      1]\n"
          ],
          "name": "stdout"
        }
      ]
    },
    {
      "cell_type": "code",
      "metadata": {
        "id": "RFS7d5f_RGIJ"
      },
      "source": [
        "# datasets\n",
        "def build_dataset(x, y, mode, batch_size):\n",
        "    if mode == \"train\":\n",
        "        dataset = (\n",
        "            tf.data.Dataset\n",
        "            .from_tensor_slices((x, y))\n",
        "            .repeat()\n",
        "            .shuffle(2048)\n",
        "            .batch(batch_size)\n",
        "            .prefetch(auto)\n",
        "        )\n",
        "    elif mode == \"valid\":\n",
        "        dataset = (\n",
        "            tf.data.Dataset\n",
        "            .from_tensor_slices((x, y))\n",
        "            .batch(BATCH_SIZE)\n",
        "            .cache()\n",
        "            .prefetch(auto)\n",
        "        )\n",
        "    elif mode == \"test\":\n",
        "        dataset = (\n",
        "            tf.data.Dataset\n",
        "            .from_tensor_slices(x)\n",
        "            .batch(BATCH_SIZE)\n",
        "        )\n",
        "    else:\n",
        "        raise NotImplementedError\n",
        "    return dataset"
      ],
      "execution_count": null,
      "outputs": []
    },
    {
      "cell_type": "code",
      "metadata": {
        "id": "7pLLdy6CRJyj"
      },
      "source": [
        "train_dataset = build_dataset(x_train_token, y_train, \"train\", BATCH_SIZE)\n",
        "valid_dataset = build_dataset(x_valid_token, y_valid, \"valid\", BATCH_SIZE)\n",
        "test_dataset  = build_dataset(x_test_token, None, \"test\", BATCH_SIZE)"
      ],
      "execution_count": null,
      "outputs": []
    },
    {
      "cell_type": "code",
      "metadata": {
        "colab": {
          "base_uri": "https://localhost:8080/"
        },
        "id": "BgoqD8OBum_7",
        "outputId": "96314752-ac6f-4529-debc-3a62bd741ffc"
      },
      "source": [
        "print(train_dataset)\n",
        "print(valid_dataset)\n",
        "print(test_dataset)"
      ],
      "execution_count": null,
      "outputs": [
        {
          "output_type": "stream",
          "text": [
            "<PrefetchDataset shapes: ((None, 120), (None,)), types: (tf.int64, tf.int64)>\n",
            "<PrefetchDataset shapes: ((None, 120), (None,)), types: (tf.int64, tf.int64)>\n",
            "<BatchDataset shapes: (None, 120), types: tf.int64>\n"
          ],
          "name": "stdout"
        }
      ]
    },
    {
      "cell_type": "code",
      "metadata": {
        "id": "h3B1XP_4RMGc"
      },
      "source": [
        "def create_xlm(transformer_layer, random_seed, learning_rate):\n",
        "    tf.keras.backend.clear_session()\n",
        "    tf.random.set_seed(random_seed)\n",
        "    with strategy.scope():\n",
        "        model = create_model(transformer_layer,learning_rate)\n",
        "    model.summary()    \n",
        "    return model"
      ],
      "execution_count": null,
      "outputs": []
    },
    {
      "cell_type": "code",
      "metadata": {
        "colab": {
          "base_uri": "https://localhost:8080/",
          "height": 443,
          "referenced_widgets": [
            "b2fb8b5d9f6c4a0881edc240842e8870",
            "f7242e15bff246a793cd2ea98ea73731",
            "b93c09cc199e4b89919c1d362b43936d",
            "47db728dc3da45b8811037e7a5fc1b95",
            "dbe1b41d9bde4bcb8d423067408bfd83",
            "79a2850b6efd48b4a73028a728a6441b",
            "0cbf81a318bc4455b1faad79b40e091c",
            "a235e11fc1714fae9289e061c4a73db1"
          ]
        },
        "id": "ZPf5o5nFRPAS",
        "outputId": "d6eda0a7-bc7b-4d39-adc7-7f3939b2709a"
      },
      "source": [
        "Xlm = create_xlm(MODEL,1124234,1e-5)"
      ],
      "execution_count": null,
      "outputs": [
        {
          "output_type": "display_data",
          "data": {
            "application/vnd.jupyter.widget-view+json": {
              "model_id": "b2fb8b5d9f6c4a0881edc240842e8870",
              "version_major": 2,
              "version_minor": 0
            },
            "text/plain": [
              "HBox(children=(FloatProgress(value=0.0, description='Downloading', max=2244296816.0, style=ProgressStyle(descr…"
            ]
          },
          "metadata": {
            "tags": []
          }
        },
        {
          "output_type": "stream",
          "text": [
            "\n"
          ],
          "name": "stdout"
        },
        {
          "output_type": "stream",
          "text": [
            "Some weights of the model checkpoint at joeddav/xlm-roberta-large-xnli were not used when initializing TFRobertaModel: ['classifier']\n",
            "- This IS expected if you are initializing TFRobertaModel from the checkpoint of a model trained on another task or with another architecture (e.g. initializing a BertForSequenceClassification model from a BertForPretraining model).\n",
            "- This IS NOT expected if you are initializing TFRobertaModel from the checkpoint of a model that you expect to be exactly identical (initializing a BertForSequenceClassification model from a BertForSequenceClassification model).\n",
            "All the weights of TFRobertaModel were initialized from the model checkpoint at joeddav/xlm-roberta-large-xnli.\n",
            "If your task is similar to the task the model of the ckeckpoint was trained on, you can already use TFRobertaModel for predictions without further training.\n"
          ],
          "name": "stderr"
        },
        {
          "output_type": "stream",
          "text": [
            "Model: \"model_2\"\n",
            "_________________________________________________________________\n",
            "Layer (type)                 Output Shape              Param #   \n",
            "=================================================================\n",
            "input_13 (InputLayer)        [(None, 120)]             0         \n",
            "_________________________________________________________________\n",
            "tf_roberta_model (TFRobertaM ((None, 120, 1024), (None 559890432 \n",
            "_________________________________________________________________\n",
            "global_average_pooling1d (Gl (None, 1024)              0         \n",
            "_________________________________________________________________\n",
            "dense_2 (Dense)              (None, 3)                 3075      \n",
            "=================================================================\n",
            "Total params: 559,893,507\n",
            "Trainable params: 559,893,507\n",
            "Non-trainable params: 0\n",
            "_________________________________________________________________\n"
          ],
          "name": "stdout"
        }
      ]
    },
    {
      "cell_type": "code",
      "metadata": {
        "colab": {
          "base_uri": "https://localhost:8080/"
        },
        "id": "XuaqalEgRQ8l",
        "outputId": "c08cd02e-1fd7-4a7e-86cd-3ff76e9751eb"
      },
      "source": [
        "callbacks = [tf.keras.callbacks.EarlyStopping(patience = 2, \n",
        "                                              monitor = 'val_loss', \n",
        "                                              restore_best_weights = True, \n",
        "                                              mode = 'min')]\n",
        "\n",
        "steps_per_epoch = len(x_train) // BATCH_SIZE\n",
        "history_xlm = Xlm.fit(train_dataset,\n",
        "                      validation_data=valid_dataset,\n",
        "                      steps_per_epoch=steps_per_epoch,\n",
        "                      epochs = EPOCHS)\n",
        "\n",
        "# history_xlm = Xlm.fit(train_dataset,\n",
        "#                       validation_data=valid_dataset,\n",
        "#                       steps_per_epoch=steps_per_epoch,\n",
        "#                       epochs = EPOCHS,\n",
        "#                       callbacks = callbacks)"
      ],
      "execution_count": null,
      "outputs": [
        {
          "output_type": "stream",
          "text": [
            "Epoch 1/4\n",
            "WARNING:tensorflow:Gradients do not exist for variables ['tf_roberta_model/roberta/pooler/dense/kernel:0', 'tf_roberta_model/roberta/pooler/dense/bias:0'] when minimizing the loss.\n",
            "WARNING:tensorflow:Gradients do not exist for variables ['tf_roberta_model/roberta/pooler/dense/kernel:0', 'tf_roberta_model/roberta/pooler/dense/bias:0'] when minimizing the loss.\n",
            "568/568 [==============================] - 904s 2s/step - loss: 0.3356 - accuracy: 0.8839 - val_loss: 0.2411 - val_accuracy: 0.9195\n",
            "Epoch 2/4\n",
            "568/568 [==============================] - 870s 2s/step - loss: 0.1906 - accuracy: 0.9320 - val_loss: 0.3113 - val_accuracy: 0.9185\n",
            "Epoch 3/4\n",
            "568/568 [==============================] - 870s 2s/step - loss: 0.0890 - accuracy: 0.9696 - val_loss: 0.3623 - val_accuracy: 0.9122\n",
            "Epoch 4/4\n",
            "568/568 [==============================] - 870s 2s/step - loss: 0.0587 - accuracy: 0.9824 - val_loss: 0.4411 - val_accuracy: 0.9129\n"
          ],
          "name": "stdout"
        }
      ]
    },
    {
      "cell_type": "code",
      "metadata": {
        "colab": {
          "base_uri": "https://localhost:8080/",
          "height": 573
        },
        "id": "9vNY0GlZklPO",
        "outputId": "227f850f-da5f-4d58-c310-32ebd412ca39"
      },
      "source": [
        "plt.plot(history_xlm.history['accuracy'])\n",
        "plt.plot(history_xlm.history['val_accuracy'])\n",
        "plt.title('Model accuracy')\n",
        "plt.ylabel('Accuracy')\n",
        "plt.xlabel('Epoch')\n",
        "plt.legend(['Train', 'Test'], loc='upper left')\n",
        "plt.show()\n",
        "\n",
        "# Plot training & validation loss values\n",
        "plt.plot(history_xlm.history['loss'])\n",
        "plt.plot(history_xlm.history['val_loss'])\n",
        "plt.title('Model loss')\n",
        "plt.ylabel('Loss')\n",
        "plt.xlabel('Epoch')\n",
        "plt.legend(['Train', 'Test'], loc='upper left')\n",
        "plt.show()"
      ],
      "execution_count": null,
      "outputs": [
        {
          "output_type": "display_data",
          "data": {
            "image/png": "[encoded data removed]",
            "text/plain": [
              "<Figure size 432x288 with 1 Axes>"
            ]
          },
          "metadata": {
            "tags": []
          }
        },
        {
          "output_type": "display_data",
          "data": {
            "image/png": "[encoded data removed]",
            "text/plain": [
              "<Figure size 432x288 with 1 Axes>"
            ]
          },
          "metadata": {
            "tags": []
          }
        }
      ]
    },
    {
      "cell_type": "code",
      "metadata": {
        "id": "jDudHVUbumqW"
      },
      "source": [
        "#model predictions\n",
        "predictions_xlm = Xlm.predict(test_dataset)\n",
        "predictions = predictions_xlm\n",
        "final = np.argmax(predictions, axis = 1)    \n",
        "\n",
        "submission = pd.DataFrame()    \n",
        "submission['id'] = test['id']\n",
        "submission['prediction'] = final.astype(np.int32)\n",
        "\n",
        "submission.to_csv('submission_BERT.csv', index = False)"
      ],
      "execution_count": null,
      "outputs": []
    },
    {
      "cell_type": "code",
      "metadata": {
        "colab": {
          "base_uri": "https://localhost:8080/",
          "height": 204
        },
        "id": "jK7bwgMkupZt",
        "outputId": "b1eaf47e-e42c-4089-aea4-4fd3bca9a99c"
      },
      "source": [
        "submission.head()"
      ],
      "execution_count": null,
      "outputs": [
        {
          "output_type": "execute_result",
          "data": {
            "text/html": [
              "<div>\n",
              "<style scoped>\n",
              "    .dataframe tbody tr th:only-of-type {\n",
              "        vertical-align: middle;\n",
              "    }\n",
              "\n",
              "    .dataframe tbody tr th {\n",
              "        vertical-align: top;\n",
              "    }\n",
              "\n",
              "    .dataframe thead th {\n",
              "        text-align: right;\n",
              "    }\n",
              "</style>\n",
              "<table border=\"1\" class=\"dataframe\">\n",
              "  <thead>\n",
              "    <tr style=\"text-align: right;\">\n",
              "      <th></th>\n",
              "      <th>id</th>\n",
              "      <th>prediction</th>\n",
              "    </tr>\n",
              "  </thead>\n",
              "  <tbody>\n",
              "    <tr>\n",
              "      <th>0</th>\n",
              "      <td>c6d58c3f69</td>\n",
              "      <td>2</td>\n",
              "    </tr>\n",
              "    <tr>\n",
              "      <th>1</th>\n",
              "      <td>cefcc82292</td>\n",
              "      <td>1</td>\n",
              "    </tr>\n",
              "    <tr>\n",
              "      <th>2</th>\n",
              "      <td>e98005252c</td>\n",
              "      <td>0</td>\n",
              "    </tr>\n",
              "    <tr>\n",
              "      <th>3</th>\n",
              "      <td>58518c10ba</td>\n",
              "      <td>1</td>\n",
              "    </tr>\n",
              "    <tr>\n",
              "      <th>4</th>\n",
              "      <td>c32b0d16df</td>\n",
              "      <td>1</td>\n",
              "    </tr>\n",
              "  </tbody>\n",
              "</table>\n",
              "</div>"
            ],
            "text/plain": [
              "           id  prediction\n",
              "0  c6d58c3f69           2\n",
              "1  cefcc82292           1\n",
              "2  e98005252c           0\n",
              "3  58518c10ba           1\n",
              "4  c32b0d16df           1"
            ]
          },
          "metadata": {
            "tags": []
          },
          "execution_count": 21
        }
      ]
    }
  ]
}